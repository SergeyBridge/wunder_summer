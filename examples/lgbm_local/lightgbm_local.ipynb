{
 "cells": [
  {
   "cell_type": "code",
   "execution_count": 2,
   "metadata": {},
   "outputs": [
    {
     "data": {
      "text/html": "        <script type=\"text/javascript\">\n        window.PlotlyConfig = {MathJaxConfig: 'local'};\n        if (window.MathJax) {MathJax.Hub.Config({SVG: {font: \"STIX-Web\"}});}\n        if (typeof require !== 'undefined') {\n        require.undef(\"plotly\");\n        requirejs.config({\n            paths: {\n                'plotly': ['https://cdn.plot.ly/plotly-latest.min']\n            }\n        });\n        require(['plotly'], function(Plotly) {\n            window._Plotly = Plotly;\n        });\n        }\n        </script>\n        "
     },
     "metadata": {},
     "output_type": "display_data"
    },
    {
     "data": {
      "text/html": "        <script type=\"text/javascript\">\n        window.PlotlyConfig = {MathJaxConfig: 'local'};\n        if (window.MathJax) {MathJax.Hub.Config({SVG: {font: \"STIX-Web\"}});}\n        if (typeof require !== 'undefined') {\n        require.undef(\"plotly\");\n        requirejs.config({\n            paths: {\n                'plotly': ['https://cdn.plot.ly/plotly-latest.min']\n            }\n        });\n        require(['plotly'], function(Plotly) {\n            window._Plotly = Plotly;\n        });\n        }\n        </script>\n        "
     },
     "metadata": {},
     "output_type": "display_data"
    }
   ],
   "source": [
    "import sys\n",
    "import numpy as np\n",
    "import pandas as pd\n",
    "import lightgbm as lg\n",
    "from tqdm import tqdm\n",
    "\n",
    "import plotly.graph_objs as go\n",
    "import chart_studio.plotly as iplt\n",
    "\n",
    "# Cufflinks wrapper on plotly\n",
    "import cufflinks\n",
    "from ipywidgets import IntProgress\n",
    "from IPython.display import display\n",
    "\n",
    "# Display all cell outputs\n",
    "from IPython.core.interactiveshell import InteractiveShell\n",
    "InteractiveShell.ast_node_interactivity = 'all'\n",
    "cufflinks.go_offline()\n",
    "\n",
    "pd.set_option(\"display.max_rows\", 150)\n",
    "\n",
    "\n",
    "sys.path.append(\"../../scorer/\")\n",
    "# import orderbook as ob\n",
    "# Чтобы использовать быстрый ордербук раскомментируйте строку:\n",
    "import orderbook_fast as ob\n",
    "\n",
    "\n",
    "\n",
    "SIDE_BID = 0 \n",
    "SIDE_ASK = 1\n",
    "\n",
    "PRINT_EVENTS = 0\n",
    "OB_EVENTS_TOTAL = 0\n",
    "OB_LAST_TRY = 0\n",
    "SNAPSHOTS = 0\n",
    "OB_EVENTS_MEAN = 0"
   ]
  },
  {
   "cell_type": "markdown",
   "metadata": {},
   "source": [
    "## Собираем датасет для тренировки модели"
   ]
  },
  {
   "cell_type": "code",
   "execution_count": 3,
   "metadata": {
    "tags": []
   },
   "outputs": [
    {
     "name": "stderr",
     "output_type": "stream",
     "text": [
      "collecting dataset: 100%|██████████| 10617618/10617618 [15:17<00:00, 11575.71it/s]\n"
     ]
    },
    {
     "name": "stdout",
     "output_type": "stream",
     "text": [
      "Dataset collected: len(X) = 234905\n",
      "******counter*******\n",
      "ob.Action.NEW_CHUNK  10\n",
      "counter 10617618\n",
      "newchunk_counter 161\n",
      "deal_counter 663089\n",
      "PRINT_EVENTS  234905\n",
      "OB_EVENTS_TOTAL 0\n",
      "OB_LAST_TRY 0\n",
      "{10: 161, 1: 5228555, 2: 144862, 0: 4580951, 3: 663089}\n",
      "******counter finished*******\n",
      "CPU times: user 15min 18s, sys: 4.04 s, total: 15min 22s\n",
      "Wall time: 15min 20s\n"
     ]
    }
   ],
   "source": [
    "%%time\n",
    "def get_simple_features_from_orderbook(orderbook, max_index=2 ):\n",
    "    '''\n",
    "        Считаем простые фичи по ордербуку:\n",
    "    '''\n",
    "\n",
    "    global PRINT_EVENTS\n",
    "    global OB_EVENTS_TOTAL\n",
    "    global OB_LAST_TRY\n",
    "    global SNAPSHOTS\n",
    "    global OB_EVENTS_MEAN\n",
    "\n",
    "    PRINT_EVENTS += 1\n",
    "\n",
    "    spread = orderbook.get_best_price(SIDE_ASK) - orderbook.get_best_price(SIDE_BID)\n",
    "    features = [spread]\n",
    "    for side in (SIDE_BID, SIDE_ASK):\n",
    "        for ix in range(max_index):\n",
    "            price_level = orderbook.get_price_level_at_ix(side, ix)\n",
    "            if price_level is None:\n",
    "                features += [-1, -1]\n",
    "            else:\n",
    "                features += [price_level.get_volume(), \n",
    "                             price_level.get_num_orders()]\n",
    "    return features\n",
    "\n",
    "\n",
    "def get_simple_deals_features(last_deals, orderbook):\n",
    "    '''\n",
    "        Считаем простые фичи по последним сделкам:\n",
    "    '''\n",
    "    cur_mean_price = orderbook.get_mean_price()\n",
    "    cur_time = orderbook.get_time()\n",
    "\n",
    "    features = []\n",
    "    for side in (SIDE_BID, SIDE_ASK):\n",
    "        deal_event = last_deals[side]\n",
    "        if deal_event is None:\n",
    "            features += [-1e9, -1e9, -1e9]\n",
    "        else:\n",
    "            features += [cur_mean_price - deal_event.price, \n",
    "                         cur_time - deal_event.time, \n",
    "                         deal_event.amount]\n",
    "    return features\n",
    "\n",
    "\n",
    "def collect_dataset(data_path):\n",
    "    '''\n",
    "        Собираем датасет\n",
    "    '''\n",
    "    event_player = ob.EventPlayer(data_path)\n",
    "    orderbook = ob.OrderBook()\n",
    "\n",
    "    X = []\n",
    "    Y = []\n",
    "\n",
    "    # Словарь со всеми типами action {action_type: occurrences}\n",
    "    counter_dict = {}\n",
    "\n",
    "    counter = 0\n",
    "    deal_counter = 0\n",
    "    newchunk_counter = 0\n",
    "    last_deals = [None, None]\n",
    "\n",
    "    for ev in tqdm(event_player.iget_events(),\n",
    "                    total=len(event_player), \n",
    "                    desc=\"collecting dataset\"):\n",
    "        if ev.action == ob.Action.DEAL:\n",
    "            deal_counter+=1\n",
    "            last_deals[ev.side] = ev\n",
    "        elif ev.action == ob.Action.NEW_CHUNK:\n",
    "            newchunk_counter+=1\n",
    "            last_deals = [None, None]\n",
    "\n",
    "        counter+=1\n",
    "        if ev.action in counter_dict:\n",
    "            counter_dict[ev.action]+=1\n",
    "        else:\n",
    "            counter_dict[ev.action]=1\n",
    "\n",
    "        orderbook.apply_event(ev)\n",
    "        if ev.need_prediction:\n",
    "            features = get_simple_features_from_orderbook(orderbook)\n",
    "            features += get_simple_deals_features(last_deals, orderbook)\n",
    "\n",
    "            X.append(features)\n",
    "            Y.append(ev.Y)\n",
    "\n",
    "    print(f\"Dataset collected: len(X) = {len(X)}\")\n",
    "\n",
    "\n",
    "    print(\"******counter*******\")\n",
    "    print(\"ob.Action.NEW_CHUNK \", ob.Action.NEW_CHUNK)\n",
    "    print(\"counter\", counter)\n",
    "    print(\"newchunk_counter\", newchunk_counter)\n",
    "    print(\"deal_counter\", deal_counter)\n",
    "    print(\"PRINT_EVENTS \", PRINT_EVENTS)\n",
    "    print(\"OB_EVENTS_TOTAL\", OB_EVENTS_TOTAL)\n",
    "    print(\"OB_LAST_TRY\", OB_LAST_TRY)\n",
    "\n",
    "\n",
    "    print(counter_dict)\n",
    "    print(\"******counter finished*******\")\n",
    "    return np.array(X), np.array(Y)\n",
    "\n",
    "\n",
    "X_train, Y_train = collect_dataset(\"../../data/train_small_A.npz\")\n",
    "# X_test, Y_test = collect_dataset(\"../../data/train_small_B.npz\")"
   ]
  },
  {
   "cell_type": "code",
   "execution_count": null,
   "outputs": [],
   "source": [
    "# print(X_train.shape)"
   ],
   "metadata": {
    "collapsed": false,
    "pycharm": {
     "name": "#%%\n"
    }
   }
  },
  {
   "cell_type": "code",
   "execution_count": null,
   "outputs": [],
   "source": [
    "train = np.load(\"../../data/train_small_A.npz\")\n",
    "train_df = pd.DataFrame(data=train[\"events\"], columns=train[\"columns\"])\n",
    "print(train_df.shape)\n",
    "print(train_df.head())"
   ],
   "metadata": {
    "collapsed": false,
    "pycharm": {
     "name": "#%%\n"
    }
   }
  },
  {
   "cell_type": "code",
   "execution_count": null,
   "outputs": [],
   "source": [
    "print(len(train_df.id.unique()))\n",
    "print(train_df.action.value_counts())\n",
    "print(sum(train_df.action.value_counts()))\n",
    "\n",
    "print(\"train_df.time.is_monotonic\", train_df.time.is_monotonic)\n",
    "print(\"train_df.id.is_monotonic\", train_df.id.is_monotonic)\n",
    "\n",
    "action10 = train_df.loc[train_df.action == 10]\n",
    "print(action10)\n"
   ],
   "metadata": {
    "collapsed": false,
    "pycharm": {
     "name": "#%%\n"
    }
   }
  },
  {
   "cell_type": "code",
   "execution_count": null,
   "outputs": [],
   "source": [
    "chunk_sizes = pd.Series(action10.index[1:] - action10.index[:-1])\n",
    "print(chunk_sizes)\n",
    "\n",
    "chunk_sizes.iplot(kind=\"hist\", bins=30)"
   ],
   "metadata": {
    "collapsed": false,
    "pycharm": {
     "name": "#%%\n"
    }
   }
  },
  {
   "cell_type": "code",
   "execution_count": null,
   "outputs": [],
   "source": [
    "train_df.value_counts([\"is_snapshot\", \"Y\"])\n",
    "\n",
    "train_df.is_snapshot.value_counts()\n",
    "\n",
    "print(\"train_df.Y.value_counts()\", train_df.Y.value_counts())"
   ],
   "metadata": {
    "collapsed": false,
    "pycharm": {
     "name": "#%%\n"
    }
   }
  },
  {
   "cell_type": "code",
   "execution_count": null,
   "outputs": [],
   "source": [
    "print(\" action.*********vs**************.Y\")\n",
    "print(train_df.value_counts(subset=[\"action\", \"Y\"]))"
   ],
   "metadata": {
    "collapsed": false,
    "pycharm": {
     "name": "#%%\n"
    }
   }
  },
  {
   "cell_type": "markdown",
   "source": [
    "## Обучаем модель градиентного бустинга"
   ],
   "metadata": {
    "collapsed": false
   }
  },
  {
   "cell_type": "code",
   "execution_count": null,
   "metadata": {
    "tags": []
   },
   "outputs": [],
   "source": [
    "def train_classifier(X_train, Y_train, X_test, Y_test):\n",
    "    '''\n",
    "        Обучаем классификатор\n",
    "    '''\n",
    "    clf = lg.LGBMClassifier(num_leaves=31, n_estimators=1000, learning_rate=0.1)\n",
    "    clf.fit(X_train, Y_train, eval_set=[(X_test, Y_test)], \n",
    "            eval_metric=\"auc\", early_stopping_rounds=20)\n",
    "    return clf\n",
    " \n",
    "clf = train_classifier(X_train, Y_train, X_test, Y_test)"
   ]
  },
  {
   "cell_type": "markdown",
   "metadata": {},
   "source": [
    "## Тестируем получившийся классификатор"
   ]
  },
  {
   "cell_type": "code",
   "execution_count": null,
   "metadata": {
    "tags": []
   },
   "outputs": [],
   "source": [
    "last_deals = [None, None]\n",
    "\n",
    "def process_event_and_predict_proba(event, orderbook):\n",
    "    if event.action == ob.Action.DEAL:\n",
    "        last_deals[event.side] = event\n",
    "    elif event.action == ob.Action.NEW_CHUNK:\n",
    "        last_deals[:] = [None, None]\n",
    "        \n",
    "    if not event.need_prediction:\n",
    "        return None\n",
    "    \n",
    "    features = get_simple_features_from_orderbook(orderbook)\n",
    "    features += get_simple_deals_features(last_deals, orderbook)    \n",
    "    proba = clf.predict_proba([features])[0, 1]\n",
    "    return proba\n",
    "\n",
    "from scorer import Scorer\n",
    "\n",
    "scoring = Scorer(\"../../data/train_small_C.npz\")\n",
    "roc_auc, (true_ys, pred_probas) = scoring.score(process_event_and_predict_proba)"
   ]
  },
  {
   "cell_type": "markdown",
   "metadata": {},
   "source": [
    "## Сохраним модель, и решение для отправки готово"
   ]
  },
  {
   "cell_type": "code",
   "execution_count": null,
   "metadata": {},
   "outputs": [],
   "source": [
    "# Сохраним нашу модель\n",
    "clf.booster_.save_model(\"wunder.model\")\n",
    "\n",
    "'''Посмотрите код файла solution.py. \n",
    "Он использует те же функции что и этот ноутбук, но уже готов к отправке на серверю. \n",
    "Попробуйте создать архив с файлами solution.py и wunder.model и отправить их на проверку.'''"
   ]
  },
  {
   "cell_type": "code",
   "execution_count": null,
   "metadata": {},
   "outputs": [],
   "source": []
  }
 ],
 "metadata": {
  "kernelspec": {
   "display_name": "Python 3",
   "language": "python",
   "name": "python3"
  },
  "language_info": {
   "codemirror_mode": {
    "name": "ipython",
    "version": 3
   },
   "file_extension": ".py",
   "mimetype": "text/x-python",
   "name": "python",
   "nbconvert_exporter": "python",
   "pygments_lexer": "ipython3",
   "version": "3.8.2"
  }
 },
 "nbformat": 4,
 "nbformat_minor": 4
}