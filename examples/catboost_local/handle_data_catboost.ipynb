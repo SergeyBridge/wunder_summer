{
 "cells": [
  {
   "cell_type": "code",
   "execution_count": 1,
   "metadata": {},
   "outputs": [
    {
     "name": "stdout",
     "output_type": "stream",
     "text": [
      "curdir: /home/sergey/mnt/st1500/Usr/Sergey/TheJob/Challenges/wunder_summer/wunder_challenge/examples/catboost_local\n"
     ]
    }
   ],
   "source": [
    "import sys\n",
    "import numpy as np\n",
    "import pandas as pd\n",
    "import lightgbm as lg\n",
    "from tqdm import tqdm\n",
    "import pandas as pd\n",
    "from pathlib import Path\n",
    "\n",
    "# from importlib import reload\n",
    "\n",
    "\n",
    "import catboost\n",
    "from catboost.utils import get_gpu_device_count\n",
    "\n",
    "sys.path.append(\"../../scorer/\")\n",
    "import orderbook_fast as ob\n",
    "\n",
    "# from  solution import get_simple_features_from_orderbook, get_simple_deals_features\n",
    "# from  solution import get_simple_deals_features\n",
    "\n",
    "from my_orderbook import MyOrderBook, action_handler\n",
    "catboost_myob = MyOrderBook()\n",
    "\n",
    "SIDE_BID = 0 \n",
    "SIDE_ASK = 1\n",
    "\n",
    "print(f\"curdir: {Path.cwd()}\")"
   ]
  },
  {
   "cell_type": "markdown",
   "metadata": {},
   "source": [
    "## Собираем датасет для тренировки модели"
   ]
  },
  {
   "cell_type": "code",
   "execution_count": null,
   "outputs": [
    {
     "name": "stderr",
     "output_type": "stream",
     "text": [
      "collecting dataset: 100%|██████████| 31735888/31735888 [3:18:13<00:00, 2668.35it/s]  \n",
      "collecting dataset:  12%|█▏        | 1284792/10617618 [08:09<1:25:45, 1813.77it/s]"
     ]
    },
    {
     "name": "stdout",
     "output_type": "stream",
     "text": [
      "Dataset collected: len(X) = 706531\n"
     ]
    }
   ],
   "source": [
    "def collect_dataset(data_path):\n",
    "    '''\n",
    "        Собираем датасет\n",
    "    '''\n",
    "\n",
    "    global catboost_myob\n",
    "    event_player = ob.EventPlayer(data_path)\n",
    "    orderbook = ob.OrderBook()\n",
    "\n",
    "    X = []\n",
    "    Y = []\n",
    "\n",
    "    for ev in tqdm(event_player.iget_events(),\n",
    "                    total=len(event_player),\n",
    "                    desc=f\"collecting dataset {data_path}\"):\n",
    "\n",
    "        catboost_myob.__getattribute__(action_handler[ev.action])\n",
    "\n",
    "        orderbook.apply_event(ev)\n",
    "        if ev.need_prediction:\n",
    "            features = catboost_myob.get_features(ev, orderbook)\n",
    "\n",
    "            X.append(features)\n",
    "            Y.append(ev.Y)\n",
    "\n",
    "    print(f\"Dataset collected: len(X) = {len(X)}\")\n",
    "    return pd.DataFrame(X), pd.DataFrame(Y)\n",
    "\n",
    "# X_train, Y_train = collect_dataset(\"../../data/very_small_A.npz\")\n",
    "# X_test, Y_test = collect_dataset(\"../../data/very_small_B.npz\")\n",
    "\n",
    "# X_train_large, Y_train_large = collect_dataset(\"../../data/train.npz\")\n",
    "# X_train_large.to_pickle(\"X_train_large.pickle\")\n",
    "# Y_train_large.to_pickle(\"Y_train_large.pickle\")\n",
    "\n",
    "X_train80, Y_train80 = collect_dataset(\"../../data/train80.npz\")\n",
    "X_train80.to_pickle(\"X_train80.pickle\")\n",
    "Y_train80.to_pickle(\"Y_train80.pickle\")\n",
    "\n",
    "X_test20, Y_test20 = collect_dataset(\"../../data/test20.npz\")\n",
    "X_test20.to_pickle(\"X_test20.pickle\")\n",
    "Y_test20.to_pickle(\"Y_test20.pickle\")\n",
    "\n",
    "\n",
    "print(\"X_train.shape  == \", X_train80.shape)\n",
    "\n",
    "print( \"********* FINISH dataset collection ***********************\")"
   ],
   "metadata": {
    "collapsed": false,
    "pycharm": {
     "name": "#%%\n",
     "is_executing": true
    }
   }
  }
 ],
 "metadata": {
  "kernelspec": {
   "display_name": "Python 3",
   "language": "python",
   "name": "python3"
  },
  "language_info": {
   "codemirror_mode": {
    "name": "ipython",
    "version": 3
   },
   "file_extension": ".py",
   "mimetype": "text/x-python",
   "name": "python",
   "nbconvert_exporter": "python",
   "pygments_lexer": "ipython3",
   "version": "3.8.2"
  }
 },
 "nbformat": 4,
 "nbformat_minor": 4
}