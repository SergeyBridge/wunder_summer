{
 "cells": [
  {
   "cell_type": "code",
   "execution_count": 1,
   "metadata": {},
   "outputs": [
    {
     "name": "stdout",
     "output_type": "stream",
     "text": [
      "curdir: /home/sergey/mnt/st1500/Usr/Sergey/TheJob/Challenges/wunder_summer/wunder_challenge/examples/catboost_local\n"
     ]
    }
   ],
   "source": [
    "import sys\n",
    "import numpy as np\n",
    "import pandas as pd\n",
    "import lightgbm as lg\n",
    "from tqdm import tqdm\n",
    "import pandas as pd\n",
    "from pathlib import Path\n",
    "\n",
    "# from importlib import reload\n",
    "\n",
    "\n",
    "import catboost\n",
    "from catboost.utils import get_gpu_device_count\n",
    "\n",
    "sys.path.append(\"../../scorer/\")\n",
    "import orderbook_fast as ob_fast\n",
    "\n",
    "# from  solution import get_simple_features_from_orderbook, get_simple_deals_features\n",
    "# from  solution import get_simple_deals_features\n",
    "\n",
    "from my_orderbook import MyOrderBook, action_handler\n",
    "catboost_myob = MyOrderBook()\n",
    "\n",
    "SIDE_BID = 0 \n",
    "SIDE_ASK = 1\n",
    "\n",
    "print(f\"curdir: {Path.cwd()}\")\n",
    "\n",
    "# #%% md\n",
    "\n",
    "## Собираем датасет для тренировки модели"
   ]
  },
  {
   "cell_type": "code",
   "execution_count": null,
   "outputs": [
    {
     "name": "stderr",
     "output_type": "stream",
     "text": [
      "collecting dataset ../../data/X_train_small_A.npz: 100%|██████████| 767493/767493 [1:07:19<00:00, 189.98it/s]\n",
      "collecting dataset ../../data/X_train_small_B.npz:  90%|█████████ | 708062/784181 [1:01:42<07:03, 179.87it/s]"
     ]
    },
    {
     "name": "stdout",
     "output_type": "stream",
     "text": [
      "Dataset collected: len(X) = 233459\n"
     ]
    }
   ],
   "source": [
    "def collect_dataset(data_path):\n",
    "    '''\n",
    "        Собираем датасет\n",
    "    '''\n",
    "\n",
    "    global catboost_myob\n",
    "    event_player = ob_fast.EventPlayer(data_path)\n",
    "    orderbook_fast = ob_fast.OrderBook()\n",
    "\n",
    "    X = []\n",
    "    Y = []\n",
    "\n",
    "    for ev in tqdm(event_player.iget_events(),\n",
    "                    total=len(event_player),\n",
    "                    desc=f\"collecting dataset {data_path}\"):\n",
    "\n",
    "        catboost_myob.__getattribute__(action_handler[ev.action])(ev)\n",
    "\n",
    "        if ev.need_prediction:\n",
    "            features = catboost_myob.get_features(ev)\n",
    "\n",
    "            X.append(features)\n",
    "            Y.append(ev.Y)\n",
    "\n",
    "    print(f\"Dataset collected: len(X) = {len(X)}\")\n",
    "    return pd.DataFrame(X), pd.DataFrame(Y)\n",
    "\n",
    "# X_train_very_small_A, Y_train_very_small_A = collect_dataset(\"../../data/very_small_A.npz\")\n",
    "# X_train_very_small_A.to_pickle(\"../../data/X_train_very_small_A_130.pickle\")\n",
    "# Y_train_very_small_A.to_pickle(\"../../data/Y_train_very_small_A_130.pickle\")\n",
    "\n",
    "# X_test_very_small_B, Y_test_very_small_B = collect_dataset(\"../../data/very_small_B.npz\")\n",
    "# X_test_very_small_B.to_pickle(\"../../data/X_test_very_small_B_130.pickle\")\n",
    "# Y_test_very_small_B.to_pickle(\"../../data/Y_test_very_small_B_130.pickle\")\n",
    "\n",
    "X_train, Y_train = collect_dataset(\"../../data/X_train_small_A.npz\")\n",
    "X_train.to_pickle(\"../../data/X_train.pickle\")\n",
    "Y_train.to_pickle(\"../../data/Y_train.pickle\")\n",
    "\n",
    "X_test, Y_test = collect_dataset(\"../../data/X_train_small_B.npz\")\n",
    "X_test.to_pickle(\"../../data/X_test.pickle\")\n",
    "Y_test.to_pickle(\"../../data/Y_test.pickle\")\n",
    "\n",
    "print( \"********* FINISH dataset collection ***********************\")"
   ],
   "metadata": {
    "collapsed": false,
    "pycharm": {
     "name": "#%%\n",
     "is_executing": true
    }
   }
  },
  {
   "cell_type": "code",
   "execution_count": null,
   "outputs": [],
   "source": [],
   "metadata": {
    "collapsed": false,
    "pycharm": {
     "name": "#%%\n",
     "is_executing": true
    }
   }
  }
 ],
 "metadata": {
  "kernelspec": {
   "display_name": "Python 3",
   "language": "python",
   "name": "python3"
  },
  "language_info": {
   "codemirror_mode": {
    "name": "ipython",
    "version": 3
   },
   "file_extension": ".py",
   "mimetype": "text/x-python",
   "name": "python",
   "nbconvert_exporter": "python",
   "pygments_lexer": "ipython3",
   "version": "3.8.2"
  }
 },
 "nbformat": 4,
 "nbformat_minor": 4
}