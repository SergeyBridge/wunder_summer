{
 "cells": [
  {
   "cell_type": "code",
   "execution_count": 2,
   "metadata": {
    "pycharm": {
     "name": "#%%\n"
    }
   },
   "outputs": [],
   "source": [
    "import sys\n",
    "import numpy as np\n",
    "import pandas as pd\n",
    "import lightgbm as lg\n",
    "from tqdm import tqdm\n",
    "import pandas as pd\n",
    "from pathlib import Path\n",
    "\n",
    "# from importlib import reload\n",
    "\n",
    "\n",
    "import catboost\n",
    "from catboost.utils import get_gpu_device_count"
   ]
  },
  {
   "cell_type": "code",
   "execution_count": 31,
   "outputs": [
    {
     "name": "stdout",
     "output_type": "stream",
     "text": [
      "curdir: /home/sergey/mnt/st1500/Usr/Sergey/TheJob/Challenges/wunder_summer/wunder_challenge/examples/catboost_local\n",
      "../../data/X_train_small_A.pickle shape after clearing snapsots (767493, 9)\n",
      "../../data/X_train_small_B.pickle shape after clearing snapsots (784181, 9)\n"
     ]
    }
   ],
   "source": [
    "SIDE_BID = 0 \n",
    "SIDE_ASK = 1\n",
    "\n",
    "print(f\"curdir: {Path.cwd()}\")\n",
    "\n",
    "\n",
    "for fname, pickle_name, npz_name in zip(\n",
    "        [\"../../data/train_small_A.npz\", \"../../data/train_small_B.npz\"],\n",
    "        [\"../../data/X_train_small_A.pickle\", \"../../data/X_train_small_B.pickle\"],\n",
    "        [\"../../data/X_train_small_A.npz\", \"../../data/X_train_small_B.npz\"]):\n",
    "    arr = np.load(fname)\n",
    "    X_df = pd.DataFrame(data=arr[\"events\"], columns=arr[\"columns\"])\n",
    "    X_df = X_df.loc[X_df.is_snapshot == 0]\n",
    "    X_df = X_df.loc[(X_df.action == 3) | (X_df.Y >= 0)]\n",
    "    X_df.drop(X_df.loc[(X_df.action == 2) &\n",
    "                       (X_df.type == 1)].index, axis=0, inplace=True)\n",
    "\n",
    "    X_df.drop(X_df.loc[(X_df.action == 0) &\n",
    "                       (X_df.type == 1)].index, axis=0, inplace=True)\n",
    "\n",
    "    X_df.to_pickle(pickle_name)\n",
    "\n",
    "    np.savez(npz_name, events=X_df.values, columns=X_df.columns)\n",
    "    print(f\"{pickle_name} shape after clearing snapsots\", X_df.shape)"
   ],
   "metadata": {
    "collapsed": false,
    "pycharm": {
     "name": "#%%\n"
    }
   }
  },
  {
   "cell_type": "code",
   "execution_count": 30,
   "outputs": [
    {
     "name": "stdout",
     "output_type": "stream",
     "text": [
      "X_train.value_counts()\n",
      "action  type  side  Y \n",
      "3       0     1     -1    270085\n",
      "              0     -1    263949\n",
      "              1      0     54488\n",
      "              0      0     52122\n",
      "1       1     0      0     43928\n",
      "              1      0     38755\n",
      "                     1     13612\n",
      "3       0     0      1     12472\n",
      "              1      1      9973\n",
      "1       1     0      1      8109\n",
      "dtype: int64\n",
      "action  Y \n",
      "3       -1    534034\n",
      "         0    106610\n",
      "1        0     82683\n",
      "3        1     22445\n",
      "1        1     21721\n",
      "dtype: int64\n"
     ]
    }
   ],
   "source": [
    "\n",
    "X_train = pd.read_pickle(\"../../data/X_train_small_A.pickle\")\n",
    "X_train.drop(labels=[\"time\", \"id\", \"is_snapshot\"], inplace=True, axis=1)\n",
    "Y_train = pd.read_pickle(\"../../data/Y_train_small_A.pickle\")\n",
    "print(\"X_train.value_counts()\")\n",
    "print(X_train[[\"action\", \"type\", \"side\", \"Y\"]].value_counts())\n",
    "print(X_train[[\"action\", \"Y\"]].value_counts())"
   ],
   "metadata": {
    "collapsed": false,
    "pycharm": {
     "name": "#%%\n"
    }
   }
  },
  {
   "cell_type": "code",
   "execution_count": null,
   "outputs": [],
   "source": [
    "\n",
    "\n",
    "\n",
    "X_test = pd.read_pickle(\"../../data/X_train_small_B.pickle\")\n",
    "X_test.drop(labels=[\"time\", \"id\", \"is_snapshot\"], inplace=True, axis=1)\n",
    "Y_test = pd.read_pickle(\"../../data/Y_train_small_B.pickle\")\n",
    "\n",
    "print(X_test.head())\n",
    "\n",
    "print( \"********* FINISH dataset collection ***********************\")"
   ],
   "metadata": {
    "collapsed": false,
    "pycharm": {
     "name": "#%%\n"
    }
   }
  },
  {
   "cell_type": "code",
   "execution_count": null,
   "outputs": [],
   "source": [
    "new_chunk_indexes = X_train[X_train.action == 10].index\n",
    "\n",
    "def get_new_chunk(new_chunk_indexes):\n",
    "    for start, end in zip(new_chunk_indexes[:-1],\n",
    "                          new_chunk_indexes[1:]):\n",
    "        print(start, end)\n",
    "        print(start+1, end+1)\n",
    "        print()\n",
    "        yield start+1, end+1\n",
    "\n",
    "#for start, end in get_new_chunk(new_chunk_indexes):\n",
    "#    print(start, end, X_train.action.iloc[start], X_train.action.iloc[end])"
   ],
   "metadata": {
    "collapsed": false,
    "pycharm": {
     "name": "#%%\n"
    }
   }
  },
  {
   "cell_type": "code",
   "execution_count": null,
   "outputs": [],
   "source": [
    "main_df = X_train\n",
    "chunks = []\n",
    "for start, end in get_new_chunk(new_chunk_indexes):\n",
    "    chunks.append((start, end))\n",
    "    print(\"X_train.iloc[start].name\", X_train.iloc[start].name, X_train.iloc[start].action)\n",
    "    print(\"X_train.iloc[end].name\", X_train.iloc[end].name, X_train.iloc[end].action)\n",
    "\n",
    "chunk_borders = chunks[1]"
   ],
   "metadata": {
    "collapsed": false,
    "pycharm": {
     "name": "#%%\n"
    }
   }
  },
  {
   "cell_type": "code",
   "execution_count": null,
   "outputs": [],
   "source": [
    "\n",
    "chunk_df = X_train.iloc[chunk_borders[0]:chunk_borders[1]]\n",
    "print(chunk_df[[\"action\", \"type\", \"side\"]].value_counts())\n",
    "features_pattern = np.full(shape=8, fill_value=np.nan)\n",
    "\n",
    "print(chunk_borders)\n",
    "print(chunk_df)\n",
    "\n",
    "price_features = 0"
   ],
   "metadata": {
    "collapsed": false,
    "pycharm": {
     "name": "#%%\n"
    }
   }
  },
  {
   "cell_type": "code",
   "execution_count": null,
   "outputs": [],
   "source": [],
   "metadata": {
    "collapsed": false,
    "pycharm": {
     "name": "#%%\n"
    }
   }
  }
 ],
 "metadata": {
  "kernelspec": {
   "display_name": "Python 3",
   "language": "python",
   "name": "python3"
  },
  "language_info": {
   "codemirror_mode": {
    "name": "ipython",
    "version": 3
   },
   "file_extension": ".py",
   "mimetype": "text/x-python",
   "name": "python",
   "nbconvert_exporter": "python",
   "pygments_lexer": "ipython3",
   "version": "3.8.2"
  }
 },
 "nbformat": 4,
 "nbformat_minor": 4
}