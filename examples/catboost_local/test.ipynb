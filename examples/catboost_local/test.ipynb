{
 "cells": [
  {
   "cell_type": "code",
   "execution_count": 1,
   "metadata": {
    "collapsed": true
   },
   "outputs": [],
   "source": [
    "import numpy as np\n",
    "import pandas as pd\n"
   ]
  },
  {
   "cell_type": "code",
   "execution_count": 26,
   "outputs": [
    {
     "name": "stdout",
     "output_type": "stream",
     "text": [
      "  time action type side price amount is_snapshot    Y predict\n",
      "0  NaN    NaN  NaN  NaN   NaN    NaN         NaN  NaN     NaN\n",
      "1  NaN    NaN  NaN  NaN   NaN    NaN         NaN  NaN     NaN\n",
      "2  NaN    NaN  NaN  NaN   NaN    NaN         NaN  NaN     NaN\n",
      "3    1      1    1    1     1      1           1    1       1\n",
      "\n",
      "  time action type side price amount is_snapshot    Y predict\n",
      "0  NaN    NaN  NaN  NaN   NaN    NaN         NaN  NaN     NaN\n",
      "1  NaN    NaN  NaN  NaN   NaN    NaN         NaN  NaN     NaN\n",
      "2    1      1    1    1     1      1           1    1       1\n",
      "3    2      2    2    2     2      2           2    2       2\n",
      "\n",
      "  time action type side price amount is_snapshot    Y predict\n",
      "0  NaN    NaN  NaN  NaN   NaN    NaN         NaN  NaN     NaN\n",
      "1    1      1    1    1     1      1           1    1       1\n",
      "2    2      2    2    2     2      2           2    2       2\n",
      "3    3      3    3    3     3      3           3    3       3\n",
      "\n",
      "  time action type side price amount is_snapshot  Y predict\n",
      "0    1      1    1    1     1      1           1  1       1\n",
      "1    2      2    2    2     2      2           2  2       2\n",
      "2    3      3    3    3     3      3           3  3       3\n",
      "3    4      4    4    4     4      4           4  4       4\n",
      "\n",
      "  time action type side price amount is_snapshot  Y predict\n",
      "0    2      2    2    2     2      2           2  2       2\n",
      "1    3      3    3    3     3      3           3  3       3\n",
      "2    4      4    4    4     4      4           4  4       4\n",
      "3    5      5    5    5     5      5           5  5       5\n",
      "\n"
     ]
    }
   ],
   "source": [
    "last_deals = pd.DataFrame(np.full(shape=[4, 9], fill_value=np.nan),\n",
    "    columns=[\"time\", \"action\", \"type\", \"side\", \"price\",\n",
    "             \"amount\", \"is_snapshot\", \"Y\", \"predict\",])\n",
    "\n",
    "\n",
    "row1 = np.full(9, fill_value=\"1\")\n",
    "row2 = np.full(9, fill_value=\"2\")\n",
    "row3 = np.full(9, fill_value=\"3\")\n",
    "row4 = np.full(9, fill_value=\"4\")\n",
    "row5 = np.full(9, fill_value=\"5\")\n",
    "\n",
    "# last_deals.iloc[-1] = row1\n",
    "# last_deals\n",
    "\n",
    "\n",
    "for row in [row1, row2, row3, row4, row5]:\n",
    "\n",
    "    last_deals.iloc[0] = row\n",
    "    ind = list(last_deals.index - 1)\n",
    "    ind[0] = len(ind) - 1\n",
    "    last_deals.index = ind\n",
    "    last_deals.sort_index(inplace=True)\n",
    "\n",
    "    print(last_deals)\n",
    "    print()\n"
   ],
   "metadata": {
    "collapsed": false,
    "pycharm": {
     "name": "#%%\n"
    }
   }
  },
  {
   "cell_type": "code",
   "execution_count": 4,
   "outputs": [],
   "source": [
    "# last_deals.index += 1\n",
    "# last_deals.iloc[-1] = row2\n",
    "# ind = list(last_deals.index)\n",
    "# ind[-1] = 0\n",
    "# last_deals.index = ind\n",
    "# last_deals.sort_index(inplace=True)\n",
    "# last_deals"
   ],
   "metadata": {
    "collapsed": false,
    "pycharm": {
     "name": "#%%\n"
    }
   }
  },
  {
   "cell_type": "code",
   "execution_count": null,
   "outputs": [],
   "source": [
    "# for row in [row1, row2, row3, row4, row5]:\n",
    "#\n",
    "#     last_deals.iloc[-1] = row\n",
    "#     ind = list(last_deals.index + 1)\n",
    "#     ind[-1] = 0\n",
    "#     last_deals.index = ind\n",
    "#     last_deals.sort_index(inplace=True)\n",
    "#\n",
    "#     print(last_deals)\n",
    "#     print()\n",
    "#"
   ],
   "metadata": {
    "collapsed": false,
    "pycharm": {
     "name": "#%%\n"
    }
   }
  },
  {
   "cell_type": "code",
   "execution_count": 4,
   "outputs": [],
   "source": [
    "\n",
    "X = [\n",
    "    14751814487,\n",
    "    14751047145,\n",
    "    14750981234,\n",
    "    14750681455,\n",
    "    14750250561,\n",
    "    14749995850,\n",
    "    14747886955,\n",
    "    14747327809,\n",
    "    14747224374,\n",
    "    14747091668,\n",
    "    14746972729,\n",
    "    14746972719,\n",
    "    14746972707,\n",
    "    14746968471,\n",
    "    14746968454,\n",
    "    14746968440,\n",
    "    14746968426,\n",
    "    14746968414,\n",
    "    14746968402,\n",
    "    14746968394,\n",
    "    14746968382,\n",
    "    14746968122,\n",
    "    14742747764,\n",
    "    14742604486,\n",
    "    14741279447,\n",
    "    14740939245,\n",
    "    14740354072,\n",
    "    14740213383,\n",
    "    14739559244,\n",
    "    14738881244,\n",
    "]\n",
    "\n",
    "series = pd.Series(data=X)"
   ],
   "metadata": {
    "collapsed": false,
    "pycharm": {
     "name": "#%%\n"
    }
   }
  },
  {
   "cell_type": "code",
   "execution_count": 5,
   "outputs": [
    {
     "data": {
      "text/plain": "<AxesSubplot:>"
     },
     "execution_count": 5,
     "metadata": {},
     "output_type": "execute_result"
    },
    {
     "data": {
      "text/plain": "<Figure size 432x288 with 1 Axes>",
      "image/png": "[encoded data removed]"
     },
     "metadata": {
      "needs_background": "light"
     },
     "output_type": "display_data"
    }
   ],
   "source": [
    "\n",
    "series.plot()"
   ],
   "metadata": {
    "collapsed": false,
    "pycharm": {
     "name": "#%%\n"
    }
   }
  },
  {
   "cell_type": "code",
   "execution_count": null,
   "outputs": [],
   "source": [],
   "metadata": {
    "collapsed": false,
    "pycharm": {
     "name": "#%%\n"
    }
   }
  }
 ],
 "metadata": {
  "kernelspec": {
   "display_name": "Python 3",
   "language": "python",
   "name": "python3"
  },
  "language_info": {
   "codemirror_mode": {
    "name": "ipython",
    "version": 2
   },
   "file_extension": ".py",
   "mimetype": "text/x-python",
   "name": "python",
   "nbconvert_exporter": "python",
   "pygments_lexer": "ipython2",
   "version": "2.7.6"
  }
 },
 "nbformat": 4,
 "nbformat_minor": 0
}