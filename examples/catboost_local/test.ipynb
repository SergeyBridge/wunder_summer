{
 "cells": [
  {
   "cell_type": "code",
   "execution_count": 7,
   "metadata": {
    "collapsed": true
   },
   "outputs": [],
   "source": [
    "import numpy as np\n",
    "import pandas as pd\n",
    "\n",
    "\n",
    "\n",
    "train80_arr = np.load(\"../../data/train80_nosnapshots.npz\")\n",
    "test20_arr = np.load(\"../../data/test20_nosnapshots.npz\")"
   ]
  },
  {
   "cell_type": "code",
   "execution_count": 8,
   "outputs": [],
   "source": [
    "train80_df = pd.DataFrame(data=train80_arr[\"events\"], columns=train80_arr[\"columns\"])\n",
    "test20_df = pd.DataFrame(data=test20_arr[\"events\"], columns=test20_arr[\"columns\"])\n"
   ],
   "metadata": {
    "collapsed": false,
    "pycharm": {
     "name": "#%%\n"
    }
   }
  },
  {
   "cell_type": "code",
   "execution_count": 9,
   "outputs": [],
   "source": [
    "train80_df = train80_df.loc[train80_df.is_snapshot == 0]\n",
    "test20_df = test20_df.loc[test20_df.is_snapshot == 0]"
   ],
   "metadata": {
    "collapsed": false,
    "pycharm": {
     "name": "#%%\n"
    }
   }
  },
  {
   "cell_type": "code",
   "execution_count": 10,
   "outputs": [],
   "source": [
    "# np.savez(file=\"../../data/train80_nosnapshots.npz\", events=train80_df.values, columns=list(train80_df.columns))\n",
    "# np.savez(file=\"../../data/test20_nosnapshots.npz\", events=test20_df.values, columns=list(test20_df.columns))\n",
    "\n",
    "train80_df.to_pickle(\"../../data/train80_nosnapshots.pickle\")\n",
    "test20_df.to_pickle(\"../../data/test20_nosnapshots.pickle\")"
   ],
   "metadata": {
    "collapsed": false,
    "pycharm": {
     "name": "#%%\n"
    }
   }
  },
  {
   "cell_type": "code",
   "execution_count": null,
   "outputs": [],
   "source": [
    "# df = df.loc[df.action.isin([3,10]) ]\n",
    "print(\"df.loc(df.Y.isin([0, 1]))\", df.loc[df.Y.isin([0, 1])].shape)\n",
    "print(\"df.loc[df.action.isin([3, 10])]\", df.loc[df.action.isin([3, 10])].shape)\n",
    "\n",
    "df1 = df.loc[df.Y.isin([0, 1]) | df.action.isin([3, 10])]\n",
    "\n",
    "print(df1.shape)\n",
    "print(df1.head())\n",
    "\n",
    "print(\"df.action.value_counts()\")\n",
    "print(df1.action.value_counts())\n",
    "\n",
    "print('df[\"action\", \"y\"].value_counts()')\n",
    "print(df[[\"action\", \"Y\", \"is_snapshot\"]].value_counts())"
   ],
   "metadata": {
    "collapsed": false,
    "pycharm": {
     "name": "#%%\n"
    }
   }
  },
  {
   "cell_type": "code",
   "execution_count": null,
   "outputs": [],
   "source": [
    "df.reset_index(inplace=True)"
   ],
   "metadata": {
    "collapsed": false,
    "pycharm": {
     "name": "#%%\n"
    }
   }
  },
  {
   "cell_type": "code",
   "execution_count": 6,
   "outputs": [
    {
     "name": "stdout",
     "output_type": "stream",
     "text": [
      "(234905, 10)\n",
      "3    129055\n",
      "1    104404\n",
      "0      1213\n",
      "2       233\n",
      "Name: action, dtype: int64\n"
     ]
    }
   ],
   "source": [
    "print(df.shape)\n",
    "print(df.action.value_counts())\n"
   ],
   "metadata": {
    "collapsed": false,
    "pycharm": {
     "name": "#%%\n"
    }
   }
  },
  {
   "cell_type": "code",
   "execution_count": 7,
   "outputs": [
    {
     "name": "stdout",
     "output_type": "stream",
     "text": [
      "int(df.shape[0] * .8) 187924\n"
     ]
    }
   ],
   "source": [
    "print(\"int(df.shape[0] * .8)\", int(df.shape[0] * .8))"
   ],
   "metadata": {
    "collapsed": false,
    "pycharm": {
     "name": "#%%\n"
    }
   }
  },
  {
   "cell_type": "code",
   "execution_count": 10,
   "outputs": [
    {
     "name": "stdout",
     "output_type": "stream",
     "text": [
      "Int64Index([], dtype='int64')\n"
     ]
    }
   ],
   "source": [
    "new_chunk_indexes = df.iloc[188000:][df.action.iloc[188000:] == 10].index\n",
    "print(new_chunk_indexes)\n",
    "#print(df.iloc[8538574])"
   ],
   "metadata": {
    "collapsed": false,
    "pycharm": {
     "name": "#%%\n"
    }
   }
  },
  {
   "cell_type": "code",
   "execution_count": 14,
   "outputs": [],
   "source": [
    "train_df = df.iloc[:536701]\n",
    "test_df = df.iloc[536701:]\n",
    "\n",
    "np.savez(file=\"../../data/train80_deals.npz\", events=train_df.values, columns=list(train_df.columns))\n",
    "np.savez(file=\"../../data/test20_deals.npz\", events=test_df.values, columns=list(test_df.columns))\n"
   ],
   "metadata": {
    "collapsed": false,
    "pycharm": {
     "name": "#%%\n"
    }
   }
  },
  {
   "cell_type": "code",
   "execution_count": null,
   "outputs": [],
   "source": [
    "d = pd.DataFrame([1, 2, 3, 4, 5])\n",
    "tf = d.iloc[:3]\n",
    "vf = d.iloc[3:]\n"
   ],
   "metadata": {
    "collapsed": false,
    "pycharm": {
     "name": "#%%\n"
    }
   }
  },
  {
   "cell_type": "code",
   "execution_count": null,
   "outputs": [],
   "source": [
    "\n",
    " brr = np.load(\"../../data/train_small_B.npz\")\n",
    "\n",
    "for a in arr:\n",
    "    print(a)\n",
    "\n",
    "a_events = arr[\"events\"][:100000]\n",
    "b_events = brr[\"events\"][:100000]\n",
    "\n",
    "print(\"events.shape\", a_events.shape)\n",
    "print(\"events.shape\", b_events.shape)"
   ],
   "metadata": {
    "collapsed": false,
    "pycharm": {
     "name": "#%%\n"
    }
   }
  },
  {
   "cell_type": "code",
   "execution_count": 2,
   "outputs": [],
   "source": [
    "np.savez(file=\"../../data/very_small_A.npz\", events=a_events, columns=arr[\"columns\"])\n",
    "np.savez(file=\"../../data/very_small_B.npz\", events=b_events, columns=arr[\"columns\"])"
   ],
   "metadata": {
    "collapsed": false,
    "pycharm": {
     "name": "#%%\n"
    }
   }
  },
  {
   "cell_type": "code",
   "execution_count": 4,
   "outputs": [],
   "source": [
    "import numpy as np\n",
    "crr = np.load(\"../../data/train_small_C.npz\")\n",
    "\n",
    "c_events = crr[\"events\"][:100000]\n",
    "\n",
    "np.savez(file=\"../../data/very_small_C.npz\", events=c_events, columns=crr[\"columns\"])\n",
    "\n",
    "\n",
    "\n"
   ],
   "metadata": {
    "collapsed": false,
    "pycharm": {
     "name": "#%%\n"
    }
   }
  },
  {
   "cell_type": "code",
   "execution_count": 4,
   "outputs": [],
   "source": [
    "np.savez(file=\"very_small_AA.npz\", x=a_events)"
   ],
   "metadata": {
    "collapsed": false,
    "pycharm": {
     "name": "#%%\n"
    }
   }
  },
  {
   "cell_type": "code",
   "execution_count": 4,
   "outputs": [
    {
     "name": "stdout",
     "output_type": "stream",
     "text": [
      "this is class a\n"
     ]
    }
   ],
   "source": [
    "X_train_very_small_A, Y_train_very_small_A = collect_dataset(\"../../data/train_very_small_A.npz\")\n",
    "X_train_very_small_A.to_pickle(\"X_train_very_small_A_130.pickle\")\n",
    "Y_train_very_small_A.to_pickle(\"Y_train_very_small_A_130.pickle\")\n",
    "\n",
    "X_test_very_small_B, Y_test_very_small_B = collect_dataset(\"../../data/test_very_small_B.npz\")\n",
    "X_test_very_small_B.to_pickle(\"X_test_very_small_B_130.pickle\")\n",
    "Y_test_very_small_B.to_pickle(\"Y_test_very_small_B_130.pickle\")"
   ],
   "metadata": {
    "collapsed": false,
    "pycharm": {
     "name": "#%%\n"
    }
   }
  },
  {
   "cell_type": "code",
   "execution_count": 2,
   "outputs": [
    {
     "name": "stdout",
     "output_type": "stream",
     "text": [
      "   one  two  three\n",
      "0  NaN  NaN    NaN\n",
      "1  NaN  NaN    NaN\n",
      "2  NaN  NaN    NaN\n",
      "3  NaN  NaN    NaN\n",
      "4  NaN  NaN    NaN\n"
     ]
    }
   ],
   "source": [
    "import numpy as np\n",
    "import pandas as pd\n",
    "\n",
    "df = pd.DataFrame(data=np.full((5,3), fill_value=np.nan), columns=[\"one\", \"two\", \"three\"])\n",
    "print(df)"
   ],
   "metadata": {
    "collapsed": false,
    "pycharm": {
     "name": "#%%\n"
    }
   }
  },
  {
   "cell_type": "code",
   "execution_count": 4,
   "outputs": [
    {
     "ename": "ValueError",
     "evalue": "cannot copy sequence with size 4 to array axis with dimension 3",
     "output_type": "error",
     "traceback": [
      "\u001B[0;31m---------------------------------------------------------------------------\u001B[0m",
      "\u001B[0;31mValueError\u001B[0m                                Traceback (most recent call last)",
      "\u001B[0;32m<ipython-input-4-4e2fe1ad56ea>\u001B[0m in \u001B[0;36m<module>\u001B[0;34m\u001B[0m\n\u001B[0;32m----> 1\u001B[0;31m \u001B[0mdf\u001B[0m\u001B[0;34m.\u001B[0m\u001B[0miloc\u001B[0m\u001B[0;34m[\u001B[0m\u001B[0;36m0\u001B[0m\u001B[0;34m]\u001B[0m \u001B[0;34m=\u001B[0m \u001B[0;34m[\u001B[0m\u001B[0;34m\"lkd\"\u001B[0m\u001B[0;34m,\u001B[0m \u001B[0;34m\"kds\"\u001B[0m\u001B[0;34m,\u001B[0m \u001B[0;34m\"k\"\u001B[0m\u001B[0;34m,\u001B[0m \u001B[0;34m\"lksk\"\u001B[0m\u001B[0;34m]\u001B[0m\u001B[0;34m\u001B[0m\u001B[0;34m\u001B[0m\u001B[0m\n\u001B[0m\u001B[1;32m      2\u001B[0m \u001B[0mprint\u001B[0m\u001B[0;34m(\u001B[0m\u001B[0mdf\u001B[0m\u001B[0;34m)\u001B[0m\u001B[0;34m\u001B[0m\u001B[0;34m\u001B[0m\u001B[0m\n",
      "\u001B[0;32m~/anaconda3/envs/wunder_summer/lib/python3.8/site-packages/pandas/core/indexing.py\u001B[0m in \u001B[0;36m__setitem__\u001B[0;34m(self, key, value)\u001B[0m\n\u001B[1;32m    668\u001B[0m \u001B[0;34m\u001B[0m\u001B[0m\n\u001B[1;32m    669\u001B[0m         \u001B[0miloc\u001B[0m \u001B[0;34m=\u001B[0m \u001B[0mself\u001B[0m \u001B[0;32mif\u001B[0m \u001B[0mself\u001B[0m\u001B[0;34m.\u001B[0m\u001B[0mname\u001B[0m \u001B[0;34m==\u001B[0m \u001B[0;34m\"iloc\"\u001B[0m \u001B[0;32melse\u001B[0m \u001B[0mself\u001B[0m\u001B[0;34m.\u001B[0m\u001B[0mobj\u001B[0m\u001B[0;34m.\u001B[0m\u001B[0miloc\u001B[0m\u001B[0;34m\u001B[0m\u001B[0;34m\u001B[0m\u001B[0m\n\u001B[0;32m--> 670\u001B[0;31m         \u001B[0miloc\u001B[0m\u001B[0;34m.\u001B[0m\u001B[0m_setitem_with_indexer\u001B[0m\u001B[0;34m(\u001B[0m\u001B[0mindexer\u001B[0m\u001B[0;34m,\u001B[0m \u001B[0mvalue\u001B[0m\u001B[0;34m)\u001B[0m\u001B[0;34m\u001B[0m\u001B[0;34m\u001B[0m\u001B[0m\n\u001B[0m\u001B[1;32m    671\u001B[0m \u001B[0;34m\u001B[0m\u001B[0m\n\u001B[1;32m    672\u001B[0m     \u001B[0;32mdef\u001B[0m \u001B[0m_validate_key\u001B[0m\u001B[0;34m(\u001B[0m\u001B[0mself\u001B[0m\u001B[0;34m,\u001B[0m \u001B[0mkey\u001B[0m\u001B[0;34m,\u001B[0m \u001B[0maxis\u001B[0m\u001B[0;34m:\u001B[0m \u001B[0mint\u001B[0m\u001B[0;34m)\u001B[0m\u001B[0;34m:\u001B[0m\u001B[0;34m\u001B[0m\u001B[0;34m\u001B[0m\u001B[0m\n",
      "\u001B[0;32m~/anaconda3/envs/wunder_summer/lib/python3.8/site-packages/pandas/core/indexing.py\u001B[0m in \u001B[0;36m_setitem_with_indexer\u001B[0;34m(self, indexer, value)\u001B[0m\n\u001B[1;32m   1800\u001B[0m             \u001B[0;31m# actually do the set\u001B[0m\u001B[0;34m\u001B[0m\u001B[0;34m\u001B[0m\u001B[0;34m\u001B[0m\u001B[0m\n\u001B[1;32m   1801\u001B[0m             \u001B[0mself\u001B[0m\u001B[0;34m.\u001B[0m\u001B[0mobj\u001B[0m\u001B[0;34m.\u001B[0m\u001B[0m_consolidate_inplace\u001B[0m\u001B[0;34m(\u001B[0m\u001B[0;34m)\u001B[0m\u001B[0;34m\u001B[0m\u001B[0;34m\u001B[0m\u001B[0m\n\u001B[0;32m-> 1802\u001B[0;31m             \u001B[0mself\u001B[0m\u001B[0;34m.\u001B[0m\u001B[0mobj\u001B[0m\u001B[0;34m.\u001B[0m\u001B[0m_mgr\u001B[0m \u001B[0;34m=\u001B[0m \u001B[0mself\u001B[0m\u001B[0;34m.\u001B[0m\u001B[0mobj\u001B[0m\u001B[0;34m.\u001B[0m\u001B[0m_mgr\u001B[0m\u001B[0;34m.\u001B[0m\u001B[0msetitem\u001B[0m\u001B[0;34m(\u001B[0m\u001B[0mindexer\u001B[0m\u001B[0;34m=\u001B[0m\u001B[0mindexer\u001B[0m\u001B[0;34m,\u001B[0m \u001B[0mvalue\u001B[0m\u001B[0;34m=\u001B[0m\u001B[0mvalue\u001B[0m\u001B[0;34m)\u001B[0m\u001B[0;34m\u001B[0m\u001B[0;34m\u001B[0m\u001B[0m\n\u001B[0m\u001B[1;32m   1803\u001B[0m             \u001B[0mself\u001B[0m\u001B[0;34m.\u001B[0m\u001B[0mobj\u001B[0m\u001B[0;34m.\u001B[0m\u001B[0m_maybe_update_cacher\u001B[0m\u001B[0;34m(\u001B[0m\u001B[0mclear\u001B[0m\u001B[0;34m=\u001B[0m\u001B[0;32mTrue\u001B[0m\u001B[0;34m)\u001B[0m\u001B[0;34m\u001B[0m\u001B[0;34m\u001B[0m\u001B[0m\n\u001B[1;32m   1804\u001B[0m \u001B[0;34m\u001B[0m\u001B[0m\n",
      "\u001B[0;32m~/anaconda3/envs/wunder_summer/lib/python3.8/site-packages/pandas/core/internals/managers.py\u001B[0m in \u001B[0;36msetitem\u001B[0;34m(self, indexer, value)\u001B[0m\n\u001B[1;32m    532\u001B[0m \u001B[0;34m\u001B[0m\u001B[0m\n\u001B[1;32m    533\u001B[0m     \u001B[0;32mdef\u001B[0m \u001B[0msetitem\u001B[0m\u001B[0;34m(\u001B[0m\u001B[0mself\u001B[0m\u001B[0;34m,\u001B[0m \u001B[0mindexer\u001B[0m\u001B[0;34m,\u001B[0m \u001B[0mvalue\u001B[0m\u001B[0;34m)\u001B[0m \u001B[0;34m->\u001B[0m \u001B[0;34m\"BlockManager\"\u001B[0m\u001B[0;34m:\u001B[0m\u001B[0;34m\u001B[0m\u001B[0;34m\u001B[0m\u001B[0m\n\u001B[0;32m--> 534\u001B[0;31m         \u001B[0;32mreturn\u001B[0m \u001B[0mself\u001B[0m\u001B[0;34m.\u001B[0m\u001B[0mapply\u001B[0m\u001B[0;34m(\u001B[0m\u001B[0;34m\"setitem\"\u001B[0m\u001B[0;34m,\u001B[0m \u001B[0mindexer\u001B[0m\u001B[0;34m=\u001B[0m\u001B[0mindexer\u001B[0m\u001B[0;34m,\u001B[0m \u001B[0mvalue\u001B[0m\u001B[0;34m=\u001B[0m\u001B[0mvalue\u001B[0m\u001B[0;34m)\u001B[0m\u001B[0;34m\u001B[0m\u001B[0;34m\u001B[0m\u001B[0m\n\u001B[0m\u001B[1;32m    535\u001B[0m \u001B[0;34m\u001B[0m\u001B[0m\n\u001B[1;32m    536\u001B[0m     def putmask(\n",
      "\u001B[0;32m~/anaconda3/envs/wunder_summer/lib/python3.8/site-packages/pandas/core/internals/managers.py\u001B[0m in \u001B[0;36mapply\u001B[0;34m(self, f, align_keys, **kwargs)\u001B[0m\n\u001B[1;32m    404\u001B[0m                 \u001B[0mapplied\u001B[0m \u001B[0;34m=\u001B[0m \u001B[0mb\u001B[0m\u001B[0;34m.\u001B[0m\u001B[0mapply\u001B[0m\u001B[0;34m(\u001B[0m\u001B[0mf\u001B[0m\u001B[0;34m,\u001B[0m \u001B[0;34m**\u001B[0m\u001B[0mkwargs\u001B[0m\u001B[0;34m)\u001B[0m\u001B[0;34m\u001B[0m\u001B[0;34m\u001B[0m\u001B[0m\n\u001B[1;32m    405\u001B[0m             \u001B[0;32melse\u001B[0m\u001B[0;34m:\u001B[0m\u001B[0;34m\u001B[0m\u001B[0;34m\u001B[0m\u001B[0m\n\u001B[0;32m--> 406\u001B[0;31m                 \u001B[0mapplied\u001B[0m \u001B[0;34m=\u001B[0m \u001B[0mgetattr\u001B[0m\u001B[0;34m(\u001B[0m\u001B[0mb\u001B[0m\u001B[0;34m,\u001B[0m \u001B[0mf\u001B[0m\u001B[0;34m)\u001B[0m\u001B[0;34m(\u001B[0m\u001B[0;34m**\u001B[0m\u001B[0mkwargs\u001B[0m\u001B[0;34m)\u001B[0m\u001B[0;34m\u001B[0m\u001B[0;34m\u001B[0m\u001B[0m\n\u001B[0m\u001B[1;32m    407\u001B[0m             \u001B[0mresult_blocks\u001B[0m \u001B[0;34m=\u001B[0m \u001B[0m_extend_blocks\u001B[0m\u001B[0;34m(\u001B[0m\u001B[0mapplied\u001B[0m\u001B[0;34m,\u001B[0m \u001B[0mresult_blocks\u001B[0m\u001B[0;34m)\u001B[0m\u001B[0;34m\u001B[0m\u001B[0;34m\u001B[0m\u001B[0m\n\u001B[1;32m    408\u001B[0m \u001B[0;34m\u001B[0m\u001B[0m\n",
      "\u001B[0;32m~/anaconda3/envs/wunder_summer/lib/python3.8/site-packages/pandas/core/internals/blocks.py\u001B[0m in \u001B[0;36msetitem\u001B[0;34m(self, indexer, value)\u001B[0m\n\u001B[1;32m    883\u001B[0m         \u001B[0;31m# set\u001B[0m\u001B[0;34m\u001B[0m\u001B[0;34m\u001B[0m\u001B[0;34m\u001B[0m\u001B[0m\n\u001B[1;32m    884\u001B[0m         \u001B[0;32melse\u001B[0m\u001B[0;34m:\u001B[0m\u001B[0;34m\u001B[0m\u001B[0;34m\u001B[0m\u001B[0m\n\u001B[0;32m--> 885\u001B[0;31m             \u001B[0mvalues\u001B[0m\u001B[0;34m[\u001B[0m\u001B[0mindexer\u001B[0m\u001B[0;34m]\u001B[0m \u001B[0;34m=\u001B[0m \u001B[0mvalue\u001B[0m\u001B[0;34m\u001B[0m\u001B[0;34m\u001B[0m\u001B[0m\n\u001B[0m\u001B[1;32m    886\u001B[0m \u001B[0;34m\u001B[0m\u001B[0m\n\u001B[1;32m    887\u001B[0m         \u001B[0;32mif\u001B[0m \u001B[0mtranspose\u001B[0m\u001B[0;34m:\u001B[0m\u001B[0;34m\u001B[0m\u001B[0;34m\u001B[0m\u001B[0m\n",
      "\u001B[0;31mValueError\u001B[0m: cannot copy sequence with size 4 to array axis with dimension 3"
     ]
    }
   ],
   "source": [
    "df.iloc[0] = [\"lkd\", \"kds\", \"k\", \"lksk\"]\n",
    "print(df)"
   ],
   "metadata": {
    "collapsed": false,
    "pycharm": {
     "name": "#%%\n"
    }
   }
  },
  {
   "cell_type": "code",
   "execution_count": null,
   "outputs": [],
   "source": [],
   "metadata": {
    "collapsed": false,
    "pycharm": {
     "name": "#%%\n"
    }
   }
  }
 ],
 "metadata": {
  "kernelspec": {
   "display_name": "Python 3",
   "language": "python",
   "name": "python3"
  },
  "language_info": {
   "codemirror_mode": {
    "name": "ipython",
    "version": 2
   },
   "file_extension": ".py",
   "mimetype": "text/x-python",
   "name": "python",
   "nbconvert_exporter": "python",
   "pygments_lexer": "ipython2",
   "version": "2.7.6"
  }
 },
 "nbformat": 4,
 "nbformat_minor": 0
}