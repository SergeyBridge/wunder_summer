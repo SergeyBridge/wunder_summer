{
 "cells": [
  {
   "cell_type": "code",
   "execution_count": 2,
   "metadata": {
    "collapsed": true
   },
   "outputs": [],
   "source": [
    "import numpy as np\n",
    "import pandas as pd\n",
    "\n",
    "\n",
    "\n",
    "arr = np.load(\"../../data/train_small_A.npz\")"
   ]
  },
  {
   "cell_type": "code",
   "execution_count": 3,
   "outputs": [
    {
     "data": {
      "text/plain": "          time  id  action  type  side  price  amount  is_snapshot  Y\n0            0   0      10     0     0      0       0            0 -1\n1  42687740354   0       1     1     1   5035       2            1 -1\n2  42688006882   1       1     1     1   4655       1            1 -1\n3  42688021008   2       1     1     1   4751       1            1 -1\n4  42688038240   3       1     1     1   4008       2            1 -1",
      "text/html": "<div>\n<style scoped>\n    .dataframe tbody tr th:only-of-type {\n        vertical-align: middle;\n    }\n\n    .dataframe tbody tr th {\n        vertical-align: top;\n    }\n\n    .dataframe thead th {\n        text-align: right;\n    }\n</style>\n<table border=\"1\" class=\"dataframe\">\n  <thead>\n    <tr style=\"text-align: right;\">\n      <th></th>\n      <th>time</th>\n      <th>id</th>\n      <th>action</th>\n      <th>type</th>\n      <th>side</th>\n      <th>price</th>\n      <th>amount</th>\n      <th>is_snapshot</th>\n      <th>Y</th>\n    </tr>\n  </thead>\n  <tbody>\n    <tr>\n      <th>0</th>\n      <td>0</td>\n      <td>0</td>\n      <td>10</td>\n      <td>0</td>\n      <td>0</td>\n      <td>0</td>\n      <td>0</td>\n      <td>0</td>\n      <td>-1</td>\n    </tr>\n    <tr>\n      <th>1</th>\n      <td>42687740354</td>\n      <td>0</td>\n      <td>1</td>\n      <td>1</td>\n      <td>1</td>\n      <td>5035</td>\n      <td>2</td>\n      <td>1</td>\n      <td>-1</td>\n    </tr>\n    <tr>\n      <th>2</th>\n      <td>42688006882</td>\n      <td>1</td>\n      <td>1</td>\n      <td>1</td>\n      <td>1</td>\n      <td>4655</td>\n      <td>1</td>\n      <td>1</td>\n      <td>-1</td>\n    </tr>\n    <tr>\n      <th>3</th>\n      <td>42688021008</td>\n      <td>2</td>\n      <td>1</td>\n      <td>1</td>\n      <td>1</td>\n      <td>4751</td>\n      <td>1</td>\n      <td>1</td>\n      <td>-1</td>\n    </tr>\n    <tr>\n      <th>4</th>\n      <td>42688038240</td>\n      <td>3</td>\n      <td>1</td>\n      <td>1</td>\n      <td>1</td>\n      <td>4008</td>\n      <td>2</td>\n      <td>1</td>\n      <td>-1</td>\n    </tr>\n  </tbody>\n</table>\n</div>"
     },
     "execution_count": 3,
     "metadata": {},
     "output_type": "execute_result"
    }
   ],
   "source": [
    "df = pd.DataFrame(data=arr[\"events\"], columns=arr[\"columns\"])\n",
    "df.head()\n"
   ],
   "metadata": {
    "collapsed": false,
    "pycharm": {
     "name": "#%%\n"
    }
   }
  },
  {
   "cell_type": "code",
   "execution_count": 11,
   "outputs": [],
   "source": [
    "df = df.loc[df.action.isin([3,10]) ]\n",
    "df.reset_index(inplace=True)"
   ],
   "metadata": {
    "collapsed": false,
    "pycharm": {
     "name": "#%%\n"
    }
   }
  },
  {
   "cell_type": "code",
   "execution_count": 12,
   "outputs": [
    {
     "name": "stdout",
     "output_type": "stream",
     "text": [
      "(663250, 10)\n",
      "3     663089\n",
      "10       161\n",
      "Name: action, dtype: int64\n"
     ]
    }
   ],
   "source": [
    "print(df.shape)\n",
    "print(df.action.value_counts())\n"
   ],
   "metadata": {
    "collapsed": false,
    "pycharm": {
     "name": "#%%\n"
    }
   }
  },
  {
   "cell_type": "code",
   "execution_count": 13,
   "outputs": [
    {
     "name": "stdout",
     "output_type": "stream",
     "text": [
      "int(df.shape[0] * .8) 530600\n",
      "Int64Index([536701, 544968, 550997, 554143, 559096, 563286, 569384, 570142,\n",
      "            574374, 579646, 583210, 586469, 589472, 596935, 602884, 607353,\n",
      "            608610, 619131, 625958, 632782, 636006, 637806, 640530, 642620,\n",
      "            648329, 650379, 654266, 658430],\n",
      "           dtype='int64')\n"
     ]
    }
   ],
   "source": [
    "new_chunk_indexes = df.iloc[530000:][df.action.iloc[530000:] == 10].index\n",
    "print(\"int(df.shape[0] * .8)\", int(df.shape[0] * .8))\n",
    "print(new_chunk_indexes)\n",
    "#print(df.iloc[8538574])"
   ],
   "metadata": {
    "collapsed": false,
    "pycharm": {
     "name": "#%%\n"
    }
   }
  },
  {
   "cell_type": "code",
   "execution_count": 14,
   "outputs": [],
   "source": [
    "train_df = df.iloc[:536701]\n",
    "test_df = df.iloc[536701:]\n",
    "\n",
    "np.savez(file=\"../../data/train80_deals.npz\", events=train_df.values, columns=list(train_df.columns))\n",
    "np.savez(file=\"../../data/test20_deals.npz\", events=test_df.values, columns=list(test_df.columns))\n"
   ],
   "metadata": {
    "collapsed": false,
    "pycharm": {
     "name": "#%%\n"
    }
   }
  },
  {
   "cell_type": "code",
   "execution_count": null,
   "outputs": [],
   "source": [
    "d = pd.DataFrame([1, 2, 3, 4, 5])\n",
    "tf = d.iloc[:3]\n",
    "vf = d.iloc[3:]\n"
   ],
   "metadata": {
    "collapsed": false,
    "pycharm": {
     "name": "#%%\n"
    }
   }
  },
  {
   "cell_type": "code",
   "execution_count": null,
   "outputs": [],
   "source": [
    "\n",
    " brr = np.load(\"../../data/train_small_B.npz\")\n",
    "\n",
    "for a in arr:\n",
    "    print(a)\n",
    "\n",
    "a_events = arr[\"events\"][:100000]\n",
    "b_events = brr[\"events\"][:100000]\n",
    "\n",
    "print(\"events.shape\", a_events.shape)\n",
    "print(\"events.shape\", b_events.shape)"
   ],
   "metadata": {
    "collapsed": false,
    "pycharm": {
     "name": "#%%\n"
    }
   }
  },
  {
   "cell_type": "code",
   "execution_count": 2,
   "outputs": [],
   "source": [
    "np.savez(file=\"../../data/very_small_A.npz\", events=a_events, columns=arr[\"columns\"])\n",
    "np.savez(file=\"../../data/very_small_B.npz\", events=b_events, columns=arr[\"columns\"])"
   ],
   "metadata": {
    "collapsed": false,
    "pycharm": {
     "name": "#%%\n"
    }
   }
  },
  {
   "cell_type": "code",
   "execution_count": 4,
   "outputs": [],
   "source": [
    "import numpy as np\n",
    "crr = np.load(\"../../data/train_small_C.npz\")\n",
    "\n",
    "c_events = crr[\"events\"][:100000]\n",
    "\n",
    "np.savez(file=\"../../data/very_small_C.npz\", events=c_events, columns=crr[\"columns\"])\n",
    "\n",
    "\n",
    "\n"
   ],
   "metadata": {
    "collapsed": false,
    "pycharm": {
     "name": "#%%\n"
    }
   }
  },
  {
   "cell_type": "code",
   "execution_count": 4,
   "outputs": [],
   "source": [
    "np.savez(file=\"very_small_AA.npz\", x=a_events)"
   ],
   "metadata": {
    "collapsed": false,
    "pycharm": {
     "name": "#%%\n"
    }
   }
  },
  {
   "cell_type": "code",
   "execution_count": 3,
   "outputs": [
    {
     "name": "stdout",
     "output_type": "stream",
     "text": [
      "[3]\n",
      "[3, [3]]\n",
      "[3, [3], 6]\n"
     ]
    }
   ],
   "source": [
    "fet = []\n",
    "fet.append(3)\n",
    "print(fet)\n",
    "fet.append([3])\n",
    "print(fet)\n",
    "fet += [6]\n",
    "print(fet)"
   ],
   "metadata": {
    "collapsed": false,
    "pycharm": {
     "name": "#%%\n"
    }
   }
  },
  {
   "cell_type": "code",
   "execution_count": null,
   "outputs": [],
   "source": [
    "arr = np.load(\"../../data/train_small_A.npz\")\n"
   ],
   "metadata": {
    "collapsed": false,
    "pycharm": {
     "name": "#%%\n"
    }
   }
  }
 ],
 "metadata": {
  "kernelspec": {
   "display_name": "Python 3",
   "language": "python",
   "name": "python3"
  },
  "language_info": {
   "codemirror_mode": {
    "name": "ipython",
    "version": 2
   },
   "file_extension": ".py",
   "mimetype": "text/x-python",
   "name": "python",
   "nbconvert_exporter": "python",
   "pygments_lexer": "ipython2",
   "version": "2.7.6"
  }
 },
 "nbformat": 4,
 "nbformat_minor": 0
}