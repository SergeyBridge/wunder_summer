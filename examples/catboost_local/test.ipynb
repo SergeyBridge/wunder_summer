{
 "cells": [
  {
   "cell_type": "code",
   "execution_count": null,
   "metadata": {
    "collapsed": true
   },
   "outputs": [],
   "source": [
    "import numpy as np\n",
    "import pandas as pd\n",
    "\n",
    "\n",
    "\n",
    "train80_arr = np.load(\"../../data/train80_nosnapshots.npz\")\n",
    "test20_arr = np.load(\"../../data/test20_nosnapshots.npz\")"
   ]
  },
  {
   "cell_type": "code",
   "execution_count": null,
   "outputs": [],
   "source": [
    "train80_df = pd.DataFrame(data=train80_arr[\"events\"], columns=train80_arr[\"columns\"])\n",
    "test20_df = pd.DataFrame(data=test20_arr[\"events\"], columns=test20_arr[\"columns\"])\n"
   ],
   "metadata": {
    "collapsed": false,
    "pycharm": {
     "name": "#%%\n"
    }
   }
  },
  {
   "cell_type": "code",
   "execution_count": null,
   "outputs": [],
   "source": [
    "train80_df = train80_df.loc[train80_df.is_snapshot == 0]\n",
    "test20_df = test20_df.loc[test20_df.is_snapshot == 0]"
   ],
   "metadata": {
    "collapsed": false,
    "pycharm": {
     "name": "#%%\n"
    }
   }
  },
  {
   "cell_type": "code",
   "execution_count": null,
   "outputs": [],
   "source": [
    "# np.savez(file=\"../../data/train80_nosnapshots.npz\", events=train80_df.values, columns=list(train80_df.columns))\n",
    "# np.savez(file=\"../../data/test20_nosnapshots.npz\", events=test20_df.values, columns=list(test20_df.columns))\n",
    "\n",
    "train80_df.to_pickle(\"../../data/train80_nosnapshots.pickle\")\n",
    "test20_df.to_pickle(\"../../data/test20_nosnapshots.pickle\")"
   ],
   "metadata": {
    "collapsed": false,
    "pycharm": {
     "name": "#%%\n"
    }
   }
  },
  {
   "cell_type": "code",
   "execution_count": null,
   "outputs": [],
   "source": [
    "# df = df.loc[df.action.isin([3,10]) ]\n",
    "print(\"df.loc(df.Y.isin([0, 1]))\", df.loc[df.Y.isin([0, 1])].shape)\n",
    "print(\"df.loc[df.action.isin([3, 10])]\", df.loc[df.action.isin([3, 10])].shape)\n",
    "\n",
    "df1 = df.loc[df.Y.isin([0, 1]) | df.action.isin([3, 10])]\n",
    "\n",
    "print(df1.shape)\n",
    "print(df1.head())\n",
    "\n",
    "print(\"df.action.value_counts()\")\n",
    "print(df1.action.value_counts())\n",
    "\n",
    "print('df[\"action\", \"y\"].value_counts()')\n",
    "print(df[[\"action\", \"Y\", \"is_snapshot\"]].value_counts())"
   ],
   "metadata": {
    "collapsed": false,
    "pycharm": {
     "name": "#%%\n"
    }
   }
  },
  {
   "cell_type": "code",
   "execution_count": null,
   "outputs": [],
   "source": [
    "df.reset_index(inplace=True)"
   ],
   "metadata": {
    "collapsed": false,
    "pycharm": {
     "name": "#%%\n"
    }
   }
  },
  {
   "cell_type": "code",
   "execution_count": null,
   "outputs": [],
   "source": [
    "print(df.shape)\n",
    "print(df.action.value_counts())\n"
   ],
   "metadata": {
    "collapsed": false,
    "pycharm": {
     "name": "#%%\n"
    }
   }
  },
  {
   "cell_type": "code",
   "execution_count": null,
   "outputs": [],
   "source": [
    "print(\"int(df.shape[0] * .8)\", int(df.shape[0] * .8))"
   ],
   "metadata": {
    "collapsed": false,
    "pycharm": {
     "name": "#%%\n"
    }
   }
  },
  {
   "cell_type": "code",
   "execution_count": null,
   "outputs": [],
   "source": [
    "new_chunk_indexes = df.iloc[188000:][df.action.iloc[188000:] == 10].index\n",
    "print(new_chunk_indexes)\n",
    "#print(df.iloc[8538574])"
   ],
   "metadata": {
    "collapsed": false,
    "pycharm": {
     "name": "#%%\n"
    }
   }
  },
  {
   "cell_type": "code",
   "execution_count": null,
   "outputs": [],
   "source": [
    "train_df = df.iloc[:536701]\n",
    "test_df = df.iloc[536701:]\n",
    "\n",
    "np.savez(file=\"../../data/train80_deals.npz\", events=train_df.values, columns=list(train_df.columns))\n",
    "np.savez(file=\"../../data/test20_deals.npz\", events=test_df.values, columns=list(test_df.columns))\n"
   ],
   "metadata": {
    "collapsed": false,
    "pycharm": {
     "name": "#%%\n"
    }
   }
  },
  {
   "cell_type": "code",
   "execution_count": null,
   "outputs": [],
   "source": [
    "d = pd.DataFrame([1, 2, 3, 4, 5])\n",
    "tf = d.iloc[:3]\n",
    "vf = d.iloc[3:]\n"
   ],
   "metadata": {
    "collapsed": false,
    "pycharm": {
     "name": "#%%\n"
    }
   }
  },
  {
   "cell_type": "code",
   "execution_count": null,
   "outputs": [],
   "source": [
    "\n",
    " brr = np.load(\"../../data/train_small_B.npz\")\n",
    "\n",
    "for a in arr:\n",
    "    print(a)\n",
    "\n",
    "a_events = arr[\"events\"][:100000]\n",
    "b_events = brr[\"events\"][:100000]\n",
    "\n",
    "print(\"events.shape\", a_events.shape)\n",
    "print(\"events.shape\", b_events.shape)"
   ],
   "metadata": {
    "collapsed": false,
    "pycharm": {
     "name": "#%%\n"
    }
   }
  },
  {
   "cell_type": "code",
   "execution_count": null,
   "outputs": [],
   "source": [
    "np.savez(file=\"../../data/very_small_A.npz\", events=a_events, columns=arr[\"columns\"])\n",
    "np.savez(file=\"../../data/very_small_B.npz\", events=b_events, columns=arr[\"columns\"])"
   ],
   "metadata": {
    "collapsed": false,
    "pycharm": {
     "name": "#%%\n"
    }
   }
  },
  {
   "cell_type": "code",
   "execution_count": null,
   "outputs": [],
   "source": [
    "import numpy as np\n",
    "crr = np.load(\"../../data/train_small_C.npz\")\n",
    "\n",
    "c_events = crr[\"events\"][:100000]\n",
    "\n",
    "np.savez(file=\"../../data/very_small_C.npz\", events=c_events, columns=crr[\"columns\"])\n",
    "\n",
    "\n",
    "\n"
   ],
   "metadata": {
    "collapsed": false,
    "pycharm": {
     "name": "#%%\n"
    }
   }
  },
  {
   "cell_type": "code",
   "execution_count": null,
   "outputs": [],
   "source": [
    "np.savez(file=\"very_small_AA.npz\", x=a_events)"
   ],
   "metadata": {
    "collapsed": false,
    "pycharm": {
     "name": "#%%\n"
    }
   }
  },
  {
   "cell_type": "code",
   "execution_count": null,
   "outputs": [],
   "source": [
    "X_train_very_small_A, Y_train_very_small_A = collect_dataset(\"../../data/train_very_small_A.npz\")\n",
    "X_train_very_small_A.to_pickle(\"X_train_very_small_A_130.pickle\")\n",
    "Y_train_very_small_A.to_pickle(\"Y_train_very_small_A_130.pickle\")\n",
    "\n",
    "X_test_very_small_B, Y_test_very_small_B = collect_dataset(\"../../data/test_very_small_B.npz\")\n",
    "X_test_very_small_B.to_pickle(\"X_test_very_small_B_130.pickle\")\n",
    "Y_test_very_small_B.to_pickle(\"Y_test_very_small_B_130.pickle\")"
   ],
   "metadata": {
    "collapsed": false,
    "pycharm": {
     "name": "#%%\n"
    }
   }
  },
  {
   "cell_type": "code",
   "execution_count": null,
   "outputs": [],
   "source": [
    "import numpy as np\n",
    "import pandas as pd\n",
    "\n",
    "df = pd.DataFrame(data=np.full((5,3), fill_value=np.nan), columns=[\"one\", \"two\", \"three\"])\n",
    "print(df)"
   ],
   "metadata": {
    "collapsed": false,
    "pycharm": {
     "name": "#%%\n"
    }
   }
  },
  {
   "cell_type": "code",
   "execution_count": null,
   "outputs": [],
   "source": [
    "df.iloc[0] = [\"lkd\", \"kds\", \"k\", \"lksk\"]\n",
    "print(df)"
   ],
   "metadata": {
    "collapsed": false,
    "pycharm": {
     "name": "#%%\n"
    }
   }
  },
  {
   "cell_type": "code",
   "execution_count": 25,
   "outputs": [],
   "source": [
    "\n",
    "import pandas as pd\n",
    "import numpy as np"
   ],
   "metadata": {
    "collapsed": false,
    "pycharm": {
     "name": "#%%\n"
    }
   }
  },
  {
   "cell_type": "code",
   "execution_count": null,
   "outputs": [],
   "source": [
    "df = pd.read_pickle(\"../../data/X_train.pickle\")"
   ],
   "metadata": {
    "collapsed": false,
    "pycharm": {
     "name": "#%%\n"
    }
   }
  },
  {
   "cell_type": "code",
   "execution_count": 26,
   "outputs": [],
   "source": [
    "df.head()\n",
    "\n",
    "df1 = pd.DataFrame(data=df[6]).iloc[:10]\n",
    "del df"
   ],
   "metadata": {
    "collapsed": false,
    "pycharm": {
     "name": "#%%\n"
    }
   }
  },
  {
   "cell_type": "code",
   "execution_count": 45,
   "outputs": [
    {
     "name": "stdout",
     "output_type": "stream",
     "text": [
      "df1.values.shape (10, 1)\n"
     ]
    },
    {
     "data": {
      "text/plain": "                                                   6\n0  [nan, nan, nan, nan, nan, 1208.0, 1208.0, nan,...\n1  [nan, 1208.0, nan, nan, nan, 1208.0, 1208.0, n...\n2  [nan, 1208.0, nan, nan, nan, 1207.344716381121...\n3  [nan, 1207.8248927621296, nan, nan, nan, 1207....\n4  [nan, 1207.733750043552, 1207.0, nan, nan, 120...",
      "text/html": "<div>\n<style scoped>\n    .dataframe tbody tr th:only-of-type {\n        vertical-align: middle;\n    }\n\n    .dataframe tbody tr th {\n        vertical-align: top;\n    }\n\n    .dataframe thead th {\n        text-align: right;\n    }\n</style>\n<table border=\"1\" class=\"dataframe\">\n  <thead>\n    <tr style=\"text-align: right;\">\n      <th></th>\n      <th>6</th>\n    </tr>\n  </thead>\n  <tbody>\n    <tr>\n      <th>0</th>\n      <td>[nan, nan, nan, nan, nan, 1208.0, 1208.0, nan,...</td>\n    </tr>\n    <tr>\n      <th>1</th>\n      <td>[nan, 1208.0, nan, nan, nan, 1208.0, 1208.0, n...</td>\n    </tr>\n    <tr>\n      <th>2</th>\n      <td>[nan, 1208.0, nan, nan, nan, 1207.344716381121...</td>\n    </tr>\n    <tr>\n      <th>3</th>\n      <td>[nan, 1207.8248927621296, nan, nan, nan, 1207....</td>\n    </tr>\n    <tr>\n      <th>4</th>\n      <td>[nan, 1207.733750043552, 1207.0, nan, nan, 120...</td>\n    </tr>\n  </tbody>\n</table>\n</div>"
     },
     "execution_count": 45,
     "metadata": {},
     "output_type": "execute_result"
    }
   ],
   "source": [
    "print(\"df1.values.shape\", df1.values.shape)\n",
    "\n",
    "df1.head()"
   ],
   "metadata": {
    "collapsed": false,
    "pycharm": {
     "name": "#%%\n"
    }
   }
  },
  {
   "cell_type": "code",
   "execution_count": 38,
   "outputs": [
    {
     "name": "stdout",
     "output_type": "stream",
     "text": [
      "<class 'pandas.core.series.Series'>\n",
      "[list([nan, nan, nan, nan, nan, 1208.0, 1208.0, nan, nan, nan, nan, nan, nan, 1.0, 2.0, nan, nan, nan, nan, nan, nan, 1208.0, 2416.0, nan, nan, nan, nan, nan, nan, 1208.0, 1208.0, nan, nan, nan, nan, nan, nan, 1.0, 2.0, nan, nan, nan, nan, nan, nan, 1208.0, 2416.0, nan, nan, nan, nan, nan, nan, 1208.0, 1208.0, nan, nan, nan, nan, nan, nan, 1.0, 2.0, nan, nan, nan, nan, nan, nan, 1208.0, 2416.0, nan, nan, nan, nan, nan, nan, 1208.0, 1208.0, nan, nan, nan, nan, nan, nan, 1.0, 2.0, nan, nan, nan, nan, nan, nan, 1208.0, 2416.0, nan, nan, nan, nan, nan, nan, 1208.0, 1208.0, nan, nan, nan, nan, nan, nan, 1.0, 2.0, nan, nan, nan, nan, nan, nan, 1208.0, 2416.0, nan, nan, nan, nan, nan, nan, 1208.0, 1208.0, nan, nan, nan, nan, nan, nan, 1.0, 2.0, nan, nan, nan, nan, nan, nan, 1208.0, 2416.0, nan, nan, nan, nan, nan, nan, 1208.0, 1208.0, nan, nan, nan, nan, nan, nan, 1.0, 2.0, nan, nan, nan, nan, nan, nan, 1208.0, 2416.0, nan, nan, nan, nan, nan, nan, 1208.0, 1208.0, nan, nan, nan, nan, nan, nan, 1.0, 2.0, nan, nan, nan, nan, nan, nan, 1208.0, 2416.0, nan, nan, nan, nan, nan, nan, 1208.0, 1208.0, nan, nan, nan, nan, nan, nan, 1.0, 2.0, nan, nan, nan, nan, nan, nan, 1208.0, 2416.0, nan])]\n",
      "216\n"
     ]
    }
   ],
   "source": [
    "d = df1.iloc[0]\n",
    "print(type(d))\n",
    "print(d.values)\n",
    "print(len(d.values[0]))"
   ],
   "metadata": {
    "collapsed": false,
    "pycharm": {
     "name": "#%%\n"
    }
   }
  },
  {
   "cell_type": "code",
   "execution_count": 39,
   "outputs": [
    {
     "name": "stdout",
     "output_type": "stream",
     "text": [
      "['0' '1' '2' '3' '4' '5' '6' '7' '8' '9' '10' '11' '12' '13' '14' '15'\n",
      " '16' '17' '18' '19' '20' '21' '22' '23' '24' '25' '26' '27' '28' '29'\n",
      " '30' '31' '32' '33' '34' '35' '36' '37' '38' '39' '40' '41' '42' '43'\n",
      " '44' '45' '46' '47' '48' '49' '50' '51' '52' '53' '54' '55' '56' '57'\n",
      " '58' '59' '60' '61' '62' '63' '64' '65' '66' '67' '68' '69' '70' '71'\n",
      " '72' '73' '74' '75' '76' '77' '78' '79' '80' '81' '82' '83' '84' '85'\n",
      " '86' '87' '88' '89' '90' '91' '92' '93' '94' '95' '96' '97' '98' '99'\n",
      " '100' '101' '102' '103' '104' '105' '106' '107' '108' '109' '110' '111'\n",
      " '112' '113' '114' '115' '116' '117' '118' '119' '120' '121' '122' '123'\n",
      " '124' '125' '126' '127' '128' '129' '130' '131' '132' '133' '134' '135'\n",
      " '136' '137' '138' '139' '140' '141' '142' '143' '144' '145' '146' '147'\n",
      " '148' '149' '150' '151' '152' '153' '154' '155' '156' '157' '158' '159'\n",
      " '160' '161' '162' '163' '164' '165' '166' '167' '168' '169' '170' '171'\n",
      " '172' '173' '174' '175' '176' '177' '178' '179' '180' '181' '182' '183'\n",
      " '184' '185' '186' '187' '188' '189' '190' '191' '192' '193' '194' '195'\n",
      " '196' '197' '198' '199' '200' '201' '202' '203' '204' '205' '206' '207'\n",
      " '208' '209' '210' '211' '212' '213' '214' '215']\n"
     ]
    }
   ],
   "source": [
    "columns = np.array(range(len(d.values[0])), dtype=np.str)\n",
    "print(columns)"
   ],
   "metadata": {
    "collapsed": false,
    "pycharm": {
     "name": "#%%\n"
    }
   }
  },
  {
   "cell_type": "code",
   "execution_count": 51,
   "outputs": [
    {
     "ename": "IndexError",
     "evalue": "list index out of range",
     "output_type": "error",
     "traceback": [
      "\u001B[0;31m---------------------------------------------------------------------------\u001B[0m",
      "\u001B[0;31mIndexError\u001B[0m                                Traceback (most recent call last)",
      "\u001B[0;32m<ipython-input-51-12e92ab2ff38>\u001B[0m in \u001B[0;36m<module>\u001B[0;34m\u001B[0m\n\u001B[0;32m----> 1\u001B[0;31m \u001B[0mdd\u001B[0m \u001B[0;34m=\u001B[0m \u001B[0mpd\u001B[0m\u001B[0;34m.\u001B[0m\u001B[0mDataFrame\u001B[0m\u001B[0;34m.\u001B[0m\u001B[0m_from_arrays\u001B[0m\u001B[0;34m(\u001B[0m\u001B[0marrays\u001B[0m\u001B[0;34m=\u001B[0m\u001B[0mdf1\u001B[0m\u001B[0;34m.\u001B[0m\u001B[0mvalues\u001B[0m\u001B[0;34m,\u001B[0m \u001B[0mindex\u001B[0m\u001B[0;34m=\u001B[0m\u001B[0mdf1\u001B[0m\u001B[0;34m.\u001B[0m\u001B[0mindex\u001B[0m\u001B[0;34m,\u001B[0m \u001B[0mcolumns\u001B[0m\u001B[0;34m=\u001B[0m\u001B[0mcolumns\u001B[0m\u001B[0;34m)\u001B[0m\u001B[0;34m\u001B[0m\u001B[0;34m\u001B[0m\u001B[0m\n\u001B[0m\u001B[1;32m      2\u001B[0m \u001B[0mdd\u001B[0m\u001B[0;34m.\u001B[0m\u001B[0mhead\u001B[0m\u001B[0;34m(\u001B[0m\u001B[0;34m)\u001B[0m\u001B[0;34m\u001B[0m\u001B[0;34m\u001B[0m\u001B[0m\n",
      "\u001B[0;32m~/anaconda3/envs/wunder_summer/lib/python3.8/site-packages/pandas/core/frame.py\u001B[0m in \u001B[0;36m_from_arrays\u001B[0;34m(cls, arrays, columns, index, dtype, verify_integrity)\u001B[0m\n\u001B[1;32m   2036\u001B[0m             \u001B[0mdtype\u001B[0m \u001B[0;34m=\u001B[0m \u001B[0mpandas_dtype\u001B[0m\u001B[0;34m(\u001B[0m\u001B[0mdtype\u001B[0m\u001B[0;34m)\u001B[0m\u001B[0;34m\u001B[0m\u001B[0;34m\u001B[0m\u001B[0m\n\u001B[1;32m   2037\u001B[0m \u001B[0;34m\u001B[0m\u001B[0m\n\u001B[0;32m-> 2038\u001B[0;31m         mgr = arrays_to_mgr(\n\u001B[0m\u001B[1;32m   2039\u001B[0m             \u001B[0marrays\u001B[0m\u001B[0;34m,\u001B[0m\u001B[0;34m\u001B[0m\u001B[0;34m\u001B[0m\u001B[0m\n\u001B[1;32m   2040\u001B[0m             \u001B[0mcolumns\u001B[0m\u001B[0;34m,\u001B[0m\u001B[0;34m\u001B[0m\u001B[0;34m\u001B[0m\u001B[0m\n",
      "\u001B[0;32m~/anaconda3/envs/wunder_summer/lib/python3.8/site-packages/pandas/core/internals/construction.py\u001B[0m in \u001B[0;36marrays_to_mgr\u001B[0;34m(arrays, arr_names, index, columns, dtype, verify_integrity)\u001B[0m\n\u001B[1;32m     91\u001B[0m     \u001B[0maxes\u001B[0m \u001B[0;34m=\u001B[0m \u001B[0;34m[\u001B[0m\u001B[0mcolumns\u001B[0m\u001B[0;34m,\u001B[0m \u001B[0mindex\u001B[0m\u001B[0;34m]\u001B[0m\u001B[0;34m\u001B[0m\u001B[0;34m\u001B[0m\u001B[0m\n\u001B[1;32m     92\u001B[0m \u001B[0;34m\u001B[0m\u001B[0m\n\u001B[0;32m---> 93\u001B[0;31m     \u001B[0;32mreturn\u001B[0m \u001B[0mcreate_block_manager_from_arrays\u001B[0m\u001B[0;34m(\u001B[0m\u001B[0marrays\u001B[0m\u001B[0;34m,\u001B[0m \u001B[0marr_names\u001B[0m\u001B[0;34m,\u001B[0m \u001B[0maxes\u001B[0m\u001B[0;34m)\u001B[0m\u001B[0;34m\u001B[0m\u001B[0;34m\u001B[0m\u001B[0m\n\u001B[0m\u001B[1;32m     94\u001B[0m \u001B[0;34m\u001B[0m\u001B[0m\n\u001B[1;32m     95\u001B[0m \u001B[0;34m\u001B[0m\u001B[0m\n",
      "\u001B[0;32m~/anaconda3/envs/wunder_summer/lib/python3.8/site-packages/pandas/core/internals/managers.py\u001B[0m in \u001B[0;36mcreate_block_manager_from_arrays\u001B[0;34m(arrays, names, axes)\u001B[0m\n\u001B[1;32m   1681\u001B[0m \u001B[0;34m\u001B[0m\u001B[0m\n\u001B[1;32m   1682\u001B[0m     \u001B[0;32mtry\u001B[0m\u001B[0;34m:\u001B[0m\u001B[0;34m\u001B[0m\u001B[0;34m\u001B[0m\u001B[0m\n\u001B[0;32m-> 1683\u001B[0;31m         \u001B[0mblocks\u001B[0m \u001B[0;34m=\u001B[0m \u001B[0mform_blocks\u001B[0m\u001B[0;34m(\u001B[0m\u001B[0marrays\u001B[0m\u001B[0;34m,\u001B[0m \u001B[0mnames\u001B[0m\u001B[0;34m,\u001B[0m \u001B[0maxes\u001B[0m\u001B[0;34m)\u001B[0m\u001B[0;34m\u001B[0m\u001B[0;34m\u001B[0m\u001B[0m\n\u001B[0m\u001B[1;32m   1684\u001B[0m         \u001B[0mmgr\u001B[0m \u001B[0;34m=\u001B[0m \u001B[0mBlockManager\u001B[0m\u001B[0;34m(\u001B[0m\u001B[0mblocks\u001B[0m\u001B[0;34m,\u001B[0m \u001B[0maxes\u001B[0m\u001B[0;34m)\u001B[0m\u001B[0;34m\u001B[0m\u001B[0;34m\u001B[0m\u001B[0m\n\u001B[1;32m   1685\u001B[0m         \u001B[0mmgr\u001B[0m\u001B[0;34m.\u001B[0m\u001B[0m_consolidate_inplace\u001B[0m\u001B[0;34m(\u001B[0m\u001B[0;34m)\u001B[0m\u001B[0;34m\u001B[0m\u001B[0;34m\u001B[0m\u001B[0m\n",
      "\u001B[0;32m~/anaconda3/envs/wunder_summer/lib/python3.8/site-packages/pandas/core/internals/managers.py\u001B[0m in \u001B[0;36mform_blocks\u001B[0;34m(arrays, names, axes)\u001B[0m\n\u001B[1;32m   1732\u001B[0m \u001B[0;34m\u001B[0m\u001B[0m\n\u001B[1;32m   1733\u001B[0m         \u001B[0mk\u001B[0m \u001B[0;34m=\u001B[0m \u001B[0mnames\u001B[0m\u001B[0;34m[\u001B[0m\u001B[0mname_idx\u001B[0m\u001B[0;34m]\u001B[0m\u001B[0;34m\u001B[0m\u001B[0;34m\u001B[0m\u001B[0m\n\u001B[0;32m-> 1734\u001B[0;31m         \u001B[0mv\u001B[0m \u001B[0;34m=\u001B[0m \u001B[0marrays\u001B[0m\u001B[0;34m[\u001B[0m\u001B[0mname_idx\u001B[0m\u001B[0;34m]\u001B[0m\u001B[0;34m\u001B[0m\u001B[0;34m\u001B[0m\u001B[0m\n\u001B[0m\u001B[1;32m   1735\u001B[0m \u001B[0;34m\u001B[0m\u001B[0m\n\u001B[1;32m   1736\u001B[0m         \u001B[0mblock_type\u001B[0m \u001B[0;34m=\u001B[0m \u001B[0mget_block_type\u001B[0m\u001B[0;34m(\u001B[0m\u001B[0mv\u001B[0m\u001B[0;34m)\u001B[0m\u001B[0;34m\u001B[0m\u001B[0;34m\u001B[0m\u001B[0m\n",
      "\u001B[0;31mIndexError\u001B[0m: list index out of range"
     ]
    }
   ],
   "source": [
    "dd = pd.DataFrame._from_arrays(arrays=df1.values, index=df1.index, columns=columns)\n",
    "dd.head()"
   ],
   "metadata": {
    "collapsed": false,
    "pycharm": {
     "name": "#%%\n"
    }
   }
  },
  {
   "cell_type": "code",
   "execution_count": null,
   "outputs": [],
   "source": [
    "df1.values.ravel()"
   ],
   "metadata": {
    "collapsed": false,
    "pycharm": {
     "name": "#%%\n"
    }
   }
  },
  {
   "cell_type": "code",
   "execution_count": null,
   "outputs": [],
   "source": [],
   "metadata": {
    "collapsed": false,
    "pycharm": {
     "name": "#%%\n"
    }
   }
  }
 ],
 "metadata": {
  "kernelspec": {
   "display_name": "Python 3",
   "language": "python",
   "name": "python3"
  },
  "language_info": {
   "codemirror_mode": {
    "name": "ipython",
    "version": 2
   },
   "file_extension": ".py",
   "mimetype": "text/x-python",
   "name": "python",
   "nbconvert_exporter": "python",
   "pygments_lexer": "ipython2",
   "version": "2.7.6"
  }
 },
 "nbformat": 4,
 "nbformat_minor": 0
}