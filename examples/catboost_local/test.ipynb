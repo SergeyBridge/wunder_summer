{
 "cells": [
  {
   "cell_type": "code",
   "execution_count": 1,
   "metadata": {
    "collapsed": true
   },
   "outputs": [],
   "source": [
    "import numpy as np\n",
    "import pandas as pd\n",
    "\n",
    "\n",
    "\n",
    "arr = np.load(\"../../data/train_small_A.npz\")"
   ]
  },
  {
   "cell_type": "code",
   "execution_count": 41,
   "outputs": [
    {
     "data": {
      "text/plain": "          time  id  action  type  side  price  amount  is_snapshot  Y\n0            0   0      10     0     0      0       0            0 -1\n1  42687740354   0       1     1     1   5035       2            1 -1\n2  42688006882   1       1     1     1   4655       1            1 -1\n3  42688021008   2       1     1     1   4751       1            1 -1\n4  42688038240   3       1     1     1   4008       2            1 -1",
      "text/html": "<div>\n<style scoped>\n    .dataframe tbody tr th:only-of-type {\n        vertical-align: middle;\n    }\n\n    .dataframe tbody tr th {\n        vertical-align: top;\n    }\n\n    .dataframe thead th {\n        text-align: right;\n    }\n</style>\n<table border=\"1\" class=\"dataframe\">\n  <thead>\n    <tr style=\"text-align: right;\">\n      <th></th>\n      <th>time</th>\n      <th>id</th>\n      <th>action</th>\n      <th>type</th>\n      <th>side</th>\n      <th>price</th>\n      <th>amount</th>\n      <th>is_snapshot</th>\n      <th>Y</th>\n    </tr>\n  </thead>\n  <tbody>\n    <tr>\n      <th>0</th>\n      <td>0</td>\n      <td>0</td>\n      <td>10</td>\n      <td>0</td>\n      <td>0</td>\n      <td>0</td>\n      <td>0</td>\n      <td>0</td>\n      <td>-1</td>\n    </tr>\n    <tr>\n      <th>1</th>\n      <td>42687740354</td>\n      <td>0</td>\n      <td>1</td>\n      <td>1</td>\n      <td>1</td>\n      <td>5035</td>\n      <td>2</td>\n      <td>1</td>\n      <td>-1</td>\n    </tr>\n    <tr>\n      <th>2</th>\n      <td>42688006882</td>\n      <td>1</td>\n      <td>1</td>\n      <td>1</td>\n      <td>1</td>\n      <td>4655</td>\n      <td>1</td>\n      <td>1</td>\n      <td>-1</td>\n    </tr>\n    <tr>\n      <th>3</th>\n      <td>42688021008</td>\n      <td>2</td>\n      <td>1</td>\n      <td>1</td>\n      <td>1</td>\n      <td>4751</td>\n      <td>1</td>\n      <td>1</td>\n      <td>-1</td>\n    </tr>\n    <tr>\n      <th>4</th>\n      <td>42688038240</td>\n      <td>3</td>\n      <td>1</td>\n      <td>1</td>\n      <td>1</td>\n      <td>4008</td>\n      <td>2</td>\n      <td>1</td>\n      <td>-1</td>\n    </tr>\n  </tbody>\n</table>\n</div>"
     },
     "execution_count": 41,
     "metadata": {},
     "output_type": "execute_result"
    }
   ],
   "source": [
    "df = pd.DataFrame(data=arr[\"events\"], columns=arr[\"columns\"])\n",
    "df.head()\n"
   ],
   "metadata": {
    "collapsed": false,
    "pycharm": {
     "name": "#%%\n"
    }
   }
  },
  {
   "cell_type": "code",
   "execution_count": 43,
   "outputs": [
    {
     "name": "stdout",
     "output_type": "stream",
     "text": [
      "df.loc(df.Y.isin([0, 1])) (234905, 9)\n",
      "df.loc[df.action.isin([3, 10])] (663250, 9)\n",
      "(769100, 9)\n",
      "             time    id  action  type  side  price  amount  is_snapshot  Y\n",
      "0               0     0      10     0     0      0       0            0 -1\n",
      "3196  14154129630  3180       3     0     1   1208       1            0 -1\n",
      "3199  14154129993  3183       1     1     1   1208       2            0  0\n",
      "3290  14156125411  3210       3     0     0   1208       1            0  0\n",
      "3304  14156542921  3218       3     0     0   1208       1            0 -1\n",
      "df.action.value_counts()\n",
      "3     663089\n",
      "1     104404\n",
      "0       1213\n",
      "2        233\n",
      "10       161\n",
      "Name: action, dtype: int64\n",
      "df[\"action\", \"y\"].value_counts()\n",
      "action  Y   is_snapshot\n",
      "0       -1  0              4579738\n",
      "1       -1  0              4478962\n",
      "            1               645189\n",
      "3       -1  0               534034\n",
      "2       -1  0               142543\n",
      "3        0  0               106610\n",
      "1        0  0                82683\n",
      "3        1  0                22445\n",
      "1        1  0                21721\n",
      "2       -1  1                 2086\n",
      "0        0  0                  962\n",
      "         1  0                  251\n",
      "2        0  0                  195\n",
      "10      -1  0                  161\n",
      "2        1  0                   38\n",
      "dtype: int64\n"
     ]
    }
   ],
   "source": [
    "\n",
    "# df = df.loc[df.action.isin([3,10]) ]\n",
    "print(\"df.loc(df.Y.isin([0, 1]))\", df.loc[df.Y.isin([0, 1])].shape)\n",
    "print(\"df.loc[df.action.isin([3, 10])]\", df.loc[df.action.isin([3, 10])].shape)\n",
    "\n",
    "df1 = df.loc[df.Y.isin([0, 1]) | df.action.isin([3, 10])]\n",
    "\n",
    "print(df1.shape)\n",
    "print(df1.head())\n",
    "\n",
    "print(\"df.action.value_counts()\")\n",
    "print(df1.action.value_counts())\n",
    "\n",
    "print('df[\"action\", \"y\"].value_counts()')\n",
    "print(df[[\"action\", \"Y\", \"is_snapshot\"]].value_counts())"
   ],
   "metadata": {
    "collapsed": false,
    "pycharm": {
     "name": "#%%\n"
    }
   }
  },
  {
   "cell_type": "code",
   "execution_count": null,
   "outputs": [],
   "source": [
    "df.reset_index(inplace=True)"
   ],
   "metadata": {
    "collapsed": false,
    "pycharm": {
     "name": "#%%\n"
    }
   }
  },
  {
   "cell_type": "code",
   "execution_count": 6,
   "outputs": [
    {
     "name": "stdout",
     "output_type": "stream",
     "text": [
      "(234905, 10)\n",
      "3    129055\n",
      "1    104404\n",
      "0      1213\n",
      "2       233\n",
      "Name: action, dtype: int64\n"
     ]
    }
   ],
   "source": [
    "print(df.shape)\n",
    "print(df.action.value_counts())\n"
   ],
   "metadata": {
    "collapsed": false,
    "pycharm": {
     "name": "#%%\n"
    }
   }
  },
  {
   "cell_type": "code",
   "execution_count": 7,
   "outputs": [
    {
     "name": "stdout",
     "output_type": "stream",
     "text": [
      "int(df.shape[0] * .8) 187924\n"
     ]
    }
   ],
   "source": [
    "print(\"int(df.shape[0] * .8)\", int(df.shape[0] * .8))"
   ],
   "metadata": {
    "collapsed": false,
    "pycharm": {
     "name": "#%%\n"
    }
   }
  },
  {
   "cell_type": "code",
   "execution_count": 10,
   "outputs": [
    {
     "name": "stdout",
     "output_type": "stream",
     "text": [
      "Int64Index([], dtype='int64')\n"
     ]
    }
   ],
   "source": [
    "new_chunk_indexes = df.iloc[188000:][df.action.iloc[188000:] == 10].index\n",
    "print(new_chunk_indexes)\n",
    "#print(df.iloc[8538574])"
   ],
   "metadata": {
    "collapsed": false,
    "pycharm": {
     "name": "#%%\n"
    }
   }
  },
  {
   "cell_type": "code",
   "execution_count": 14,
   "outputs": [],
   "source": [
    "train_df = df.iloc[:536701]\n",
    "test_df = df.iloc[536701:]\n",
    "\n",
    "np.savez(file=\"../../data/train80_deals.npz\", events=train_df.values, columns=list(train_df.columns))\n",
    "np.savez(file=\"../../data/test20_deals.npz\", events=test_df.values, columns=list(test_df.columns))\n"
   ],
   "metadata": {
    "collapsed": false,
    "pycharm": {
     "name": "#%%\n"
    }
   }
  },
  {
   "cell_type": "code",
   "execution_count": null,
   "outputs": [],
   "source": [
    "d = pd.DataFrame([1, 2, 3, 4, 5])\n",
    "tf = d.iloc[:3]\n",
    "vf = d.iloc[3:]\n"
   ],
   "metadata": {
    "collapsed": false,
    "pycharm": {
     "name": "#%%\n"
    }
   }
  },
  {
   "cell_type": "code",
   "execution_count": null,
   "outputs": [],
   "source": [
    "\n",
    " brr = np.load(\"../../data/train_small_B.npz\")\n",
    "\n",
    "for a in arr:\n",
    "    print(a)\n",
    "\n",
    "a_events = arr[\"events\"][:100000]\n",
    "b_events = brr[\"events\"][:100000]\n",
    "\n",
    "print(\"events.shape\", a_events.shape)\n",
    "print(\"events.shape\", b_events.shape)"
   ],
   "metadata": {
    "collapsed": false,
    "pycharm": {
     "name": "#%%\n"
    }
   }
  },
  {
   "cell_type": "code",
   "execution_count": 2,
   "outputs": [],
   "source": [
    "np.savez(file=\"../../data/very_small_A.npz\", events=a_events, columns=arr[\"columns\"])\n",
    "np.savez(file=\"../../data/very_small_B.npz\", events=b_events, columns=arr[\"columns\"])"
   ],
   "metadata": {
    "collapsed": false,
    "pycharm": {
     "name": "#%%\n"
    }
   }
  },
  {
   "cell_type": "code",
   "execution_count": 4,
   "outputs": [],
   "source": [
    "import numpy as np\n",
    "crr = np.load(\"../../data/train_small_C.npz\")\n",
    "\n",
    "c_events = crr[\"events\"][:100000]\n",
    "\n",
    "np.savez(file=\"../../data/very_small_C.npz\", events=c_events, columns=crr[\"columns\"])\n",
    "\n",
    "\n",
    "\n"
   ],
   "metadata": {
    "collapsed": false,
    "pycharm": {
     "name": "#%%\n"
    }
   }
  },
  {
   "cell_type": "code",
   "execution_count": 4,
   "outputs": [],
   "source": [
    "np.savez(file=\"very_small_AA.npz\", x=a_events)"
   ],
   "metadata": {
    "collapsed": false,
    "pycharm": {
     "name": "#%%\n"
    }
   }
  },
  {
   "cell_type": "code",
   "execution_count": 3,
   "outputs": [
    {
     "name": "stdout",
     "output_type": "stream",
     "text": [
      "[3]\n",
      "[3, [3]]\n",
      "[3, [3], 6]\n"
     ]
    }
   ],
   "source": [
    "fet = []\n",
    "fet.append(3)\n",
    "print(fet)\n",
    "fet.append([3])\n",
    "print(fet)\n",
    "fet += [6]\n",
    "print(fet)"
   ],
   "metadata": {
    "collapsed": false,
    "pycharm": {
     "name": "#%%\n"
    }
   }
  },
  {
   "cell_type": "code",
   "execution_count": null,
   "outputs": [],
   "source": [
    "arr = np.load(\"../../data/train_small_A.npz\")"
   ],
   "metadata": {
    "collapsed": false,
    "pycharm": {
     "name": "#%%\n"
    }
   }
  },
  {
   "cell_type": "code",
   "execution_count": 4,
   "outputs": [],
   "source": [
    "import sklearn\n",
    "from sklearn.pipeline import Pipeline"
   ],
   "metadata": {
    "collapsed": false,
    "pycharm": {
     "name": "#%%\n"
    }
   }
  },
  {
   "cell_type": "code",
   "execution_count": 1,
   "outputs": [],
   "source": [
    "d = {\n",
    "    1:4\n",
    "}"
   ],
   "metadata": {
    "collapsed": false,
    "pycharm": {
     "name": "#%%\n"
    }
   }
  },
  {
   "cell_type": "code",
   "execution_count": 2,
   "outputs": [
    {
     "name": "stdout",
     "output_type": "stream",
     "text": [
      "{1: 4}\n"
     ]
    }
   ],
   "source": [
    "print(d)"
   ],
   "metadata": {
    "collapsed": false,
    "pycharm": {
     "name": "#%%\n"
    }
   }
  },
  {
   "cell_type": "code",
   "execution_count": 4,
   "outputs": [
    {
     "name": "stdout",
     "output_type": "stream",
     "text": [
      "this is class a\n"
     ]
    }
   ],
   "source": [
    "class Test:\n",
    "    def a(self):\n",
    "        print(\"this is class a\")\n",
    "    def b(self):\n",
    "        print(\"this is class        ****b\")\n",
    "\n",
    "handler = {\n",
    "    1: Test.a,\n",
    "    2: Test.b,\n",
    "}\n",
    "\n",
    "t = Test()\n",
    "\n",
    "t.a()"
   ],
   "metadata": {
    "collapsed": false,
    "pycharm": {
     "name": "#%%\n"
    }
   }
  },
  {
   "cell_type": "code",
   "execution_count": 11,
   "outputs": [
    {
     "ename": "AttributeError",
     "evalue": "'Test' object has no attribute '__class_getitem__'",
     "output_type": "error",
     "traceback": [
      "\u001B[0;31m---------------------------------------------------------------------------\u001B[0m",
      "\u001B[0;31mAttributeError\u001B[0m                            Traceback (most recent call last)",
      "\u001B[0;32m<ipython-input-11-b429ba3553e5>\u001B[0m in \u001B[0;36m<module>\u001B[0;34m\u001B[0m\n\u001B[0;32m----> 1\u001B[0;31m \u001B[0mt\u001B[0m\u001B[0;34m.\u001B[0m\u001B[0m__class_getitem__\u001B[0m\u001B[0;34m(\u001B[0m\u001B[0mhandler\u001B[0m\u001B[0;34m[\u001B[0m\u001B[0;36m1\u001B[0m\u001B[0;34m]\u001B[0m\u001B[0;34m)\u001B[0m\u001B[0;34m\u001B[0m\u001B[0;34m\u001B[0m\u001B[0m\n\u001B[0m\u001B[1;32m      2\u001B[0m \u001B[0;34m\u001B[0m\u001B[0m\n",
      "\u001B[0;31mAttributeError\u001B[0m: 'Test' object has no attribute '__class_getitem__'"
     ]
    }
   ],
   "source": [
    "t.__class_getitem__(handler[1])"
   ],
   "metadata": {
    "collapsed": false,
    "pycharm": {
     "name": "#%%\n"
    }
   }
  },
  {
   "cell_type": "code",
   "execution_count": null,
   "outputs": [],
   "source": [],
   "metadata": {
    "collapsed": false,
    "pycharm": {
     "name": "#%%\n"
    }
   }
  }
 ],
 "metadata": {
  "kernelspec": {
   "display_name": "Python 3",
   "language": "python",
   "name": "python3"
  },
  "language_info": {
   "codemirror_mode": {
    "name": "ipython",
    "version": 2
   },
   "file_extension": ".py",
   "mimetype": "text/x-python",
   "name": "python",
   "nbconvert_exporter": "python",
   "pygments_lexer": "ipython2",
   "version": "2.7.6"
  }
 },
 "nbformat": 4,
 "nbformat_minor": 0
}