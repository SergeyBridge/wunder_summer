{
 "cells": [
  {
   "cell_type": "code",
   "execution_count": 1,
   "metadata": {
    "collapsed": true
   },
   "outputs": [
    {
     "name": "stdout",
     "output_type": "stream",
     "text": [
      "events\n",
      "columns\n",
      "events.shape (100000, 9)\n",
      "events.shape (100000, 9)\n"
     ]
    }
   ],
   "source": [
    "import numpy as np\n",
    "import pandas as pd\n",
    "\n",
    "\n",
    "\n",
    "arr = np.load(\"../../data/train_small_A.npz\")\n",
    "brr = np.load(\"../../data/train_small_B.npz\")\n",
    "\n",
    "for a in arr:\n",
    "    print(a)\n",
    "\n",
    "a_events = arr[\"events\"][:100000]\n",
    "b_events = brr[\"events\"][:100000]\n",
    "\n",
    "print(\"events.shape\", a_events.shape)\n",
    "print(\"events.shape\", b_events.shape)"
   ]
  },
  {
   "cell_type": "code",
   "execution_count": 2,
   "outputs": [],
   "source": [
    "np.savez(file=\"../../data/very_small_A.npz\", events=a_events, columns=arr[\"columns\"])\n",
    "np.savez(file=\"../../data/very_small_B.npz\", events=b_events, columns=arr[\"columns\"])\n",
    "\n",
    "\n",
    "\n",
    "\n"
   ],
   "metadata": {
    "collapsed": false,
    "pycharm": {
     "name": "#%%\n"
    }
   }
  },
  {
   "cell_type": "code",
   "execution_count": 4,
   "outputs": [],
   "source": [
    "np.savez(file=\"very_small_AA.npz\", x=a_events)"
   ],
   "metadata": {
    "collapsed": false,
    "pycharm": {
     "name": "#%%\n"
    }
   }
  },
  {
   "cell_type": "code",
   "execution_count": 3,
   "outputs": [
    {
     "name": "stdout",
     "output_type": "stream",
     "text": [
      "[3]\n",
      "[3, [3]]\n",
      "[3, [3], 6]\n"
     ]
    }
   ],
   "source": [
    "fet = []\n",
    "fet.append(3)\n",
    "print(fet)\n",
    "fet.append([3])\n",
    "print(fet)\n",
    "fet += [6]\n",
    "print(fet)"
   ],
   "metadata": {
    "collapsed": false,
    "pycharm": {
     "name": "#%%\n"
    }
   }
  },
  {
   "cell_type": "code",
   "execution_count": null,
   "outputs": [],
   "source": [],
   "metadata": {
    "collapsed": false,
    "pycharm": {
     "name": "#%%\n"
    }
   }
  }
 ],
 "metadata": {
  "kernelspec": {
   "display_name": "Python 3",
   "language": "python",
   "name": "python3"
  },
  "language_info": {
   "codemirror_mode": {
    "name": "ipython",
    "version": 2
   },
   "file_extension": ".py",
   "mimetype": "text/x-python",
   "name": "python",
   "nbconvert_exporter": "python",
   "pygments_lexer": "ipython2",
   "version": "2.7.6"
  }
 },
 "nbformat": 4,
 "nbformat_minor": 0
}