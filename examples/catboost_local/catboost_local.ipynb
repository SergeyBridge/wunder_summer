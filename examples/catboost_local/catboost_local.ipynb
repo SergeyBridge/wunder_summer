{
 "cells": [
  {
   "cell_type": "code",
   "execution_count": 9,
   "metadata": {},
   "outputs": [
    {
     "name": "stdout",
     "output_type": "stream",
     "text": [
      "curdir: /home/sergey/mnt/st1500/Usr/Sergey/TheJob/Challenges/wunder_summer/wunder_challenge/examples/catboost_local\n"
     ]
    }
   ],
   "source": [
    "import sys\n",
    "import numpy as np\n",
    "import pandas as pd\n",
    "import lightgbm as lg\n",
    "from tqdm import tqdm\n",
    "import pandas as pd\n",
    "from pathlib import Path\n",
    "\n",
    "# from importlib import reload\n",
    "\n",
    "\n",
    "import catboost\n",
    "from catboost.utils import get_gpu_device_count\n",
    "\n",
    "sys.path.append(\"../../scorer/\")\n",
    "import orderbook_fast as ob\n",
    "\n",
    "# from  solution import get_simple_features_from_orderbook, get_simple_deals_features\n",
    "# from  solution import get_simple_deals_features\n",
    "\n",
    "from my_orderbook import MyOrderBook\n",
    "catboost_myob = MyOrderBook()\n",
    "\n",
    "SIDE_BID = 0 \n",
    "SIDE_ASK = 1\n",
    "\n",
    "print(f\"curdir: {Path.cwd()}\")"
   ]
  },
  {
   "cell_type": "markdown",
   "metadata": {},
   "source": [
    "## Собираем датасет для тренировки модели"
   ]
  },
  {
   "cell_type": "code",
   "execution_count": 10,
   "outputs": [
    {
     "name": "stderr",
     "output_type": "stream",
     "text": [
      "collecting dataset: 100%|██████████| 100000/100000 [00:37<00:00, 2655.29it/s]\n",
      "collecting dataset: 100%|██████████| 100000/100000 [00:39<00:00, 2502.24it/s]\n"
     ]
    },
    {
     "name": "stdout",
     "output_type": "stream",
     "text": [
      "Dataset collected: len(X) = 2300\n",
      "Dataset collected: len(X) = 2444\n",
      "X_train.shape  ==  (2300, 82)\n"
     ]
    }
   ],
   "source": [
    "def collect_dataset(data_path):\n",
    "    '''\n",
    "        Собираем датасет\n",
    "    '''\n",
    "\n",
    "    global catboost_myob\n",
    "    event_player = ob.EventPlayer(data_path)\n",
    "    orderbook = ob.OrderBook()\n",
    "\n",
    "    X = []\n",
    "    Y = []\n",
    "\n",
    "    # last_deal = [None, None]\n",
    "    for ev in tqdm(event_player.iget_events(),\n",
    "                    total=len(event_player),\n",
    "                    desc=\"collecting dataset\"):\n",
    "\n",
    "        if ev.action == ob.Action.DEAL:\n",
    "            # last_deal[ev.side] = ev\n",
    "            catboost_myob.set_last_deal(ev)\n",
    "        elif ev.action == ob.Action.NEW_CHUNK:\n",
    "            catboost_myob.clear()\n",
    "            # last_deal = [None, None]\n",
    "\n",
    "        orderbook.apply_event(ev)\n",
    "        if ev.need_prediction:\n",
    "            features = catboost_myob.get_features(ev, orderbook)\n",
    "\n",
    "            X.append(features)\n",
    "            Y.append(ev.Y)\n",
    "\n",
    "    print(f\"Dataset collected: len(X) = {len(X)}\")\n",
    "#     return np.array(X), np.array(Y)\n",
    "    return pd.DataFrame(X), pd.DataFrame(Y)\n",
    "\n",
    "X_train, Y_train = collect_dataset(\"../../data/very_small_A.npz\")\n",
    "X_test, Y_test = collect_dataset(\"../../data/very_small_B.npz\")\n",
    "\n",
    "\n",
    "print(\"X_train.shape  == \", X_train.shape)"
   ],
   "metadata": {
    "collapsed": false,
    "pycharm": {
     "name": "#%%\n"
    }
   }
  },
  {
   "cell_type": "markdown",
   "source": [
    "## Обучаем модель градиентного бустинга"
   ],
   "metadata": {
    "collapsed": false
   }
  },
  {
   "cell_type": "code",
   "execution_count": 11,
   "outputs": [
    {
     "name": "stdout",
     "output_type": "stream",
     "text": [
      "catboost training with CPU...\n",
      "X_train.shape =  (2300, 82)\n",
      "get_gpu_device_count() =  1\n",
      "0:\tloss: 0.5356971\tbest: 0.5356971 (0)\ttotal: 4.09s\tremaining: 57.2s\n",
      "1:\tloss: 0.5357125\tbest: 0.5357125 (1)\ttotal: 7.82s\tremaining: 50.8s\n",
      "2:\tloss: 0.5322337\tbest: 0.5357125 (1)\ttotal: 11.5s\tremaining: 45.9s\n",
      "3:\tloss: 0.5244432\tbest: 0.5357125 (1)\ttotal: 15.2s\tremaining: 41.8s\n",
      "4:\tloss: 0.5386835\tbest: 0.5386835 (4)\ttotal: 18.8s\tremaining: 37.7s\n",
      "5:\tloss: 0.5484625\tbest: 0.5484625 (5)\ttotal: 22.8s\tremaining: 34.1s\n",
      "6:\tloss: 0.5450162\tbest: 0.5484625 (5)\ttotal: 26.6s\tremaining: 30.4s\n",
      "7:\tloss: 0.5421204\tbest: 0.5484625 (5)\ttotal: 30.1s\tremaining: 26.3s\n",
      "8:\tloss: 0.5489514\tbest: 0.5489514 (8)\ttotal: 33.6s\tremaining: 22.4s\n",
      "9:\tloss: 0.5458614\tbest: 0.5489514 (8)\ttotal: 37.4s\tremaining: 18.7s\n",
      "10:\tloss: 0.5752444\tbest: 0.5752444 (10)\ttotal: 41.4s\tremaining: 15s\n",
      "11:\tloss: 0.5784530\tbest: 0.5784530 (11)\ttotal: 45.4s\tremaining: 11.4s\n",
      "12:\tloss: 0.5820167\tbest: 0.5820167 (12)\ttotal: 49.3s\tremaining: 7.59s\n",
      "13:\tloss: 0.5771874\tbest: 0.5820167 (12)\ttotal: 53.6s\tremaining: 3.83s\n",
      "14:\tloss: 0.5828209\tbest: 0.5828209 (14)\ttotal: 57.5s\tremaining: 0us\n",
      "('iterations', 5)\n",
      "('loss_function', 'Logloss')\n",
      "('od_wait', 30)\n",
      "('od_type', 'Iter')\n",
      "('logging_level', 'Verbose')\n",
      "('train_dir', 'grid')\n",
      "('custom_metric', ['Recall', 'Precision', 'Accuracy', 'F1', 'Kappa', 'MCC'])\n",
      "('eval_metric', 'AUC:hints=skip_train~false')\n",
      "('boosting_type', 'Ordered')\n",
      "('task_type', 'CPU')\n",
      "('bootstrap_type', 'Bayesian')\n",
      "('langevin', True)\n",
      "('depth', 6)\n",
      "('l2_leaf_reg', 11)\n",
      "('learning_rate', 0.03)\n",
      "CPU times: user 14.7 s, sys: 690 ms, total: 15.4 s\n",
      "Wall time: 58 s\n"
     ]
    }
   ],
   "source": [
    "%%time\n",
    "def train_catboost(X_train, Y_train, X_test, Y_test):\n",
    "\n",
    "    task_type = \"CPU\" #  if (get_gpu_device_count() == 0) else \"GPU\"\n",
    "    langevin = False if task_type == \"GPU\" else True\n",
    "    print(f\"catboost training with {task_type}...\")\n",
    "    print(\"X_train.shape = \", X_train.shape)\n",
    "    print(\"get_gpu_device_count() = \", get_gpu_device_count())\n",
    "\n",
    "    train_pool = catboost.Pool(X_train, Y_train, cat_features=catboost_myob.cat_features)     #    , cat_features=cat_features)\n",
    "\n",
    "    grid = {'learning_rate': [0.03],\n",
    "            # 'score_function': [\"Cosine\", \"L2\", \"NewtonL2\"],\n",
    "            'depth': [4, 5, 6],\n",
    "            'l2_leaf_reg': [2, 3, 5, 8, 11],\n",
    "            # 'nan_mode': [\"Min\", \"Max\"],\n",
    "            # 'fold_len_multiplier': np.linspace(1.1, 3, 3),\n",
    "            # 'bagging_temperature': np.linspace(1, 3000, 3),\n",
    "\n",
    "    }\n",
    "\n",
    "    model = catboost.CatBoostClassifier(\n",
    "\n",
    "        bootstrap_type=\"Bayesian\",\n",
    "        # scale_pos_weight=en.scale_pos_weight,\n",
    "        # scale_pos_weight=1,\n",
    "        loss_function = \"Logloss\",\n",
    "        eval_metric=\"AUC:hints=skip_train~false\",\n",
    "        langevin=langevin,\n",
    "        custom_metric=[\"Recall\", \"Precision\", \"Accuracy\", \"F1\", \"Kappa\", \"MCC\"],\n",
    "        # use_best_model=True,\n",
    "        iterations=5,\n",
    "        od_type=\"Iter\",\n",
    "        od_wait=30,\n",
    "        # rsm=0.5,\n",
    "        # random_seed=100,\n",
    "        task_type=task_type,\n",
    "        boosting_type='Ordered',\n",
    "        logging_level=\"Verbose\",\n",
    "        train_dir=\"grid\",\n",
    "\n",
    "    )\n",
    "\n",
    "    grid_search_result = model.grid_search(\n",
    "        grid,\n",
    "        X=train_pool,\n",
    "        stratified=True,\n",
    "        cv=3,\n",
    "        search_by_train_test_split=False,\n",
    "        plot=False      # PLOT,\n",
    "\n",
    "    )\n",
    "\n",
    "\n",
    "    params = model.get_params()\n",
    "    for param in params.items():\n",
    "        print(param)\n",
    "\n",
    "    return grid_search_result, model\n",
    "\n",
    "grid_search_result, clf = train_catboost(X_train, Y_train, X_test, Y_test)\n",
    "# clf = train_classifier(X_train, Y_train, X_test, Y_test)"
   ],
   "metadata": {
    "collapsed": false,
    "pycharm": {
     "name": "#%%\n"
    }
   }
  },
  {
   "cell_type": "markdown",
   "metadata": {},
   "source": [
    "## Тестируем получившийся классификатор"
   ]
  },
  {
   "cell_type": "code",
   "execution_count": 12,
   "metadata": {
    "tags": []
   },
   "outputs": [
    {
     "name": "stderr",
     "output_type": "stream",
     "text": [
      "scoring: 100%|██████████| 100000/100000 [00:42<00:00, 2369.21it/s]\n"
     ]
    },
    {
     "name": "stdout",
     "output_type": "stream",
     "text": [
      "\n",
      "roc_auc_score = 0.560\n"
     ]
    }
   ],
   "source": [
    "def process_event_and_predict_proba(ev, orderbook):\n",
    "\n",
    "    if ev.action == ob.Action.DEAL:\n",
    "        catboost_myob.set_last_deal(ev)\n",
    "    elif ev.action == ob.Action.NEW_CHUNK:\n",
    "        catboost_myob.clear()\n",
    "\n",
    "\n",
    "\n",
    "    if not ev.need_prediction:\n",
    "        return None\n",
    "    \n",
    "    features = catboost_myob.get_features(ev, orderbook)\n",
    "    proba = clf.predict_proba([features])[0, 1]\n",
    "    return proba\n",
    "\n",
    "from scorer import Scorer\n",
    "\n",
    "# scoring = Scorer(\"../../data/train_small_C.npz\")\n",
    "scoring = Scorer(\"../../data/very_small_B.npz\")\n",
    "roc_auc, (true_ys, pred_probas) = scoring.score(process_event_and_predict_proba)"
   ]
  },
  {
   "cell_type": "markdown",
   "metadata": {},
   "source": [
    "## Сохраним модель, и решение для отправки готово"
   ]
  },
  {
   "cell_type": "code",
   "execution_count": 13,
   "metadata": {},
   "outputs": [
    {
     "name": "stdout",
     "output_type": "stream",
     "text": [
      "curdir: /home/sergey/mnt/st1500/Usr/Sergey/TheJob/Challenges/wunder_summer/wunder_challenge/examples/catboost_local\n"
     ]
    },
    {
     "data": {
      "text/plain": "'Посмотрите код файла solution.py. \\nОн использует те же функции что и этот ноутбук, но уже готов к отправке на серверю. \\nПопробуйте создать архив с файлами solution.py и wunder.model и отправить их на проверку.'"
     },
     "execution_count": 13,
     "metadata": {},
     "output_type": "execute_result"
    }
   ],
   "source": [
    "# Сохраним нашу модель\n",
    "# clf.booster_.save_model(\"wunder.model\")\n",
    "clf.save_model(\"wunder.model\", format=\"cbm\")\n",
    "print(f\"curdir: {Path.cwd()}\")\n",
    "'''Посмотрите код файла solution.py. \n",
    "Он использует те же функции что и этот ноутбук, но уже готов к отправке на серверю. \n",
    "Попробуйте создать архив с файлами solution.py и wunder.model и отправить их на проверку.'''"
   ]
  },
  {
   "cell_type": "code",
   "execution_count": 13,
   "metadata": {},
   "outputs": [],
   "source": []
  }
 ],
 "metadata": {
  "kernelspec": {
   "display_name": "Python 3",
   "language": "python",
   "name": "python3"
  },
  "language_info": {
   "codemirror_mode": {
    "name": "ipython",
    "version": 3
   },
   "file_extension": ".py",
   "mimetype": "text/x-python",
   "name": "python",
   "nbconvert_exporter": "python",
   "pygments_lexer": "ipython3",
   "version": "3.8.2"
  }
 },
 "nbformat": 4,
 "nbformat_minor": 4
}