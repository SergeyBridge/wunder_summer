{
 "cells": [
  {
   "cell_type": "code",
   "execution_count": 1,
   "metadata": {},
   "outputs": [
    {
     "name": "stdout",
     "output_type": "stream",
     "text": [
      "curdir: /home/sergey/mnt/st1500/Usr/Sergey/TheJob/Challenges/wunder_summer/wunder_challenge/examples/catboost_local\n"
     ]
    }
   ],
   "source": [
    "import sys\n",
    "import numpy as np\n",
    "import pandas as pd\n",
    "import lightgbm as lg\n",
    "from tqdm import tqdm\n",
    "import pandas as pd\n",
    "from pathlib import Path\n",
    "\n",
    "# from importlib import reload\n",
    "\n",
    "\n",
    "import catboost\n",
    "from catboost.utils import get_gpu_device_count\n",
    "\n",
    "sys.path.append(\"../../scorer/\")\n",
    "import orderbook_fast as ob\n",
    "\n",
    "# from  solution import get_simple_features_from_orderbook, get_simple_deals_features\n",
    "# from  solution import get_simple_deals_features\n",
    "\n",
    "from my_orderbook import MyOrderBook\n",
    "catboost_myob = MyOrderBook()\n",
    "\n",
    "SIDE_BID = 0 \n",
    "SIDE_ASK = 1\n",
    "\n",
    "print(f\"curdir: {Path.cwd()}\")"
   ]
  },
  {
   "cell_type": "markdown",
   "metadata": {},
   "source": [
    "## Собираем датасет для тренировки модели"
   ]
  },
  {
   "cell_type": "code",
   "execution_count": 2,
   "outputs": [
    {
     "name": "stderr",
     "output_type": "stream",
     "text": [
      "collecting dataset: 100%|██████████| 100000/100000 [00:37<00:00, 2659.44it/s]\n",
      "collecting dataset: 100%|██████████| 100000/100000 [00:41<00:00, 2434.00it/s]\n"
     ]
    },
    {
     "name": "stdout",
     "output_type": "stream",
     "text": [
      " 3 clear \n",
      "            time  action  type  side  price  amount  is_snapshot\n",
      "0   2.433676e+10     3.0   0.0   0.0  914.0     1.0          0.0\n",
      "1   2.433693e+10     3.0   0.0   0.0  914.0     1.0          0.0\n",
      "2   2.433713e+10     3.0   0.0   1.0  913.0     1.0          0.0\n",
      "3   2.433715e+10     3.0   0.0   0.0  914.0     1.0          0.0\n",
      "4   2.433736e+10     3.0   0.0   1.0  913.0     5.0          0.0\n",
      "5   2.433790e+10     3.0   0.0   0.0  914.0     1.0          0.0\n",
      "6   2.433790e+10     3.0   0.0   0.0  914.0     2.0          0.0\n",
      "7   2.433790e+10     3.0   0.0   0.0  914.0     2.0          0.0\n",
      "8   2.433790e+10     3.0   0.0   0.0  914.0     1.0          0.0\n",
      "9   2.433790e+10     3.0   0.0   0.0  914.0     4.0          0.0\n",
      "10  2.433790e+10     3.0   0.0   0.0  914.0     2.0          0.0\n",
      "11  2.433890e+10     3.0   0.0   0.0  914.0     2.0          0.0\n",
      "12  2.433890e+10     3.0   0.0   0.0  914.0     1.0          0.0\n",
      "13  2.433890e+10     3.0   0.0   0.0  914.0     1.0          0.0\n",
      "14  2.433916e+10     3.0   0.0   1.0  913.0    12.0          0.0\n",
      "15  2.433916e+10     3.0   0.0   1.0  913.0     5.0          0.0\n",
      "16  2.433916e+10     3.0   0.0   1.0  913.0     4.0          0.0\n",
      "17  2.433953e+10     3.0   0.0   1.0  912.0     5.0          0.0\n",
      "18  2.433953e+10     3.0   0.0   1.0  912.0     1.0          0.0\n",
      "19  2.433953e+10     3.0   0.0   1.0  912.0     6.0          0.0\n",
      "20  2.433953e+10     3.0   0.0   1.0  912.0     4.0          0.0\n",
      "21  2.433953e+10     3.0   0.0   1.0  911.0     1.0          0.0\n",
      "22  2.433971e+10     3.0   0.0   1.0  911.0     1.0          0.0\n",
      "23  2.434005e+10     3.0   0.0   0.0  912.0     2.0          0.0\n",
      "24  2.434005e+10     3.0   0.0   0.0  913.0     2.0          0.0\n",
      "25  2.434005e+10     3.0   0.0   0.0  913.0     1.0          0.0\n",
      "26  2.434005e+10     3.0   0.0   0.0  913.0     1.0          0.0\n",
      "27  2.434005e+10     3.0   0.0   0.0  913.0     1.0          0.0\n",
      "28  2.434005e+10     3.0   0.0   0.0  913.0     2.0          0.0\n",
      "29  2.434005e+10     3.0   0.0   0.0  913.0     5.0          0.0\n",
      "Dataset collected: len(X) = 2300\n",
      " 4 clear \n",
      "            time  action  type  side   price  amount  is_snapshot\n",
      "0   2.918770e+10     3.0   0.0   0.0  1073.0    10.0          0.0\n",
      "1   2.918770e+10     3.0   0.0   0.0  1073.0     1.0          0.0\n",
      "2   2.918770e+10     3.0   0.0   0.0  1073.0     2.0          0.0\n",
      "3   2.918770e+10     3.0   0.0   0.0  1073.0     2.0          0.0\n",
      "4   2.918770e+10     3.0   0.0   0.0  1073.0     2.0          0.0\n",
      "5   2.918770e+10     3.0   0.0   0.0  1073.0     4.0          0.0\n",
      "6   2.918777e+10     3.0   0.0   0.0  1073.0     1.0          0.0\n",
      "7   2.918777e+10     3.0   0.0   0.0  1073.0     1.0          0.0\n",
      "8   2.918777e+10     3.0   0.0   0.0  1073.0     1.0          0.0\n",
      "9   2.918777e+10     3.0   0.0   0.0  1073.0     1.0          0.0\n",
      "10  2.918777e+10     3.0   0.0   0.0  1073.0     1.0          0.0\n",
      "11  2.918777e+10     3.0   0.0   0.0  1073.0     4.0          0.0\n",
      "12  2.918779e+10     3.0   0.0   0.0  1073.0     1.0          0.0\n",
      "13  2.918792e+10     3.0   0.0   0.0  1073.0     1.0          0.0\n",
      "14  2.918801e+10     3.0   0.0   0.0  1073.0     1.0          0.0\n",
      "15  2.918801e+10     3.0   0.0   0.0  1073.0     1.0          0.0\n",
      "16  2.918801e+10     3.0   0.0   0.0  1073.0     1.0          0.0\n",
      "17  2.918806e+10     3.0   0.0   1.0  1072.0     1.0          0.0\n",
      "18  2.918814e+10     3.0   0.0   1.0  1072.0     1.0          0.0\n",
      "19  2.918827e+10     3.0   0.0   0.0  1073.0     1.0          0.0\n",
      "20  2.918836e+10     3.0   0.0   0.0  1073.0     3.0          0.0\n",
      "21  2.918836e+10     3.0   0.0   0.0  1074.0     1.0          0.0\n",
      "22  2.918836e+10     3.0   0.0   0.0  1074.0     7.0          0.0\n",
      "23  2.918837e+10     3.0   0.0   0.0  1073.0     1.0          0.0\n",
      "24  2.918838e+10     3.0   0.0   1.0  1072.0     1.0          0.0\n",
      "25  2.918842e+10     3.0   0.0   0.0  1074.0     1.0          0.0\n",
      "26  2.918846e+10     3.0   0.0   1.0  1073.0     1.0          0.0\n",
      "27  2.918846e+10     3.0   0.0   1.0  1072.0     1.0          0.0\n",
      "28  2.918846e+10     3.0   0.0   1.0  1072.0     1.0          0.0\n",
      "29  2.918847e+10     3.0   0.0   1.0  1072.0     1.0          0.0\n",
      "Dataset collected: len(X) = 2444\n",
      "X_train.shape  ==  (2300, 82)\n"
     ]
    }
   ],
   "source": [
    "def collect_dataset(data_path):\n",
    "    '''\n",
    "        Собираем датасет\n",
    "    '''\n",
    "\n",
    "    global catboost_myob\n",
    "    event_player = ob.EventPlayer(data_path)\n",
    "    orderbook = ob.OrderBook()\n",
    "\n",
    "    X = []\n",
    "    Y = []\n",
    "\n",
    "    # last_deal = [None, None]\n",
    "    for ev in tqdm(event_player.iget_events(),\n",
    "                    total=len(event_player),\n",
    "                    desc=\"collecting dataset\"):\n",
    "\n",
    "        if ev.action == ob.Action.DEAL:\n",
    "            # last_deal[ev.side] = ev\n",
    "            catboost_myob.set_last_deal(ev)\n",
    "        elif ev.action == ob.Action.NEW_CHUNK:\n",
    "            catboost_myob.clear()\n",
    "            # last_deal = [None, None]\n",
    "\n",
    "        orderbook.apply_event(ev)\n",
    "        if ev.need_prediction:\n",
    "            features = catboost_myob.get_features(ev, orderbook)\n",
    "\n",
    "            X.append(features)\n",
    "            Y.append(ev.Y)\n",
    "\n",
    "    print(f\"Dataset collected: len(X) = {len(X)}\")\n",
    "#     return np.array(X), np.array(Y)\n",
    "    return pd.DataFrame(X), pd.DataFrame(Y)\n",
    "\n",
    "X_train, Y_train = collect_dataset(\"../../data/very_small_A.npz\")\n",
    "X_test, Y_test = collect_dataset(\"../../data/very_small_B.npz\")\n",
    "\n",
    "\n",
    "print(\"X_train.shape  == \", X_train.shape)"
   ],
   "metadata": {
    "collapsed": false,
    "pycharm": {
     "name": "#%%\n"
    }
   }
  },
  {
   "cell_type": "markdown",
   "source": [
    "## Обучаем модель градиентного бустинга"
   ],
   "metadata": {
    "collapsed": false
   }
  },
  {
   "cell_type": "code",
   "execution_count": 3,
   "outputs": [
    {
     "name": "stdout",
     "output_type": "stream",
     "text": [
      "catboost training with CPU...\n",
      "X_train.shape =  (2300, 82)\n",
      "get_gpu_device_count() =  1\n",
      "0:\tloss: 0.5356971\tbest: 0.5356971 (0)\ttotal: 4.04s\tremaining: 56.5s\n",
      "1:\tloss: 0.5357125\tbest: 0.5357125 (1)\ttotal: 8.25s\tremaining: 53.6s\n",
      "2:\tloss: 0.5322337\tbest: 0.5357125 (1)\ttotal: 12s\tremaining: 47.9s\n",
      "3:\tloss: 0.5244432\tbest: 0.5357125 (1)\ttotal: 16s\tremaining: 44.1s\n",
      "4:\tloss: 0.5386835\tbest: 0.5386835 (4)\ttotal: 20.5s\tremaining: 41s\n",
      "5:\tloss: 0.5484625\tbest: 0.5484625 (5)\ttotal: 26.2s\tremaining: 39.4s\n",
      "6:\tloss: 0.5450162\tbest: 0.5484625 (5)\ttotal: 30.5s\tremaining: 34.8s\n",
      "7:\tloss: 0.5421204\tbest: 0.5484625 (5)\ttotal: 34.2s\tremaining: 29.9s\n",
      "8:\tloss: 0.5489514\tbest: 0.5489514 (8)\ttotal: 38.2s\tremaining: 25.5s\n",
      "9:\tloss: 0.5458614\tbest: 0.5489514 (8)\ttotal: 42s\tremaining: 21s\n",
      "10:\tloss: 0.5752444\tbest: 0.5752444 (10)\ttotal: 47s\tremaining: 17.1s\n",
      "11:\tloss: 0.5784530\tbest: 0.5784530 (11)\ttotal: 52.1s\tremaining: 13s\n",
      "12:\tloss: 0.5820167\tbest: 0.5820167 (12)\ttotal: 59.2s\tremaining: 9.11s\n",
      "13:\tloss: 0.5771874\tbest: 0.5820167 (12)\ttotal: 1m 3s\tremaining: 4.56s\n",
      "14:\tloss: 0.5828209\tbest: 0.5828209 (14)\ttotal: 1m 8s\tremaining: 0us\n",
      "('iterations', 5)\n",
      "('loss_function', 'Logloss')\n",
      "('od_wait', 30)\n",
      "('od_type', 'Iter')\n",
      "('logging_level', 'Verbose')\n",
      "('train_dir', 'grid')\n",
      "('custom_metric', ['Recall', 'Precision', 'Accuracy', 'F1', 'Kappa', 'MCC'])\n",
      "('eval_metric', 'AUC:hints=skip_train~false')\n",
      "('boosting_type', 'Ordered')\n",
      "('task_type', 'CPU')\n",
      "('bootstrap_type', 'Bayesian')\n",
      "('langevin', True)\n",
      "('depth', 6)\n",
      "('l2_leaf_reg', 11)\n",
      "('learning_rate', 0.03)\n",
      "CPU times: user 13.7 s, sys: 1.01 s, total: 14.7 s\n",
      "Wall time: 1min 8s\n"
     ]
    }
   ],
   "source": [
    "%%time\n",
    "def train_catboost(X_train, Y_train, X_test, Y_test):\n",
    "\n",
    "    task_type = \"CPU\" #  if (get_gpu_device_count() == 0) else \"GPU\"\n",
    "    langevin = False if task_type == \"GPU\" else True\n",
    "    print(f\"catboost training with {task_type}...\")\n",
    "    print(\"X_train.shape = \", X_train.shape)\n",
    "    print(\"get_gpu_device_count() = \", get_gpu_device_count())\n",
    "\n",
    "    train_pool = catboost.Pool(X_train, Y_train, cat_features=catboost_myob.cat_features)     #    , cat_features=cat_features)\n",
    "\n",
    "    grid = {'learning_rate': [0.03],\n",
    "            # 'score_function': [\"Cosine\", \"L2\", \"NewtonL2\"],\n",
    "            'depth': [4, 5, 6],\n",
    "            'l2_leaf_reg': [2, 3, 5, 8, 11],\n",
    "            # 'nan_mode': [\"Min\", \"Max\"],\n",
    "            # 'fold_len_multiplier': np.linspace(1.1, 3, 3),\n",
    "            # 'bagging_temperature': np.linspace(1, 3000, 3),\n",
    "\n",
    "    }\n",
    "\n",
    "    model = catboost.CatBoostClassifier(\n",
    "\n",
    "        bootstrap_type=\"Bayesian\",\n",
    "        # scale_pos_weight=en.scale_pos_weight,\n",
    "        # scale_pos_weight=1,\n",
    "        loss_function = \"Logloss\",\n",
    "        eval_metric=\"AUC:hints=skip_train~false\",\n",
    "        langevin=langevin,\n",
    "        custom_metric=[\"Recall\", \"Precision\", \"Accuracy\", \"F1\", \"Kappa\", \"MCC\"],\n",
    "        # use_best_model=True,\n",
    "        iterations=5,\n",
    "        od_type=\"Iter\",\n",
    "        od_wait=30,\n",
    "        # rsm=0.5,\n",
    "        # random_seed=100,\n",
    "        task_type=task_type,\n",
    "        boosting_type='Ordered',\n",
    "        logging_level=\"Verbose\",\n",
    "        train_dir=\"grid\",\n",
    "\n",
    "    )\n",
    "\n",
    "    grid_search_result = model.grid_search(\n",
    "        grid,\n",
    "        X=train_pool,\n",
    "        stratified=True,\n",
    "        cv=3,\n",
    "        search_by_train_test_split=False,\n",
    "        plot=False      # PLOT,\n",
    "\n",
    "    )\n",
    "\n",
    "\n",
    "    params = model.get_params()\n",
    "    for param in params.items():\n",
    "        print(param)\n",
    "\n",
    "    return grid_search_result, model\n",
    "\n",
    "grid_search_result, clf = train_catboost(X_train, Y_train, X_test, Y_test)\n",
    "# clf = train_classifier(X_train, Y_train, X_test, Y_test)"
   ],
   "metadata": {
    "collapsed": false,
    "pycharm": {
     "name": "#%%\n"
    }
   }
  },
  {
   "cell_type": "markdown",
   "metadata": {},
   "source": [
    "## Тестируем получившийся классификатор"
   ]
  },
  {
   "cell_type": "code",
   "execution_count": 4,
   "metadata": {
    "tags": []
   },
   "outputs": [
    {
     "name": "stderr",
     "output_type": "stream",
     "text": [
      "scoring:   1%|▏         | 157190/10562435 [01:00<1:06:25, 2610.79it/s]\n"
     ]
    },
    {
     "ename": "KeyboardInterrupt",
     "evalue": "",
     "output_type": "error",
     "traceback": [
      "\u001B[0;31m---------------------------------------------------------------------------\u001B[0m",
      "\u001B[0;31mKeyboardInterrupt\u001B[0m                         Traceback (most recent call last)",
      "\u001B[0;32m<ipython-input-4-e4405f137992>\u001B[0m in \u001B[0;36m<module>\u001B[0;34m\u001B[0m\n\u001B[1;32m     18\u001B[0m \u001B[0;34m\u001B[0m\u001B[0m\n\u001B[1;32m     19\u001B[0m \u001B[0mscoring\u001B[0m \u001B[0;34m=\u001B[0m \u001B[0mScorer\u001B[0m\u001B[0;34m(\u001B[0m\u001B[0;34m\"../../data/train_small_C.npz\"\u001B[0m\u001B[0;34m)\u001B[0m\u001B[0;34m\u001B[0m\u001B[0;34m\u001B[0m\u001B[0m\n\u001B[0;32m---> 20\u001B[0;31m \u001B[0mroc_auc\u001B[0m\u001B[0;34m,\u001B[0m \u001B[0;34m(\u001B[0m\u001B[0mtrue_ys\u001B[0m\u001B[0;34m,\u001B[0m \u001B[0mpred_probas\u001B[0m\u001B[0;34m)\u001B[0m \u001B[0;34m=\u001B[0m \u001B[0mscoring\u001B[0m\u001B[0;34m.\u001B[0m\u001B[0mscore\u001B[0m\u001B[0;34m(\u001B[0m\u001B[0mprocess_event_and_predict_proba\u001B[0m\u001B[0;34m)\u001B[0m\u001B[0;34m\u001B[0m\u001B[0;34m\u001B[0m\u001B[0m\n\u001B[0m\u001B[1;32m     21\u001B[0m \u001B[0;34m\u001B[0m\u001B[0m\n",
      "\u001B[0;32m~/mnt/st1500/Usr/Sergey/TheJob/Challenges/wunder_summer/wunder_challenge/scorer/scorer.py\u001B[0m in \u001B[0;36mscore\u001B[0;34m(self, process_event_func)\u001B[0m\n\u001B[1;32m     32\u001B[0m                             desc=\"scoring\"):        \n\u001B[1;32m     33\u001B[0m             \u001B[0morderbook\u001B[0m\u001B[0;34m.\u001B[0m\u001B[0mapply_event\u001B[0m\u001B[0;34m(\u001B[0m\u001B[0mevent\u001B[0m\u001B[0;34m)\u001B[0m\u001B[0;34m\u001B[0m\u001B[0;34m\u001B[0m\u001B[0m\n\u001B[0;32m---> 34\u001B[0;31m             \u001B[0mpred_proba\u001B[0m \u001B[0;34m=\u001B[0m \u001B[0mprocess_event_func\u001B[0m\u001B[0;34m(\u001B[0m\u001B[0mevent\u001B[0m\u001B[0;34m,\u001B[0m \u001B[0morderbook\u001B[0m\u001B[0;34m)\u001B[0m\u001B[0;34m\u001B[0m\u001B[0;34m\u001B[0m\u001B[0m\n\u001B[0m\u001B[1;32m     35\u001B[0m             \u001B[0mself\u001B[0m\u001B[0;34m.\u001B[0m\u001B[0m_check_return_value\u001B[0m\u001B[0;34m(\u001B[0m\u001B[0mevent\u001B[0m\u001B[0;34m,\u001B[0m \u001B[0mpred_proba\u001B[0m\u001B[0;34m)\u001B[0m\u001B[0;34m\u001B[0m\u001B[0;34m\u001B[0m\u001B[0m\n\u001B[1;32m     36\u001B[0m \u001B[0;34m\u001B[0m\u001B[0m\n",
      "\u001B[0;32m<ipython-input-4-e4405f137992>\u001B[0m in \u001B[0;36mprocess_event_and_predict_proba\u001B[0;34m(ev, orderbook)\u001B[0m\n\u001B[1;32m     11\u001B[0m         \u001B[0;32mreturn\u001B[0m \u001B[0;32mNone\u001B[0m\u001B[0;34m\u001B[0m\u001B[0;34m\u001B[0m\u001B[0m\n\u001B[1;32m     12\u001B[0m \u001B[0;34m\u001B[0m\u001B[0m\n\u001B[0;32m---> 13\u001B[0;31m     \u001B[0mfeatures\u001B[0m \u001B[0;34m=\u001B[0m \u001B[0mcatboost_myob\u001B[0m\u001B[0;34m.\u001B[0m\u001B[0mget_features\u001B[0m\u001B[0;34m(\u001B[0m\u001B[0mev\u001B[0m\u001B[0;34m,\u001B[0m \u001B[0morderbook\u001B[0m\u001B[0;34m)\u001B[0m\u001B[0;34m\u001B[0m\u001B[0;34m\u001B[0m\u001B[0m\n\u001B[0m\u001B[1;32m     14\u001B[0m     \u001B[0mproba\u001B[0m \u001B[0;34m=\u001B[0m \u001B[0mclf\u001B[0m\u001B[0;34m.\u001B[0m\u001B[0mpredict_proba\u001B[0m\u001B[0;34m(\u001B[0m\u001B[0;34m[\u001B[0m\u001B[0mfeatures\u001B[0m\u001B[0;34m]\u001B[0m\u001B[0;34m)\u001B[0m\u001B[0;34m[\u001B[0m\u001B[0;36m0\u001B[0m\u001B[0;34m,\u001B[0m \u001B[0;36m1\u001B[0m\u001B[0;34m]\u001B[0m\u001B[0;34m\u001B[0m\u001B[0;34m\u001B[0m\u001B[0m\n\u001B[1;32m     15\u001B[0m     \u001B[0;32mreturn\u001B[0m \u001B[0mproba\u001B[0m\u001B[0;34m\u001B[0m\u001B[0;34m\u001B[0m\u001B[0m\n",
      "\u001B[0;32m~/mnt/st1500/Usr/Sergey/TheJob/Challenges/wunder_summer/wunder_challenge/examples/catboost_local/my_orderbook.py\u001B[0m in \u001B[0;36mget_features\u001B[0;34m(self, event, orderbook, max_index)\u001B[0m\n\u001B[1;32m     92\u001B[0m         \u001B[0;32mfor\u001B[0m \u001B[0mcom\u001B[0m \u001B[0;32min\u001B[0m \u001B[0mnp\u001B[0m\u001B[0;34m.\u001B[0m\u001B[0mlinspace\u001B[0m\u001B[0;34m(\u001B[0m\u001B[0mstart\u001B[0m\u001B[0;34m=\u001B[0m\u001B[0;36m0\u001B[0m\u001B[0;34m,\u001B[0m \u001B[0mstop\u001B[0m\u001B[0;34m=\u001B[0m\u001B[0;36m2\u001B[0m\u001B[0;34m,\u001B[0m \u001B[0mnum\u001B[0m\u001B[0;34m=\u001B[0m\u001B[0;36m5\u001B[0m\u001B[0;34m)\u001B[0m\u001B[0;34m:\u001B[0m\u001B[0;34m\u001B[0m\u001B[0;34m\u001B[0m\u001B[0m\n\u001B[1;32m     93\u001B[0m             \u001B[0mfeatures\u001B[0m\u001B[0;34m.\u001B[0m\u001B[0mappend\u001B[0m\u001B[0;34m(\u001B[0m\u001B[0mself\u001B[0m\u001B[0;34m.\u001B[0m\u001B[0m_last_deals\u001B[0m\u001B[0;34m.\u001B[0m\u001B[0mprice\u001B[0m\u001B[0;34m.\u001B[0m\u001B[0mewm\u001B[0m\u001B[0;34m(\u001B[0m\u001B[0mcom\u001B[0m\u001B[0;34m=\u001B[0m\u001B[0mcom\u001B[0m\u001B[0;34m,\u001B[0m \u001B[0mignore_na\u001B[0m\u001B[0;34m=\u001B[0m\u001B[0;32mTrue\u001B[0m\u001B[0;34m)\u001B[0m\u001B[0;34m.\u001B[0m\u001B[0mmean\u001B[0m\u001B[0;34m(\u001B[0m\u001B[0;34m)\u001B[0m\u001B[0;34m.\u001B[0m\u001B[0mmean\u001B[0m\u001B[0;34m(\u001B[0m\u001B[0;34m)\u001B[0m\u001B[0;34m)\u001B[0m\u001B[0;34m\u001B[0m\u001B[0;34m\u001B[0m\u001B[0m\n\u001B[0;32m---> 94\u001B[0;31m             \u001B[0mfeatures\u001B[0m\u001B[0;34m.\u001B[0m\u001B[0mappend\u001B[0m\u001B[0;34m(\u001B[0m\u001B[0mself\u001B[0m\u001B[0;34m.\u001B[0m\u001B[0m_last_deals\u001B[0m\u001B[0;34m.\u001B[0m\u001B[0mamount\u001B[0m\u001B[0;34m.\u001B[0m\u001B[0mewm\u001B[0m\u001B[0;34m(\u001B[0m\u001B[0mcom\u001B[0m\u001B[0;34m=\u001B[0m\u001B[0mcom\u001B[0m\u001B[0;34m,\u001B[0m \u001B[0mignore_na\u001B[0m\u001B[0;34m=\u001B[0m\u001B[0;32mTrue\u001B[0m\u001B[0;34m)\u001B[0m\u001B[0;34m.\u001B[0m\u001B[0mmean\u001B[0m\u001B[0;34m(\u001B[0m\u001B[0;34m)\u001B[0m\u001B[0;34m.\u001B[0m\u001B[0mmean\u001B[0m\u001B[0;34m(\u001B[0m\u001B[0;34m)\u001B[0m\u001B[0;34m)\u001B[0m\u001B[0;34m\u001B[0m\u001B[0;34m\u001B[0m\u001B[0m\n\u001B[0m\u001B[1;32m     95\u001B[0m             \u001B[0mprice_mult_amount\u001B[0m \u001B[0;34m=\u001B[0m \u001B[0mself\u001B[0m\u001B[0;34m.\u001B[0m\u001B[0m_last_deals\u001B[0m\u001B[0;34m.\u001B[0m\u001B[0mprice\u001B[0m \u001B[0;34m*\u001B[0m \u001B[0mself\u001B[0m\u001B[0;34m.\u001B[0m\u001B[0m_last_deals\u001B[0m\u001B[0;34m.\u001B[0m\u001B[0mamount\u001B[0m\u001B[0;34m\u001B[0m\u001B[0;34m\u001B[0m\u001B[0m\n\u001B[1;32m     96\u001B[0m             \u001B[0mfeatures\u001B[0m\u001B[0;34m.\u001B[0m\u001B[0mappend\u001B[0m\u001B[0;34m(\u001B[0m\u001B[0mprice_mult_amount\u001B[0m\u001B[0;34m.\u001B[0m\u001B[0mewm\u001B[0m\u001B[0;34m(\u001B[0m\u001B[0mcom\u001B[0m\u001B[0;34m=\u001B[0m\u001B[0mcom\u001B[0m\u001B[0;34m,\u001B[0m \u001B[0mignore_na\u001B[0m\u001B[0;34m=\u001B[0m\u001B[0;32mTrue\u001B[0m\u001B[0;34m)\u001B[0m\u001B[0;34m.\u001B[0m\u001B[0mmean\u001B[0m\u001B[0;34m(\u001B[0m\u001B[0;34m)\u001B[0m\u001B[0;34m.\u001B[0m\u001B[0mmean\u001B[0m\u001B[0;34m(\u001B[0m\u001B[0;34m)\u001B[0m\u001B[0;34m)\u001B[0m\u001B[0;34m\u001B[0m\u001B[0;34m\u001B[0m\u001B[0m\n",
      "\u001B[0;32m~/anaconda3/envs/wunder_summer/lib/python3.8/site-packages/pandas/core/window/ewm.py\u001B[0m in \u001B[0;36mmean\u001B[0;34m(self, *args, **kwargs)\u001B[0m\n\u001B[1;32m    357\u001B[0m                 \u001B[0mminp\u001B[0m\u001B[0;34m=\u001B[0m\u001B[0mself\u001B[0m\u001B[0;34m.\u001B[0m\u001B[0mmin_periods\u001B[0m\u001B[0;34m,\u001B[0m\u001B[0;34m\u001B[0m\u001B[0;34m\u001B[0m\u001B[0m\n\u001B[1;32m    358\u001B[0m             )\n\u001B[0;32m--> 359\u001B[0;31m         \u001B[0;32mreturn\u001B[0m \u001B[0mself\u001B[0m\u001B[0;34m.\u001B[0m\u001B[0m_apply\u001B[0m\u001B[0;34m(\u001B[0m\u001B[0mwindow_func\u001B[0m\u001B[0;34m)\u001B[0m\u001B[0;34m\u001B[0m\u001B[0;34m\u001B[0m\u001B[0m\n\u001B[0m\u001B[1;32m    360\u001B[0m \u001B[0;34m\u001B[0m\u001B[0m\n\u001B[1;32m    361\u001B[0m     \u001B[0;34m@\u001B[0m\u001B[0mSubstitution\u001B[0m\u001B[0;34m(\u001B[0m\u001B[0mname\u001B[0m\u001B[0;34m=\u001B[0m\u001B[0;34m\"ewm\"\u001B[0m\u001B[0;34m,\u001B[0m \u001B[0mfunc_name\u001B[0m\u001B[0;34m=\u001B[0m\u001B[0;34m\"std\"\u001B[0m\u001B[0;34m)\u001B[0m\u001B[0;34m\u001B[0m\u001B[0;34m\u001B[0m\u001B[0m\n",
      "\u001B[0;32m~/anaconda3/envs/wunder_summer/lib/python3.8/site-packages/pandas/core/window/ewm.py\u001B[0m in \u001B[0;36m_apply\u001B[0;34m(self, func)\u001B[0m\n\u001B[1;32m    324\u001B[0m                 \u001B[0;32mcontinue\u001B[0m\u001B[0;34m\u001B[0m\u001B[0;34m\u001B[0m\u001B[0m\n\u001B[1;32m    325\u001B[0m \u001B[0;34m\u001B[0m\u001B[0m\n\u001B[0;32m--> 326\u001B[0;31m             \u001B[0mresults\u001B[0m\u001B[0;34m.\u001B[0m\u001B[0mappend\u001B[0m\u001B[0;34m(\u001B[0m\u001B[0mnp\u001B[0m\u001B[0;34m.\u001B[0m\u001B[0mapply_along_axis\u001B[0m\u001B[0;34m(\u001B[0m\u001B[0mfunc\u001B[0m\u001B[0;34m,\u001B[0m \u001B[0mself\u001B[0m\u001B[0;34m.\u001B[0m\u001B[0maxis\u001B[0m\u001B[0;34m,\u001B[0m \u001B[0mvalues\u001B[0m\u001B[0;34m)\u001B[0m\u001B[0;34m)\u001B[0m\u001B[0;34m\u001B[0m\u001B[0;34m\u001B[0m\u001B[0m\n\u001B[0m\u001B[1;32m    327\u001B[0m \u001B[0;34m\u001B[0m\u001B[0m\n\u001B[1;32m    328\u001B[0m         \u001B[0;32mreturn\u001B[0m \u001B[0mself\u001B[0m\u001B[0;34m.\u001B[0m\u001B[0m_wrap_results\u001B[0m\u001B[0;34m(\u001B[0m\u001B[0mresults\u001B[0m\u001B[0;34m,\u001B[0m \u001B[0mblock_list\u001B[0m\u001B[0;34m,\u001B[0m \u001B[0mobj\u001B[0m\u001B[0;34m,\u001B[0m \u001B[0mexclude\u001B[0m\u001B[0;34m)\u001B[0m\u001B[0;34m\u001B[0m\u001B[0;34m\u001B[0m\u001B[0m\n",
      "\u001B[0;32m<__array_function__ internals>\u001B[0m in \u001B[0;36mapply_along_axis\u001B[0;34m(*args, **kwargs)\u001B[0m\n",
      "\u001B[0;32m~/anaconda3/envs/wunder_summer/lib/python3.8/site-packages/numpy/lib/shape_base.py\u001B[0m in \u001B[0;36mapply_along_axis\u001B[0;34m(func1d, axis, arr, *args, **kwargs)\u001B[0m\n\u001B[1;32m    367\u001B[0m     \u001B[0;31m# compute indices for the iteration axes, and append a trailing ellipsis to\u001B[0m\u001B[0;34m\u001B[0m\u001B[0;34m\u001B[0m\u001B[0;34m\u001B[0m\u001B[0m\n\u001B[1;32m    368\u001B[0m     \u001B[0;31m# prevent 0d arrays decaying to scalars, which fixes gh-8642\u001B[0m\u001B[0;34m\u001B[0m\u001B[0;34m\u001B[0m\u001B[0;34m\u001B[0m\u001B[0m\n\u001B[0;32m--> 369\u001B[0;31m     \u001B[0minds\u001B[0m \u001B[0;34m=\u001B[0m \u001B[0mndindex\u001B[0m\u001B[0;34m(\u001B[0m\u001B[0minarr_view\u001B[0m\u001B[0;34m.\u001B[0m\u001B[0mshape\u001B[0m\u001B[0;34m[\u001B[0m\u001B[0;34m:\u001B[0m\u001B[0;34m-\u001B[0m\u001B[0;36m1\u001B[0m\u001B[0;34m]\u001B[0m\u001B[0;34m)\u001B[0m\u001B[0;34m\u001B[0m\u001B[0;34m\u001B[0m\u001B[0m\n\u001B[0m\u001B[1;32m    370\u001B[0m     \u001B[0minds\u001B[0m \u001B[0;34m=\u001B[0m \u001B[0;34m(\u001B[0m\u001B[0mind\u001B[0m \u001B[0;34m+\u001B[0m \u001B[0;34m(\u001B[0m\u001B[0mEllipsis\u001B[0m\u001B[0;34m,\u001B[0m\u001B[0;34m)\u001B[0m \u001B[0;32mfor\u001B[0m \u001B[0mind\u001B[0m \u001B[0;32min\u001B[0m \u001B[0minds\u001B[0m\u001B[0;34m)\u001B[0m\u001B[0;34m\u001B[0m\u001B[0;34m\u001B[0m\u001B[0m\n\u001B[1;32m    371\u001B[0m \u001B[0;34m\u001B[0m\u001B[0m\n",
      "\u001B[0;32m~/anaconda3/envs/wunder_summer/lib/python3.8/site-packages/numpy/lib/index_tricks.py\u001B[0m in \u001B[0;36m__init__\u001B[0;34m(self, *shape)\u001B[0m\n\u001B[1;32m    636\u001B[0m             \u001B[0mshape\u001B[0m \u001B[0;34m=\u001B[0m \u001B[0mshape\u001B[0m\u001B[0;34m[\u001B[0m\u001B[0;36m0\u001B[0m\u001B[0;34m]\u001B[0m\u001B[0;34m\u001B[0m\u001B[0;34m\u001B[0m\u001B[0m\n\u001B[1;32m    637\u001B[0m         x = as_strided(_nx.zeros(1), shape=shape,\n\u001B[0;32m--> 638\u001B[0;31m                        strides=_nx.zeros_like(shape))\n\u001B[0m\u001B[1;32m    639\u001B[0m         self._it = _nx.nditer(x, flags=['multi_index', 'zerosize_ok'],\n\u001B[1;32m    640\u001B[0m                               order='C')\n",
      "\u001B[0;32m<__array_function__ internals>\u001B[0m in \u001B[0;36mzeros_like\u001B[0;34m(*args, **kwargs)\u001B[0m\n",
      "\u001B[0;32m~/anaconda3/envs/wunder_summer/lib/python3.8/site-packages/numpy/core/numeric.py\u001B[0m in \u001B[0;36mzeros_like\u001B[0;34m(a, dtype, order, subok, shape)\u001B[0m\n\u001B[1;32m    135\u001B[0m \u001B[0;34m\u001B[0m\u001B[0m\n\u001B[1;32m    136\u001B[0m     \"\"\"\n\u001B[0;32m--> 137\u001B[0;31m     \u001B[0mres\u001B[0m \u001B[0;34m=\u001B[0m \u001B[0mempty_like\u001B[0m\u001B[0;34m(\u001B[0m\u001B[0ma\u001B[0m\u001B[0;34m,\u001B[0m \u001B[0mdtype\u001B[0m\u001B[0;34m=\u001B[0m\u001B[0mdtype\u001B[0m\u001B[0;34m,\u001B[0m \u001B[0morder\u001B[0m\u001B[0;34m=\u001B[0m\u001B[0morder\u001B[0m\u001B[0;34m,\u001B[0m \u001B[0msubok\u001B[0m\u001B[0;34m=\u001B[0m\u001B[0msubok\u001B[0m\u001B[0;34m,\u001B[0m \u001B[0mshape\u001B[0m\u001B[0;34m=\u001B[0m\u001B[0mshape\u001B[0m\u001B[0;34m)\u001B[0m\u001B[0;34m\u001B[0m\u001B[0;34m\u001B[0m\u001B[0m\n\u001B[0m\u001B[1;32m    138\u001B[0m     \u001B[0;31m# needed instead of a 0 to get same result as zeros for for string dtypes\u001B[0m\u001B[0;34m\u001B[0m\u001B[0;34m\u001B[0m\u001B[0;34m\u001B[0m\u001B[0m\n\u001B[1;32m    139\u001B[0m     \u001B[0mz\u001B[0m \u001B[0;34m=\u001B[0m \u001B[0mzeros\u001B[0m\u001B[0;34m(\u001B[0m\u001B[0;36m1\u001B[0m\u001B[0;34m,\u001B[0m \u001B[0mdtype\u001B[0m\u001B[0;34m=\u001B[0m\u001B[0mres\u001B[0m\u001B[0;34m.\u001B[0m\u001B[0mdtype\u001B[0m\u001B[0;34m)\u001B[0m\u001B[0;34m\u001B[0m\u001B[0;34m\u001B[0m\u001B[0m\n",
      "\u001B[0;31mKeyboardInterrupt\u001B[0m: "
     ]
    }
   ],
   "source": [
    "def process_event_and_predict_proba(ev, orderbook):\n",
    "\n",
    "    if ev.action == ob.Action.DEAL:\n",
    "        catboost_myob.set_last_deal(ev)\n",
    "    elif ev.action == ob.Action.NEW_CHUNK:\n",
    "        catboost_myob.clear()\n",
    "\n",
    "\n",
    "\n",
    "    if not ev.need_prediction:\n",
    "        return None\n",
    "    \n",
    "    features = catboost_myob.get_features(ev, orderbook)\n",
    "    proba = clf.predict_proba([features])[0, 1]\n",
    "    return proba\n",
    "\n",
    "from scorer import Scorer\n",
    "\n",
    "scoring = Scorer(\"../../data/train_small_C.npz\")\n",
    "roc_auc, (true_ys, pred_probas) = scoring.score(process_event_and_predict_proba)"
   ]
  },
  {
   "cell_type": "markdown",
   "metadata": {},
   "source": [
    "## Сохраним модель, и решение для отправки готово"
   ]
  },
  {
   "cell_type": "code",
   "execution_count": null,
   "metadata": {},
   "outputs": [],
   "source": [
    "# Сохраним нашу модель\n",
    "# clf.booster_.save_model(\"wunder.model\")\n",
    "clf.save_model(\"wunder.model\", format=\"cbm\")\n",
    "print(f\"curdir: {Path.cwd()}\")\n",
    "'''Посмотрите код файла solution.py. \n",
    "Он использует те же функции что и этот ноутбук, но уже готов к отправке на серверю. \n",
    "Попробуйте создать архив с файлами solution.py и wunder.model и отправить их на проверку.'''"
   ]
  },
  {
   "cell_type": "code",
   "execution_count": null,
   "metadata": {},
   "outputs": [],
   "source": []
  }
 ],
 "metadata": {
  "kernelspec": {
   "display_name": "Python 3",
   "language": "python",
   "name": "python3"
  },
  "language_info": {
   "codemirror_mode": {
    "name": "ipython",
    "version": 3
   },
   "file_extension": ".py",
   "mimetype": "text/x-python",
   "name": "python",
   "nbconvert_exporter": "python",
   "pygments_lexer": "ipython3",
   "version": "3.8.2"
  }
 },
 "nbformat": 4,
 "nbformat_minor": 4
}