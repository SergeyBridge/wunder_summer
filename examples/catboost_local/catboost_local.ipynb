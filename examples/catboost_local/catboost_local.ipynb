{
 "cells": [
  {
   "cell_type": "code",
   "execution_count": 1,
   "metadata": {},
   "outputs": [
    {
     "name": "stdout",
     "output_type": "stream",
     "text": [
      "curdir: /home/sergey/mnt/st1500/Usr/Sergey/TheJob/Challenges/wunder_summer/wunder_challenge/examples/catboost_local\n"
     ]
    }
   ],
   "source": [
    "import sys\n",
    "import numpy as np\n",
    "import pandas as pd\n",
    "import lightgbm as lg\n",
    "from tqdm import tqdm\n",
    "import pandas as pd\n",
    "from pathlib import Path\n",
    "\n",
    "# from importlib import reload\n",
    "\n",
    "\n",
    "import catboost\n",
    "from catboost.utils import get_gpu_device_count\n",
    "\n",
    "sys.path.append(\"../../scorer/\")\n",
    "# import orderbook as ob\n",
    "# Чтобы использовать быстрый ордербук раскомментируйте строку:\n",
    "import orderbook_fast as ob\n",
    "\n",
    "from my_orderbook import MyOrderBook\n",
    "\n",
    "# from  solution import get_simple_features_from_orderbook, get_simple_deals_features\n",
    "from  solution import get_simple_deals_features\n",
    "\n",
    "SIDE_BID = 0 \n",
    "SIDE_ASK = 1\n",
    "\n",
    "catboost_myob = MyOrderBook()\n",
    "\n",
    "print(f\"curdir: {Path.cwd()}\")"
   ]
  },
  {
   "cell_type": "markdown",
   "metadata": {},
   "source": [
    "## Собираем датасет для тренировки модели"
   ]
  },
  {
   "cell_type": "code",
   "execution_count": null,
   "outputs": [
    {
     "name": "stderr",
     "output_type": "stream",
     "text": [
      "collecting dataset: 100%|██████████| 10617618/10617618 [12:53<00:00, 13722.76it/s]\n",
      "collecting dataset:  98%|█████████▊| 10317783/10555835 [12:58<00:14, 16058.46it/s]"
     ]
    },
    {
     "name": "stdout",
     "output_type": "stream",
     "text": [
      " 3 clear \n",
      "           time  cat_action  cat_type  cat_side  price  amount  \\\n",
      "0   14738881244           3         0         1   1200       2   \n",
      "1   14739559244           3         0         1   1200       1   \n",
      "2   14740213383           3         0         1   1200       5   \n",
      "3   14740354072           3         0         0   1201       1   \n",
      "4   14740939245           3         0         1   1201       1   \n",
      "5   14741279447           3         0         1   1200       2   \n",
      "6   14742604486           3         0         1   1200       1   \n",
      "7   14742747764           3         0         0   1201       1   \n",
      "8   14746968122           3         0         1   1200       2   \n",
      "9   14746968382           3         0         1   1200       2   \n",
      "10  14746968394           3         0         1   1200       9   \n",
      "11  14746968402           3         0         1   1200       1   \n",
      "12  14746968414           3         0         1   1200       7   \n",
      "13  14746968426           3         0         1   1200       4   \n",
      "14  14746968440           3         0         1   1200       1   \n",
      "15  14746968454           3         0         1   1200       2   \n",
      "16  14746968471           3         0         1   1200       1   \n",
      "17  14746972707           3         0         1   1199       2   \n",
      "18  14746972719           3         0         1   1199       1   \n",
      "19  14746972729           3         0         1   1199       1   \n",
      "20  14747091668           3         0         0   1200       2   \n",
      "21  14747224374           3         0         1   1199       1   \n",
      "22  14747327809           3         0         1   1199       2   \n",
      "23  14747886955           3         0         0   1200       1   \n",
      "24  14749995850           3         0         1   1199       1   \n",
      "25  14750250561           3         0         1   1198       1   \n",
      "26  14750681455           3         0         1   1198       4   \n",
      "27  14750981234           3         0         1   1198       2   \n",
      "28  14751047145           3         0         1   1198       1   \n",
      "29  14751814487           3         0         1   1199       1   \n",
      "\n",
      "    cat_is_snapshot  \n",
      "0                 0  \n",
      "1                 0  \n",
      "2                 0  \n",
      "3                 0  \n",
      "4                 0  \n",
      "5                 0  \n",
      "6                 0  \n",
      "7                 0  \n",
      "8                 0  \n",
      "9                 0  \n",
      "10                0  \n",
      "11                0  \n",
      "12                0  \n",
      "13                0  \n",
      "14                0  \n",
      "15                0  \n",
      "16                0  \n",
      "17                0  \n",
      "18                0  \n",
      "19                0  \n",
      "20                0  \n",
      "21                0  \n",
      "22                0  \n",
      "23                0  \n",
      "24                0  \n",
      "25                0  \n",
      "26                0  \n",
      "27                0  \n",
      "28                0  \n",
      "29                0  \n",
      " 4 clear \n",
      "           time  cat_action  cat_type  cat_side  price  amount  \\\n",
      "0   24336758212           3         0         0    914       1   \n",
      "1   24336927438           3         0         0    914       1   \n",
      "2   24337132157           3         0         1    913       1   \n",
      "3   24337153788           3         0         0    914       1   \n",
      "4   24337359310           3         0         1    913       5   \n",
      "5   24337902895           3         0         0    914       1   \n",
      "6   24337902904           3         0         0    914       2   \n",
      "7   24337902910           3         0         0    914       2   \n",
      "8   24337902921           3         0         0    914       1   \n",
      "9   24337902938           3         0         0    914       4   \n",
      "10  24337903517           3         0         0    914       2   \n",
      "11  24338896765           3         0         0    914       2   \n",
      "12  24338896774           3         0         0    914       1   \n",
      "13  24338896785           3         0         0    914       1   \n",
      "14  24339157238           3         0         1    913      12   \n",
      "15  24339157250           3         0         1    913       5   \n",
      "16  24339157261           3         0         1    913       4   \n",
      "17  24339526008           3         0         1    912       5   \n",
      "18  24339526017           3         0         1    912       1   \n",
      "19  24339526026           3         0         1    912       6   \n",
      "20  24339526034           3         0         1    912       4   \n",
      "21  24339532407           3         0         1    911       1   \n",
      "22  24339710524           3         0         1    911       1   \n",
      "23  24340048572           3         0         0    912       2   \n",
      "24  24340048586           3         0         0    913       2   \n",
      "25  24340048598           3         0         0    913       1   \n",
      "26  24340048615           3         0         0    913       1   \n",
      "27  24340048619           3         0         0    913       1   \n",
      "28  24340048630           3         0         0    913       2   \n",
      "29  24340048644           3         0         0    913       5   \n",
      "\n",
      "    cat_is_snapshot  \n",
      "0                 0  \n",
      "1                 0  \n",
      "2                 0  \n",
      "3                 0  \n",
      "4                 0  \n",
      "5                 0  \n",
      "6                 0  \n",
      "7                 0  \n",
      "8                 0  \n",
      "9                 0  \n",
      "10                0  \n",
      "11                0  \n",
      "12                0  \n",
      "13                0  \n",
      "14                0  \n",
      "15                0  \n",
      "16                0  \n",
      "17                0  \n",
      "18                0  \n",
      "19                0  \n",
      "20                0  \n",
      "21                0  \n",
      "22                0  \n",
      "23                0  \n",
      "24                0  \n",
      "25                0  \n",
      "26                0  \n",
      "27                0  \n",
      "28                0  \n",
      "29                0  \n",
      "Dataset collected: len(X) = 234905\n"
     ]
    }
   ],
   "source": [
    "# %%time\n",
    "\n",
    "cat_features = [\"action\", \"type\", \"side\", \"is_snapshot\"]\n",
    "\n",
    "def collect_dataset(data_path):\n",
    "    '''\n",
    "        Собираем датасет\n",
    "    '''\n",
    "\n",
    "    global catboost_myob\n",
    "    event_player = ob.EventPlayer(data_path)\n",
    "    orderbook = ob.OrderBook()\n",
    "\n",
    "    X = []\n",
    "    Y = []\n",
    "\n",
    "    last_deal = [None, None]\n",
    "    for ev in tqdm(event_player.iget_events(),\n",
    "                    total=len(event_player),\n",
    "                    desc=\"collecting dataset\"):\n",
    "\n",
    "        if ev.action == ob.Action.DEAL:\n",
    "            last_deal[ev.side] = ev\n",
    "            catboost_myob.set_last_deal(ev)\n",
    "        elif ev.action == ob.Action.NEW_CHUNK:\n",
    "            catboost_myob.clear()\n",
    "            last_deal = [None, None]\n",
    "\n",
    "        orderbook.apply_event(ev)\n",
    "        if ev.need_prediction:\n",
    "            features = catboost_myob.get_features_from_orderbook(orderbook)\n",
    "            features += catboost_myob.get_simple_deals_features(last_deal\n",
    "                                                                , orderbook)\n",
    "\n",
    "            X.append(features)\n",
    "            Y.append(ev.Y)\n",
    "\n",
    "    print(f\"Dataset collected: len(X) = {len(X)}\")\n",
    "    return np.array(X), np.array(Y)\n",
    "\n",
    "\n",
    "X_train, Y_train = collect_dataset(\"../../data/train_small_A.npz\")\n",
    "X_test, Y_test = collect_dataset(\"../../data/train_small_B.npz\")\n",
    "\n",
    "\n"
   ],
   "metadata": {
    "collapsed": false,
    "pycharm": {
     "name": "#%%\n",
     "is_executing": true
    }
   }
  },
  {
   "cell_type": "markdown",
   "metadata": {},
   "source": [
    "## Обучаем модель градиентного бустинга"
   ]
  },
  {
   "cell_type": "code",
   "execution_count": null,
   "metadata": {
    "tags": [],
    "pycharm": {
     "is_executing": true
    }
   },
   "outputs": [],
   "source": [
    "def train_classifier(X_train, Y_train, X_test, Y_test):\n",
    "    '''\n",
    "        Обучаем классификатор\n",
    "    '''\n",
    "    clf = lg.LGBMClassifier(num_leaves=31, n_estimators=1000, learning_rate=0.1)\n",
    "    clf.fit(X_train, Y_train, eval_set=[(X_test, Y_test)], \n",
    "            eval_metric=\"auc\", early_stopping_rounds=20)\n",
    "    return clf\n",
    " \n",
    "# clf = train_classifier(X_train, Y_train, X_test, Y_test)"
   ]
  },
  {
   "cell_type": "code",
   "execution_count": null,
   "outputs": [],
   "source": [
    "%%time\n",
    "def train_catboost(X_train, Y_train, X_test, Y_test):\n",
    "\n",
    "    task_type = \"CPU\" #  if (get_gpu_device_count() == 0) else \"GPU\"\n",
    "    langevin = False if task_type == \"GPU\" else True\n",
    "    print(f\"catboost training with {task_type}...\")\n",
    "    print(\"X_train.shape = \", X_train.shape)\n",
    "    print(\"get_gpu_device_count() = \", get_gpu_device_count())\n",
    "\n",
    "    train_pool = catboost.Pool(X_train, Y_train)     #    , cat_features=cat_features)\n",
    "\n",
    "    grid = {'learning_rate': [0.03, 0.01],\n",
    "            # 'score_function': [\"Cosine\", \"L2\", \"NewtonL2\"],\n",
    "            'depth': [4, 5, 6],\n",
    "            'l2_leaf_reg': [2, 3, 5, 8, 11],\n",
    "            # 'nan_mode': [\"Min\", \"Max\"],\n",
    "            # 'fold_len_multiplier': np.linspace(1.1, 3, 3),\n",
    "            # 'bagging_temperature': np.linspace(1, 3000, 3),\n",
    "\n",
    "    }\n",
    "\n",
    "    model = catboost.CatBoostClassifier(\n",
    "\n",
    "        bootstrap_type=\"Bayesian\",\n",
    "        # scale_pos_weight=en.scale_pos_weight,\n",
    "        # scale_pos_weight=1,\n",
    "        loss_function = \"Logloss\",\n",
    "        eval_metric=\"AUC:hints=skip_train~false\",\n",
    "        langevin=langevin,\n",
    "        custom_metric=[\"Recall\", \"Precision\", \"Accuracy\", \"F1\", \"Kappa\", \"MCC\"],\n",
    "        # use_best_model=True,\n",
    "        iterations=100,\n",
    "        od_type=\"Iter\",\n",
    "        od_wait=30,\n",
    "        # rsm=0.5,\n",
    "        # random_seed=100,\n",
    "        task_type=task_type,\n",
    "        boosting_type='Ordered',\n",
    "        logging_level=\"Verbose\",\n",
    "        train_dir=\"grid\",\n",
    "\n",
    "    )\n",
    "\n",
    "    grid_search_result = model.grid_search(\n",
    "        grid,\n",
    "        X=train_pool,\n",
    "        stratified=True,\n",
    "        cv=3,\n",
    "        search_by_train_test_split=False,\n",
    "        plot=False      # PLOT,\n",
    "\n",
    "    )\n",
    "\n",
    "\n",
    "    params = model.get_params()\n",
    "    for param in params.items():\n",
    "        print(param)\n",
    "\n",
    "    return grid_search_result, model\n",
    "\n",
    "grid_search_result, clf = train_catboost(X_train, Y_train, X_test, Y_test)\n",
    "# clf = train_classifier(X_train, Y_train, X_test, Y_test)"
   ],
   "metadata": {
    "collapsed": false,
    "pycharm": {
     "name": "#%%\n",
     "is_executing": true
    }
   }
  },
  {
   "cell_type": "markdown",
   "metadata": {},
   "source": [
    "## Тестируем получившийся классификатор"
   ]
  },
  {
   "cell_type": "code",
   "execution_count": null,
   "metadata": {
    "tags": [],
    "pycharm": {
     "is_executing": true
    }
   },
   "outputs": [],
   "source": [
    "last_deals = [None, None]\n",
    "\n",
    "def process_event_and_predict_proba(event, orderbook):\n",
    "    if event.action == ob.Action.DEAL:\n",
    "        last_deals[event.side] = event\n",
    "    elif event.action == ob.Action.NEW_CHUNK:\n",
    "        last_deals[:] = [None, None]\n",
    "        \n",
    "    if not event.need_prediction:\n",
    "        return None\n",
    "    \n",
    "    features = catboost_myob.get_features_from_orderbook(orderbook)\n",
    "    features += get_simple_deals_features(last_deals, orderbook)    \n",
    "    proba = clf.predict_proba([features])[0, 1]\n",
    "    return proba\n",
    "\n",
    "from scorer import Scorer\n",
    "\n",
    "scoring = Scorer(\"../../data/train_small_C.npz\")\n",
    "roc_auc, (true_ys, pred_probas) = scoring.score(process_event_and_predict_proba)"
   ]
  },
  {
   "cell_type": "markdown",
   "metadata": {},
   "source": [
    "## Сохраним модель, и решение для отправки готово"
   ]
  },
  {
   "cell_type": "code",
   "execution_count": null,
   "metadata": {
    "pycharm": {
     "is_executing": true
    }
   },
   "outputs": [],
   "source": [
    "# Сохраним нашу модель\n",
    "# clf.booster_.save_model(\"wunder.model\")\n",
    "clf.save_model(\"wunder.model\", format=\"cbm\")\n",
    "print(f\"curdir: {Path.cwd()}\")\n",
    "'''Посмотрите код файла solution.py. \n",
    "Он использует те же функции что и этот ноутбук, но уже готов к отправке на серверю. \n",
    "Попробуйте создать архив с файлами solution.py и wunder.model и отправить их на проверку.'''"
   ]
  },
  {
   "cell_type": "code",
   "execution_count": null,
   "metadata": {
    "pycharm": {
     "is_executing": true
    }
   },
   "outputs": [],
   "source": []
  }
 ],
 "metadata": {
  "kernelspec": {
   "display_name": "Python 3",
   "language": "python",
   "name": "python3"
  },
  "language_info": {
   "codemirror_mode": {
    "name": "ipython",
    "version": 3
   },
   "file_extension": ".py",
   "mimetype": "text/x-python",
   "name": "python",
   "nbconvert_exporter": "python",
   "pygments_lexer": "ipython3",
   "version": "3.8.2"
  }
 },
 "nbformat": 4,
 "nbformat_minor": 4
}