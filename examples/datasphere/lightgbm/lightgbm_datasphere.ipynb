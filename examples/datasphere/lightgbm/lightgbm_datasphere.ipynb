{
 "cells": [
  {
   "cell_type": "code",
   "execution_count": null,
   "outputs": [],
   "source": [
    "# %pip install cython\n",
    "# %pip install sortedcontainers\n",
    "# %pip install zipp==3.1.0 --upgrade\n",
    "# %pip install scorer\n",
    "# %pip install -r re"
   ],
   "metadata": {
    "collapsed": false,
    "pycharm": {
     "name": "#%%\n"
    }
   }
  },
  {
   "cell_type": "code",
   "execution_count": null,
   "outputs": [],
   "source": [
    "import os\n",
    "import sys\n",
    "from pathlib import Path\n",
    "\n",
    "# Если запускаемся на DataSphere\n",
    "if str(Path.home()) == \"/home/jupyter\":\n",
    "    os.chdir(\"/home/jupyter/work/resources/wunder_summer/examples/datasphere/catboost\")\n",
    "    sys.path.append(\"/home/jupyter/work/resources/wunder_summer/scorer/orderbook_fast\")\n",
    "    sys.path.append(\"/home/jupyter/work/resources/wunder_summer/scorer\")\n",
    "    sys.path.append(\"/home/jupyter/work/resources/wunder_summer/examples/catboost_local\")\n",
    "    data_dir = Path(\"/home/jupyter/work/resources/wunder_summer/data\")\n",
    "print(Path.cwd())"
   ],
   "metadata": {
    "collapsed": false,
    "pycharm": {
     "name": "#%%\n"
    }
   }
  },
  {
   "cell_type": "code",
   "source": [
    "# %pip install -r datasphere_requirements.txt --upgrade\n",
    "# %pip install -r /home/jupyter/work/resources/wunder_summer/requirements.txt --upgrade\n",
    "# %pip install -r /home/jupyter/work/resources/wunder_summer/scorer_packages.txt --upgrade"
   ],
   "metadata": {
    "collapsed": false,
    "pycharm": {
     "name": "#%%\n"
    }
   },
   "execution_count": null,
   "outputs": []
  },
  {
   "cell_type": "code",
   "execution_count": null,
   "outputs": [],
   "source": [
    "import pyximport\n",
    "# import scorer\n",
    "import pystan\n",
    "import numpy as np\n",
    "import pandas as pd\n",
    "# import lightgbm as lg\n",
    "import catboost\n",
    "import zipp\n",
    "from catboost.utils import get_gpu_device_count\n",
    "from tqdm import tqdm\n",
    "from pathlib import Path\n",
    "\n",
    "import orderbook_fast as ob\n",
    "from my_orderbook import MyOrderBook\n",
    "\n",
    "print(\"curdir = \", Path.cwd())\n",
    "print(\"homedir = \", Path.home())\n",
    "\n",
    "\n",
    "\n",
    "\n",
    "SIDE_BID = 0\n",
    "SIDE_ASK = 1"
   ],
   "metadata": {
    "collapsed": false,
    "pycharm": {
     "name": "#%%\n"
    }
   }
  },
  {
   "cell_type": "markdown",
   "source": [
    "## Импортируем датасет для тренировки модели"
   ],
   "metadata": {
    "collapsed": false
   }
  },
  {
   "cell_type": "code",
   "execution_count": null,
   "outputs": [],
   "source": [],
   "metadata": {
    "collapsed": false,
    "pycharm": {
     "name": "#%%\n"
    }
   }
  },
  {
   "cell_type": "code",
   "execution_count": null,
   "outputs": [],
   "source": [
    "def train_classifier(X_train, Y_train, X_test, Y_test):\n",
    "    '''\n",
    "        Обучаем классификатор\n",
    "    '''\n",
    "    clf = lg.LGBMClassifier(num_leaves=31, n_estimators=1000, learning_rate=0.1)\n",
    "    clf.fit(X_train, Y_train, eval_set=[(X_test, Y_test)],\n",
    "            eval_metric=\"auc\", early_stopping_rounds=20)\n",
    "    return clf\n",
    "\n",
    "\n",
    "\n"
   ],
   "metadata": {
    "collapsed": false,
    "pycharm": {
     "name": "#%%\n"
    }
   }
  },
  {
   "cell_type": "markdown",
   "source": [
    "## Обучаем модель градиентного бустинга"
   ],
   "metadata": {
    "collapsed": false,
    "pycharm": {
     "name": "#%% md\n"
    }
   }
  },
  {
   "cell_type": "code",
   "execution_count": null,
   "outputs": [],
   "source": [
    "#!L\n",
    "\n",
    "X_train = pd.read_pickle(data_dir/\"X_train.pickle\")\n",
    "Y_train = pd.read_pickle(data_dir/\"Y_train.pickle\")\n",
    "\n",
    "X_test = pd.read_pickle(data_dir/\"X_test.pickle\")\n",
    "Y_test = pd.read_pickle(data_dir/\"Y_test.pickle\")\n",
    "\n",
    "print(\"X_train.shape\", X_train.shape)\n",
    "print(\"Y_test.shape\", Y_test.shape)\n",
    "\n",
    "clf = train_classifier(X_train, Y_train, X_test, Y_test)\n",
    "\n",
    "# Сохраним нашу модель\n",
    "os.chdir(\"/home/jupyter/work/resources/wunder_summer/examples/datasphere/catboost\")\n",
    "sys.path.append(\"/home/jupyter/work/resources/wunder_summer/scorer/orderbook_fast\")\n",
    "sys.path.append(\"/home/jupyter/work/resources/wunder_summer/scorer\")\n",
    "sys.path.append(\"/home/jupyter/work/resources/wunder_summer/examples/catboost_local\")\n",
    "\n",
    "print(Path.cwd())\n",
    "clf.save_model(\"wunder.model\", format=\"cbm\")\n"
   ],
   "metadata": {
    "collapsed": false,
    "pycharm": {
     "name": "#%%\n"
    }
   }
  },
  {
   "cell_type": "markdown",
   "source": [
    "## Тестируем получившийся классификатор"
   ],
   "metadata": {
    "collapsed": false
   }
  },
  {
   "cell_type": "code",
   "execution_count": null,
   "outputs": [],
   "source": [
    "# import pystan"
   ],
   "metadata": {
    "collapsed": false,
    "pycharm": {
     "name": "#%%\n"
    }
   }
  },
  {
   "cell_type": "code",
   "execution_count": null,
   "outputs": [],
   "source": [
    "# %pip install cmake\n",
    "# %pip install scorer==2.0.2 --upgrade --use-feature=2020-resolver --force-reinstall\n",
    "# %pip install pystan\n"
   ],
   "metadata": {
    "collapsed": false,
    "pycharm": {
     "name": "#%%\n"
    }
   }
  },
  {
   "cell_type": "code",
   "execution_count": null,
   "outputs": [],
   "source": [
    "from my_orderbook import MyOrderBook, action_handler\n",
    "\n",
    "lightgbm_myob = MyOrderBook()\n",
    "\n",
    "def process_event_and_predict_proba(ev, orderbook):\n",
    "    lightgbm_myob.__getattribute__(action_handler[ev.action])\n",
    "\n",
    "    if not ev.need_prediction:\n",
    "        return None\n",
    "\n",
    "    features = lightgbm_myob.get_features(ev, orderbook, max_index=13)\n",
    "    proba = clf.predict_proba([features])[0, 1]\n",
    "    return proba\n",
    "\n",
    "from scorer import Scorer\n",
    "\n",
    "scoring = Scorer(\"../../../data/train_small_C.npz\")\n",
    "# scoring = Scorer(\"../../../data/very_small_B.npz\")\n",
    "roc_auc, (true_ys, pred_probas) = scoring.score(process_event_and_predict_proba)"
   ],
   "metadata": {
    "collapsed": false,
    "pycharm": {
     "name": "#%%\n"
    }
   }
  },
  {
   "cell_type": "code",
   "source": [
    "## Сохраним модель, и решение для отправки готово"
   ],
   "metadata": {
    "collapsed": false,
    "pycharm": {
     "name": "#%%\n"
    }
   },
   "execution_count": null,
   "outputs": []
  },
  {
   "cell_type": "markdown",
   "source": [
    "## Сохраним модель, и решение для отправки готово"
   ],
   "metadata": {
    "collapsed": false,
    "pycharm": {
     "name": "#%% md\n"
    }
   }
  },
  {
   "cell_type": "code",
   "execution_count": null,
   "outputs": [],
   "source": [
    "# Сохраним нашу модель\n",
    "clf.booster_.save_model(\"wunder.model\")\n",
    "print(Path.cwd())\n",
    "# clf.save_model(\"wunder.model\", format=\"cbm\")\n",
    "\n",
    "'''Посмотрите код файла solution.py.\n",
    "Он использует те же функции что и этот ноутбук, но уже готов к отправке на серверю.\n",
    "Попробуйте создать архив с файлами solution.py и wunder.model и отправить их на проверку.'''"
   ],
   "metadata": {
    "collapsed": false,
    "pycharm": {
     "name": "#%%\n"
    }
   }
  },
  {
   "cell_type": "code",
   "execution_count": null,
   "outputs": [],
   "source": [
    "#!S\n"
   ],
   "metadata": {
    "collapsed": false,
    "pycharm": {
     "name": "#%%\n"
    }
   }
  }
 ],
 "metadata": {
  "kernelspec": {
   "display_name": "Python 3",
   "language": "python",
   "name": "python3"
  },
  "language_info": {
   "codemirror_mode": {
    "name": "ipython",
    "version": 2
   },
   "file_extension": ".py",
   "mimetype": "text/x-python",
   "name": "python",
   "nbconvert_exporter": "python",
   "pygments_lexer": "ipython2",
   "version": "2.7.6"
  }
 },
 "nbformat": 4,
 "nbformat_minor": 0
}