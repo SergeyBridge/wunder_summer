{
 "cells": [
  {
   "cell_type": "code",
   "execution_count": null,
   "metadata": {
    "cellId": "ml2a385gl9ia7zwprgmcj",
    "collapsed": false,
    "jupyter": {
     "outputs_hidden": false
    },
    "pycharm": {
     "name": "#%%\n"
    }
   },
   "outputs": [],
   "source": [
    "# %pip install cython\n",
    "# %pip install sortedcontainers\n",
    "# %pip install zipp==3.1.0 --upgrade\n",
    "# %pip install scorer\n",
    "# %pip install -r re"
   ]
  },
  {
   "cell_type": "code",
   "execution_count": null,
   "metadata": {
    "cellId": "ml2a385gl9ia7zwprgmcj",
    "collapsed": false,
    "jupyter": {
     "outputs_hidden": false
    },
    "pycharm": {
     "name": "#%%\n"
    }
   },
   "outputs": [],
   "source": [
    "import os\n",
    "import sys\n",
    "from pathlib import Path\n",
    "\n",
    "# Если запускаемся на DataSphere\n",
    "if str(Path.home()) == \"/home/jupyter\":\n",
    "    os.chdir(\"/home/jupyter/work/resources/wunder_summer/examples/datasphere/catboost\")\n",
    "    sys.path.append(\"/home/jupyter/work/resources/wunder_summer/scorer/orderbook_fast\")\n",
    "    sys.path.append(\"/home/jupyter/work/resources/wunder_summer/scorer\")\n",
    "    sys.path.append(\"/home/jupyter/work/resources/wunder_summer/examples/catboost_local\")\n",
    "print(Path.cwd())"
   ]
  },
  {
   "cell_type": "code",
   "execution_count": null,
   "outputs": [],
   "source": [
    "# %pip install -r datasphere_requirements.txt --upgrade\n",
    "# %pip install -r /home/jupyter/work/resources/wunder_summer/requirements.txt --upgrade\n",
    "# %pip install -r /home/jupyter/work/resources/wunder_summer/scorer_packages.txt --upgrade"
   ],
   "metadata": {
    "collapsed": false,
    "pycharm": {
     "name": "#%%\n"
    }
   }
  },
  {
   "cell_type": "code",
   "execution_count": null,
   "metadata": {
    "cellId": "vs6quasgamf15frga4diq",
    "collapsed": false,
    "jupyter": {
     "outputs_hidden": false
    },
    "pycharm": {
     "name": "#%%\n"
    }
   },
   "outputs": [],
   "source": [
    "import pyximport\n",
    "import scorer\n",
    "import pystan\n",
    "import numpy as np\n",
    "import pandas as pd\n",
    "import lightgbm as lg\n",
    "import catboost\n",
    "import zipp\n",
    "from catboost.utils import get_gpu_device_count\n",
    "from tqdm import tqdm\n",
    "from pathlib import Path\n",
    "\n",
    "import orderbook_fast as ob\n",
    "from my_orderbook import MyOrderBook\n",
    "catboost_myob = MyOrderBook()\n",
    "\n",
    "print(\"curdir = \", Path.cwd())\n",
    "print(\"homedir = \", Path.home())\n",
    "\n",
    "\n",
    "\n",
    "\n",
    "SIDE_BID = 0\n",
    "SIDE_ASK = 1"
   ]
  },
  {
   "cell_type": "markdown",
   "metadata": {
    "cellId": "ehwy0azo43fzmt2fhr3h3",
    "pycharm": {
     "name": "#%% md\n"
    }
   },
   "source": [
    "## Импортируем датасет для тренировки модели"
   ]
  },
  {
   "cell_type": "code",
   "execution_count": null,
   "metadata": {
    "cellId": "ycvggjph6u9zrc44o3d3g",
    "collapsed": false,
    "jupyter": {
     "outputs_hidden": false
    },
    "pycharm": {
     "name": "#%%\n"
    }
   },
   "outputs": [],
   "source": [
    "\n",
    "X_train = pd.read_pickle(\"../../../data/X_tran80.pickle\")\n",
    "Y_train = pd.read_pickle(\"../../../data/Y_tran80.pickle\")\n",
    "\n",
    "X_test = pd.read_pickle(\"../../../data/X_test20.pickle\")\n",
    "Y_test = pd.read_pickle(\"../../../data/Y_test20.pickle\")\n"
   ]
  },
  {
   "cell_type": "markdown",
   "metadata": {
    "cellId": "rnpm7yxekhpjlrbnndjs",
    "pycharm": {
     "name": "#%% md\n"
    }
   },
   "source": [
    "## Обучаем модель градиентного бустинга"
   ]
  },
  {
   "cell_type": "code",
   "execution_count": null,
   "metadata": {
    "cellId": "74ybfehbvh4luc8nksgvp",
    "collapsed": false,
    "jupyter": {
     "outputs_hidden": false
    },
    "pycharm": {
     "name": "#%%\n"
    }
   },
   "outputs": [],
   "source": [
    "#!L\n",
    "train_pool = catboost.Pool(X_train, Y_train, cat_features=catboost_myob.cat_features)\n",
    "test_pool = catboost.Pool(X_test, Y_test, cat_features=catboost_myob.cat_features)\n",
    "\n",
    "clf = catboost.CatBoostClassifier(\n",
    "    learning_rate=0.02,\n",
    "    depth=6,\n",
    "    l2_leaf_reg=2,\n",
    "\n",
    "    bootstrap_type=\"Bayesian\",\n",
    "    # scale_pos_weight=en.scale_pos_weight,\n",
    "    # scale_pos_weight=1,\n",
    "    loss_function = \"Logloss\",\n",
    "    eval_metric=\"AUC:hints=skip_train~false\",\n",
    "    custom_metric=[\"Recall\", \"Precision\", \"Accuracy\", \"F1\", \"Kappa\", \"MCC\"],\n",
    "    # use_best_model=True,\n",
    "    iterations=2000,\n",
    "    od_type=\"Iter\",\n",
    "    od_wait=30,\n",
    "    rsm=1,\n",
    "    # random_seed=100,\n",
    "    task_type=\"GPU\",\n",
    "    boosting_type='Ordered',\n",
    "    logging_level=\"Verbose\",\n",
    "    train_dir=\"grid\",\n",
    "\n",
    ")\n",
    "\n",
    "\n",
    "clf.fit(\n",
    "        X=train_pool,\n",
    "        plot=False,\n",
    "        eval_set=test_pool,\n",
    "        use_best_model=True\n",
    "    )\n"
   ]
  },
  {
   "cell_type": "markdown",
   "metadata": {
    "cellId": "5n46svlqlcvvmmsfr5j46k",
    "pycharm": {
     "name": "#%% md\n"
    }
   },
   "source": [
    "## Тестируем получившийся классификатор"
   ]
  },
  {
   "cell_type": "code",
   "execution_count": null,
   "metadata": {
    "cellId": "ponfabr0bqj8tvyy476njn",
    "collapsed": false,
    "jupyter": {
     "outputs_hidden": false
    },
    "pycharm": {
     "name": "#%%\n"
    }
   },
   "outputs": [],
   "source": [
    "import pystan"
   ]
  },
  {
   "cell_type": "code",
   "execution_count": null,
   "metadata": {
    "cellId": "keht92c15xa5x1rbo0vddx",
    "collapsed": false,
    "jupyter": {
     "outputs_hidden": false
    },
    "pycharm": {
     "name": "#%%\n"
    }
   },
   "outputs": [],
   "source": [
    "# %pip install cmake\n",
    "# %pip install scorer==2.0.2 --upgrade --use-feature=2020-resolver --force-reinstall\n",
    "# %pip install pystan\n"
   ]
  },
  {
   "cell_type": "code",
   "execution_count": null,
   "metadata": {
    "cellId": "g2n8rjbnd2mkr6b2avzyae",
    "collapsed": false,
    "jupyter": {
     "outputs_hidden": false
    },
    "pycharm": {
     "name": "#%%\n"
    }
   },
   "outputs": [],
   "source": [
    "def process_event_and_predict_proba(ev, orderbook):\n",
    "\n",
    "    if ev.action == ob.Action.DEAL:\n",
    "        catboost_myob.set_last_deal(ev)\n",
    "    elif ev.action == ob.Action.NEW_CHUNK:\n",
    "        catboost_myob.clear()\n",
    "\n",
    "\n",
    "\n",
    "    if not ev.need_prediction:\n",
    "        return None\n",
    "\n",
    "    features = catboost_myob.get_features(ev, orderbook)\n",
    "    proba = clf.predict_proba([features])[0, 1]\n",
    "    return proba\n",
    "\n",
    "from scorer import Scorer\n",
    "\n",
    "# scoring = Scorer(\"../../data/train_small_C.npz\")\n",
    "scoring = Scorer(\"../../data/very_small_B.npz\")\n",
    "roc_auc, (true_ys, pred_probas) = scoring.score(process_event_and_predict_proba)"
   ]
  },
  {
   "cell_type": "code",
   "execution_count": null,
   "metadata": {
    "cellId": "dum0053pd3ecirjb510kue",
    "collapsed": false,
    "jupyter": {
     "outputs_hidden": false
    },
    "pycharm": {
     "name": "#%%\n"
    }
   },
   "outputs": [],
   "source": [
    "## Сохраним модель, и решение для отправки готово"
   ]
  },
  {
   "cell_type": "markdown",
   "metadata": {
    "cellId": "jfztjh677ciip8aqyaicu"
   },
   "source": [
    "## Сохраним модель, и решение для отправки готово"
   ]
  },
  {
   "cell_type": "code",
   "execution_count": null,
   "metadata": {
    "cellId": "174qngk1shuj5cusmvge0mw",
    "collapsed": false,
    "jupyter": {
     "outputs_hidden": false
    },
    "pycharm": {
     "name": "#%%\n"
    }
   },
   "outputs": [],
   "source": [
    "# Сохраним нашу модель\n",
    "# clf.booster_.save_model(\"wunder.model\")\n",
    "print(Path.cwd())\n",
    "clf.save_model(\"wunder.model\", format=\"cbm\")\n",
    "\n",
    "'''Посмотрите код файла solution.py.\n",
    "Он использует те же функции что и этот ноутбук, но уже готов к отправке на серверю.\n",
    "Попробуйте создать архив с файлами solution.py и wunder.model и отправить их на проверку.'''"
   ]
  },
  {
   "cell_type": "code",
   "execution_count": null,
   "metadata": {
    "cellId": "v6yyo2zcwpqxn9qyqlvfd",
    "collapsed": false,
    "jupyter": {
     "outputs_hidden": false
    },
    "pycharm": {
     "name": "#%%\n"
    }
   },
   "outputs": [],
   "source": []
  }
 ],
 "metadata": {
  "kernelspec": {
   "display_name": "Yandex DataSphere Kernel",
   "language": "python",
   "name": "python3"
  },
  "language_info": {
   "codemirror_mode": {
    "name": "ipython",
    "version": 3
   },
   "file_extension": ".py",
   "mimetype": "text/x-python",
   "name": "python",
   "nbconvert_exporter": "python",
   "pygments_lexer": "ipython3",
   "version": "3.7.7"
  },
  "notebookId": "2b4bd0f7-41fb-4e94-a373-46724e078692"
 },
 "nbformat": 4,
 "nbformat_minor": 4
}