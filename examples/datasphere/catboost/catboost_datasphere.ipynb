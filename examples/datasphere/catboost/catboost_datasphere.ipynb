{
 "cells": [
  {
   "cell_type": "code",
   "execution_count": null,
   "outputs": [],
   "source": [
    "# %pip install cython\n",
    "# %pip install sortedcontainers\n",
    "# %pip install zipp==3.1.0 --upgrade\n",
    "# %pip install scorer"
   ],
   "metadata": {
    "collapsed": false,
    "pycharm": {
     "name": "#%%\n"
    }
   }
  },
  {
   "cell_type": "code",
   "execution_count": null,
   "outputs": [],
   "source": [
    "\n",
    "import sys\n",
    "\n",
    "import pyximport\n",
    "import scorer\n",
    "import pystan\n",
    "import os\n",
    "import numpy as np\n",
    "import pandas as pd\n",
    "import lightgbm as lg\n",
    "import catboost\n",
    "import zipp\n",
    "from catboost.utils import get_gpu_device_count\n",
    "from tqdm import tqdm\n",
    "from pathlib import Path\n",
    "\n",
    "\n",
    "# Если запускаемся на DataSphere\n",
    "if str(Path.home()) == \"/home/jupyter\":\n",
    "    os.chdir(\"/home/jupyter/work/resources/2020wunder_summer/examples/ml_example\")\n",
    "    sys.path.append(\"/home/jupyter/work/resources/2020wunder_summer/scorer\")\n",
    "\n",
    "print(\"curdir = \", Path.cwd())\n",
    "print(\"homedir = \", Path.home())\n",
    "\n",
    "\n",
    "sys.path.append(\"/home/gpu/wunder_summer/scorer\")\n",
    "\n",
    "sys.path.append(\"../../scorer/\")\n",
    "# sys.path.append(\"../../scorer/orderbook_fast\")\n",
    "# sys.path.append(\"/home/gpu/wunder_summer/scorer/orderbook_fast\")\n",
    "\n",
    "# import orderbook as ob\n",
    "# Чтобы использовать быстрый ордербук раскомментируйте строку:\n",
    "import orderbook_fast as ob\n",
    "\n",
    "SIDE_BID = 0\n",
    "SIDE_ASK = 1"
   ],
   "metadata": {
    "collapsed": false,
    "pycharm": {
     "name": "#%%\n"
    }
   }
  },
  {
   "cell_type": "markdown",
   "source": [
    "## Собираем датасет для тренировки модели"
   ],
   "metadata": {
    "collapsed": false
   }
  },
  {
   "cell_type": "code",
   "execution_count": null,
   "outputs": [],
   "source": [
    "%time\n",
    "\n",
    "def get_simple_features_from_orderbook(orderbook, max_index=2):\n",
    "    '''\n",
    "        Считаем простые фичи по ордербуку:\n",
    "    '''\n",
    "    spread = orderbook.get_best_price(SIDE_ASK) - orderbook.get_best_price(SIDE_BID)\n",
    "    orderbook_features = [spread, np.sqrt(spread), spread**2]\n",
    "\n",
    "\n",
    "    for side in (SIDE_BID, SIDE_ASK):\n",
    "        for ix in range(max_index):\n",
    "            price_level = orderbook.get_price_level_at_ix(side, ix)\n",
    "            if price_level is None:\n",
    "                orderbook_features += [-1, -1]\n",
    "            else:\n",
    "                orderbook_features += [price_level.get_volume(),\n",
    "                             price_level.get_num_orders()]\n",
    "    return orderbook_features\n",
    "\n",
    "\n",
    "def get_simple_deals_features(last_deals, orderbook):\n",
    "    '''\n",
    "        Считаем простые фичи по последним сделкам:\n",
    "    '''\n",
    "    cur_mean_price = orderbook.get_mean_price()\n",
    "    cur_time = orderbook.get_time()\n",
    "\n",
    "    deal_features = []\n",
    "    for side in (SIDE_BID, SIDE_ASK):\n",
    "        deal_event = last_deals[side]\n",
    "        if deal_event is None:\n",
    "            deal_features += [-1e9, -1e9, -1e9]\n",
    "        else:\n",
    "            deal_features += [cur_mean_price - deal_event.price,\n",
    "                         cur_time - deal_event.time,\n",
    "                         deal_event.amount]\n",
    "    return deal_features\n",
    "\n",
    "def collect_dataset(data_path):\n",
    "    '''\n",
    "        Собираем датасет\n",
    "    '''\n",
    "    event_player = ob.EventPlayer(data_path)\n",
    "    orderbook = ob.OrderBook()\n",
    "\n",
    "    X = []\n",
    "    Y = []\n",
    "\n",
    "    last_deals = [None, None]\n",
    "    for ev in tqdm(event_player.iget_events(),\n",
    "                    total=len(event_player),\n",
    "                    desc=\"collecting dataset\"):\n",
    "        if ev.action == ob.Action.DEAL:\n",
    "            last_deals[ev.side] = ev\n",
    "        elif ev.action == ob.Action.NEW_CHUNK:\n",
    "            last_deals = [None, None]\n",
    "\n",
    "        orderbook.apply_event(ev)\n",
    "        if ev.need_prediction:\n",
    "            features = get_simple_features_from_orderbook(orderbook, max_index=13)\n",
    "            features += get_simple_deals_features(last_deals, orderbook)\n",
    "\n",
    "            X.append(features)\n",
    "            Y.append(ev.Y)\n",
    "\n",
    "    print(f\"Dataset collected: len(X) = {len(X)}\")\n",
    "    return np.array(X), np.array(Y)\n",
    "\n",
    "\n",
    "# X_train, Y_train = collect_dataset(\"../../data/train_small_A.npz\")\n",
    "X_train, Y_train = collect_dataset(\"../../data/train.npz\")\n",
    "X_test, Y_test = collect_dataset(\"../../data/train_small_B.npz\")\n"
   ],
   "metadata": {
    "collapsed": false,
    "pycharm": {
     "name": "#%%\n"
    }
   }
  },
  {
   "cell_type": "markdown",
   "source": [
    "## Обучаем модель градиентного бустинга"
   ],
   "metadata": {
    "collapsed": false
   }
  },
  {
   "cell_type": "code",
   "execution_count": null,
   "outputs": [],
   "source": [
    "%%time\n",
    "def train_classifier(X_train, Y_train, X_test, Y_test):\n",
    "    '''\n",
    "        Обучаем классификатор\n",
    "    '''\n",
    "\n",
    "    clf = lg.LGBMClassifier(num_leaves=31, n_estimators=10, learning_rate=0.1)\n",
    "    clf.fit(X_train, Y_train, eval_set=[(X_test, Y_test)],\n",
    "            eval_metric=\"auc\", early_stopping_rounds=20)\n",
    "    return clf\n",
    "\n",
    "# clf = train_classifier(X_train, Y_train, X_test, Y_test)"
   ],
   "metadata": {
    "collapsed": false,
    "pycharm": {
     "name": "#%%\n"
    }
   }
  },
  {
   "cell_type": "code",
   "execution_count": null,
   "outputs": [],
   "source": [
    "#!L\n",
    "train_pool = catboost.Pool(X_train, Y_train)\n",
    "\n",
    "clf = catboost.CatBoostClassifier(\n",
    "    learning_rate=0.02,\n",
    "    depth=6,\n",
    "    l2_leaf_reg=2,\n",
    "\n",
    "    bootstrap_type=\"Bayesian\",\n",
    "    # scale_pos_weight=en.scale_pos_weight,\n",
    "    # scale_pos_weight=1,\n",
    "    loss_function = \"Logloss\",\n",
    "    eval_metric=\"AUC:hints=skip_train~false\",\n",
    "    custom_metric=[\"Recall\", \"Precision\", \"Accuracy\", \"F1\", \"Kappa\", \"MCC\"],\n",
    "    # use_best_model=True,\n",
    "    iterations=2000,\n",
    "    od_type=\"Iter\",\n",
    "    od_wait=30,\n",
    "    # rsm=0.5,\n",
    "    # random_seed=100,\n",
    "    task_type=\"GPU\",\n",
    "    boosting_type='Ordered',\n",
    "    logging_level=\"Verbose\",\n",
    "    train_dir=\"grid\",\n",
    "\n",
    ")\n",
    "\n",
    "\n",
    "clf.fit(\n",
    "        X=train_pool,\n",
    "        plot=False      # PLOT,\n",
    "\n",
    "    )\n"
   ],
   "metadata": {
    "collapsed": false,
    "pycharm": {
     "name": "#%%\n"
    }
   }
  },
  {
   "cell_type": "code",
   "execution_count": null,
   "outputs": [],
   "source": [
    "#!L\n",
    "\n",
    "def train_catboost(X_train, Y_train, X_test, Y_test):\n",
    "\n",
    "    task_type = \"GPU\" #  if (get_gpu_device_count() == 0) else \"GPU\"\n",
    "    print(f\"catboost training with {task_type}...\")\n",
    "    print(\"X_train.shape = \", X_train.shape)\n",
    "    # print(\"get_gpu_device_count() = \", get_gpu_device_count())\n",
    "\n",
    "    train_pool = catboost.Pool(X_train, Y_train)\n",
    "\n",
    "    grid = {'learning_rate': [0.03, 0.01],\n",
    "            # 'score_function': [\"Cosine\", \"L2\", \"NewtonL2\"],\n",
    "            'depth': [4, 5, 6],\n",
    "            'l2_leaf_reg': [2, 3, 5, 8, 11],\n",
    "            # 'nan_mode': [\"Min\", \"Max\"],\n",
    "            # 'fold_len_multiplier': np.linspace(1.1, 3, 3),\n",
    "            # 'bagging_temperature': np.linspace(1, 3000, 3),\n",
    "\n",
    "    }\n",
    "\n",
    "    model = catboost.CatBoostClassifier(\n",
    "\n",
    "        bootstrap_type=\"Bayesian\",\n",
    "        # scale_pos_weight=en.scale_pos_weight,\n",
    "        # scale_pos_weight=1,\n",
    "        loss_function = \"Logloss\",\n",
    "        eval_metric=\"AUC:hints=skip_train~false\",\n",
    "        custom_metric=[\"Recall\", \"Precision\", \"Accuracy\", \"F1\", \"Kappa\", \"MCC\"],\n",
    "        # use_best_model=True,\n",
    "        iterations=100,\n",
    "        od_type=\"Iter\",\n",
    "        od_wait=30,\n",
    "        # rsm=0.5,\n",
    "        # random_seed=100,\n",
    "        task_type=task_type,\n",
    "        boosting_type='Ordered',\n",
    "        logging_level=\"Verbose\",\n",
    "        train_dir=\"grid\",\n",
    "\n",
    "    )\n",
    "\n",
    "    grid_search_result = model.grid_search(\n",
    "        grid,\n",
    "        X=train_pool,\n",
    "        stratified=True,\n",
    "        cv=3,\n",
    "        search_by_train_test_split=False,\n",
    "        plot=False      # PLOT,\n",
    "\n",
    "    )\n",
    "\n",
    "\n",
    "    params = model.get_params()\n",
    "    for param in params.items():\n",
    "        print(param)\n",
    "\n",
    "    return grid_search_result, model\n",
    "\n",
    "grid_search_result, clf = train_catboost(X_train, Y_train, X_test, Y_test)\n",
    "# clf = train_classifier(X_train, Y_train, X_test, Y_test)"
   ],
   "metadata": {
    "collapsed": false,
    "pycharm": {
     "name": "#%%\n"
    }
   }
  },
  {
   "cell_type": "markdown",
   "source": [
    "## Тестируем получившийся классификатор"
   ],
   "metadata": {
    "collapsed": false
   }
  },
  {
   "cell_type": "code",
   "execution_count": null,
   "outputs": [],
   "source": [
    "import pystan"
   ],
   "metadata": {
    "collapsed": false,
    "pycharm": {
     "name": "#%%\n"
    }
   }
  },
  {
   "cell_type": "code",
   "execution_count": null,
   "outputs": [],
   "source": [
    "# %pip install cmake\n",
    "# %pip install scorer==2.0.2 --upgrade --use-feature=2020-resolver --force-reinstall\n",
    "%pip install pystan\n"
   ],
   "metadata": {
    "collapsed": false,
    "pycharm": {
     "name": "#%%\n"
    }
   }
  },
  {
   "cell_type": "code",
   "execution_count": null,
   "outputs": [],
   "source": [
    "last_deals = [None, None]\n",
    "\n",
    "def process_event_and_predict_proba(event, orderbook):\n",
    "    if event.action == ob.Action.DEAL:\n",
    "        last_deals[event.side] = event\n",
    "    elif event.action == ob.Action.NEW_CHUNK:\n",
    "        last_deals[:] = [None, None]\n",
    "\n",
    "    if not event.need_prediction:\n",
    "        return None\n",
    "\n",
    "    features = get_simple_features_from_orderbook(orderbook, max_index=13)\n",
    "    features += get_simple_deals_features(last_deals, orderbook)\n",
    "\n",
    "    proba = clf.predict_proba(features)[1]\n",
    "\n",
    "    # proba = clf.predict_proba([features_])[0, 1]\n",
    "    return proba\n",
    "\n",
    "from scorer import Scorer\n",
    "\n",
    "scoring = Scorer(\"../../data/train_small_C.npz\")\n",
    "roc_auc, (true_ys, pred_probas) = scoring.score(process_event_and_predict_proba)"
   ],
   "metadata": {
    "collapsed": false,
    "pycharm": {
     "name": "#%%\n"
    }
   }
  },
  {
   "cell_type": "markdown",
   "source": [
    "## Сохраним модель, и решение для отправки готово"
   ],
   "metadata": {
    "collapsed": false
   }
  },
  {
   "cell_type": "code",
   "execution_count": null,
   "outputs": [],
   "source": [
    "# Сохраним нашу модель\n",
    "# clf.booster_.save_model(\"wunder.model\")\n",
    "print(Path.cwd())\n",
    "clf.save_model(\"wunder.model\", format=\"cbm\")\n",
    "\n",
    "'''Посмотрите код файла solution.py.\n",
    "Он использует те же функции что и этот ноутбук, но уже готов к отправке на серверю.\n",
    "Попробуйте создать архив с файлами solution.py и wunder.model и отправить их на проверку.'''"
   ],
   "metadata": {
    "collapsed": false,
    "pycharm": {
     "name": "#%%\n"
    }
   }
  },
  {
   "cell_type": "code",
   "execution_count": null,
   "outputs": [],
   "source": [],
   "metadata": {
    "collapsed": false,
    "pycharm": {
     "name": "#%%\n"
    }
   }
  }
 ],
 "metadata": {
  "kernelspec": {
   "display_name": "Python 3",
   "language": "python",
   "name": "python3"
  },
  "language_info": {
   "codemirror_mode": {
    "name": "ipython",
    "version": 2
   },
   "file_extension": ".py",
   "mimetype": "text/x-python",
   "name": "python",
   "nbconvert_exporter": "python",
   "pygments_lexer": "ipython2",
   "version": "2.7.6"
  }
 },
 "nbformat": 4,
 "nbformat_minor": 0
}