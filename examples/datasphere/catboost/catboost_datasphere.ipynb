{
 "cells": [
  {
   "cell_type": "code",
   "execution_count": 3,
   "metadata": {
    "cellId": "ml2a385gl9ia7zwprgmcj",
    "collapsed": false,
    "jupyter": {
     "outputs_hidden": false
    },
    "pycharm": {
     "name": "#%%\n"
    }
   },
   "outputs": [],
   "source": [
    "# %pip install cython\n",
    "# %pip install sortedcontainers\n",
    "# %pip install zipp==3.1.0 --upgrade\n",
    "# %pip install scorer\n",
    "# %pip install -r re"
   ]
  },
  {
   "cell_type": "code",
   "execution_count": 8,
   "metadata": {
    "cellId": "ml2a385gl9ia7zwprgmcj",
    "collapsed": false,
    "jupyter": {
     "outputs_hidden": false
    },
    "pycharm": {
     "name": "#%%\n"
    }
   },
   "outputs": [
    {
     "name": "stdout",
     "output_type": "stream",
     "text": [
      "/home/jupyter/work/resources/wunder_summer/examples/datasphere/catboost\n"
     ]
    }
   ],
   "source": [
    "import os\n",
    "import sys\n",
    "from pathlib import Path\n",
    "print(Path.cwd())\n",
    "\n",
    "# Если запускаемся на DataSphere\n",
    "if str(Path.home()) == \"/home/jupyter\":\n",
    "    os.chdir(\"/home/jupyter/work/resources/wunder_summer/examples/datasphere/catboost\")\n",
    "    sys.path.append(\"/home/jupyter/work/resources/wunder_challenge/scorer\")\n",
    "\n"
   ]
  },
  {
   "cell_type": "code",
   "execution_count": 9,
   "metadata": {
    "cellId": "ml2a385gl9ia7zwprgmcj",
    "pycharm": {
     "name": "#%%\n"
    }
   },
   "outputs": [
    {
     "name": "stdout",
     "output_type": "stream",
     "text": [
      "Collecting numpy==1.19.1\n",
      "  Using cached numpy-1.19.1-cp37-cp37m-manylinux2010_x86_64.whl (14.5 MB)\n",
      "Collecting lightgbm==2.3.1\n",
      "  Using cached lightgbm-2.3.1-py2.py3-none-manylinux1_x86_64.whl (1.2 MB)\n",
      "Collecting scipy==1.4.1\n",
      "  Using cached scipy-1.4.1-cp37-cp37m-manylinux1_x86_64.whl (26.1 MB)\n",
      "Collecting tqdm==4.45.0\n",
      "  Using cached tqdm-4.45.0-py2.py3-none-any.whl (60 kB)\n",
      "Collecting jupyter\n",
      "  Using cached jupyter-1.0.0-py2.py3-none-any.whl (2.7 kB)\n",
      "Processing /home/jupyter/.cache/pip/wheels/46/ef/c3/157e41f5ee1372d1be90b09f74f82b10e391eaacca8f22d33e/sklearn-0.0-py2.py3-none-any.whl\n",
      "Collecting sortedcontainers\n",
      "  Using cached sortedcontainers-2.2.2-py2.py3-none-any.whl (29 kB)\n",
      "Collecting scikit-learn==0.22.1\n",
      "  Using cached scikit_learn-0.22.1-cp37-cp37m-manylinux1_x86_64.whl (7.0 MB)\n",
      "Collecting ipywidgets==7.5.1\n",
      "  Using cached ipywidgets-7.5.1-py2.py3-none-any.whl (121 kB)\n",
      "Collecting jupyter-console\n",
      "  Using cached jupyter_console-6.2.0-py3-none-any.whl (22 kB)\n",
      "Collecting ipykernel\n",
      "  Using cached ipykernel-5.3.4-py3-none-any.whl (120 kB)\n",
      "Collecting nbconvert\n",
      "  Using cached nbconvert-5.6.1-py2.py3-none-any.whl (455 kB)\n",
      "Collecting notebook==6.1.1\n",
      "  Using cached notebook-6.1.1-py3-none-any.whl (9.4 MB)\n",
      "Collecting qtconsole\n",
      "  Using cached qtconsole-4.7.7-py2.py3-none-any.whl (118 kB)\n",
      "Collecting joblib>=0.11\n",
      "  Using cached joblib-0.16.0-py3-none-any.whl (300 kB)\n",
      "Collecting widgetsnbextension~=3.5.0\n",
      "  Using cached widgetsnbextension-3.5.1-py2.py3-none-any.whl (2.2 MB)\n",
      "Collecting nbformat>=4.2.0\n",
      "  Using cached nbformat-5.0.7-py3-none-any.whl (170 kB)\n",
      "Collecting ipython>=4.0.0; python_version >= \"3.3\"\n",
      "  Using cached ipython-7.18.1-py3-none-any.whl (786 kB)\n",
      "Collecting traitlets>=4.3.1\n",
      "  Using cached traitlets-5.0.2-py3-none-any.whl (97 kB)\n",
      "Collecting jupyter-client\n",
      "  Using cached jupyter_client-6.1.7-py3-none-any.whl (108 kB)\n",
      "Collecting prompt-toolkit!=3.0.0,!=3.0.1,<3.1.0,>=2.0.0\n",
      "  Using cached prompt_toolkit-3.0.7-py3-none-any.whl (355 kB)\n",
      "Collecting pygments\n",
      "  Using cached Pygments-2.6.1-py3-none-any.whl (914 kB)\n",
      "Processing /home/jupyter/.cache/pip/wheels/7d/14/fa/d88fb5da77d813ea0ffca38a2ab2a052874e9e1142bad0b348/tornado-6.0.4-cp37-cp37m-linux_x86_64.whl\n",
      "Collecting testpath\n",
      "  Using cached testpath-0.4.4-py2.py3-none-any.whl (163 kB)\n",
      "Collecting jinja2>=2.4\n",
      "  Using cached Jinja2-2.11.2-py2.py3-none-any.whl (125 kB)\n",
      "Processing /home/jupyter/.cache/pip/wheels/63/99/01/9fe785b86d1e091a6b2a61e06ddb3d8eb1bc9acae5933d4740/pandocfilters-1.4.2-py3-none-any.whl\n",
      "Collecting bleach\n",
      "  Using cached bleach-3.1.5-py2.py3-none-any.whl (151 kB)\n",
      "Collecting defusedxml\n",
      "  Using cached defusedxml-0.6.0-py2.py3-none-any.whl (23 kB)\n",
      "Collecting entrypoints>=0.2.2\n",
      "  Using cached entrypoints-0.3-py2.py3-none-any.whl (11 kB)\n",
      "Collecting jupyter-core\n",
      "  Using cached jupyter_core-4.6.3-py2.py3-none-any.whl (83 kB)\n",
      "Collecting mistune<2,>=0.8.1\n",
      "  Using cached mistune-0.8.4-py2.py3-none-any.whl (16 kB)\n",
      "Collecting prometheus-client\n",
      "  Using cached prometheus_client-0.8.0-py2.py3-none-any.whl (53 kB)\n",
      "Collecting terminado>=0.8.3\n",
      "  Using cached terminado-0.8.3-py2.py3-none-any.whl (33 kB)\n",
      "Collecting ipython-genutils\n",
      "  Using cached ipython_genutils-0.2.0-py2.py3-none-any.whl (26 kB)\n",
      "Collecting Send2Trash\n",
      "  Using cached Send2Trash-1.5.0-py3-none-any.whl (12 kB)\n",
      "Collecting argon2-cffi\n",
      "  Using cached argon2_cffi-20.1.0-cp35-abi3-manylinux1_x86_64.whl (97 kB)\n",
      "Collecting pyzmq>=17\n",
      "  Using cached pyzmq-19.0.2-cp37-cp37m-manylinux1_x86_64.whl (1.1 MB)\n",
      "Collecting qtpy\n",
      "  Using cached QtPy-1.9.0-py2.py3-none-any.whl (54 kB)\n",
      "Collecting jsonschema!=2.5.0,>=2.4\n",
      "  Using cached jsonschema-3.2.0-py2.py3-none-any.whl (56 kB)\n",
      "Collecting jedi>=0.10\n",
      "  Using cached jedi-0.17.2-py2.py3-none-any.whl (1.4 MB)\n",
      "Collecting pickleshare\n",
      "  Using cached pickleshare-0.7.5-py2.py3-none-any.whl (6.9 kB)\n",
      "Collecting setuptools>=18.5\n",
      "  Using cached setuptools-50.1.0-py3-none-any.whl (784 kB)\n",
      "Collecting backcall\n",
      "  Using cached backcall-0.2.0-py2.py3-none-any.whl (11 kB)\n",
      "Collecting pexpect>4.3; sys_platform != \"win32\"\n",
      "  Using cached pexpect-4.8.0-py2.py3-none-any.whl (59 kB)\n",
      "Collecting decorator\n",
      "  Using cached decorator-4.4.2-py2.py3-none-any.whl (9.2 kB)\n",
      "Collecting python-dateutil>=2.1\n",
      "  Using cached python_dateutil-2.8.1-py2.py3-none-any.whl (227 kB)\n",
      "Collecting wcwidth\n",
      "  Using cached wcwidth-0.2.5-py2.py3-none-any.whl (30 kB)\n",
      "Collecting MarkupSafe>=0.23\n",
      "  Using cached MarkupSafe-1.1.1-cp37-cp37m-manylinux1_x86_64.whl (27 kB)\n",
      "Collecting webencodings\n",
      "  Using cached webencodings-0.5.1-py2.py3-none-any.whl (11 kB)\n",
      "Collecting packaging==20.0\n",
      "  Using cached packaging-20.0-py2.py3-none-any.whl (36 kB)\n",
      "Collecting six>=1.9.0\n",
      "  Using cached six-1.15.0-py2.py3-none-any.whl (10 kB)\n",
      "Collecting ptyprocess; os_name != \"nt\"\n",
      "  Using cached ptyprocess-0.6.0-py2.py3-none-any.whl (39 kB)\n",
      "Collecting cffi>=1.0.0\n",
      "  Using cached cffi-1.14.2-cp37-cp37m-manylinux1_x86_64.whl (401 kB)\n",
      "Collecting attrs>=17.4.0\n",
      "  Using cached attrs-20.1.0-py2.py3-none-any.whl (49 kB)\n",
      "Collecting importlib-metadata; python_version < \"3.8\"\n",
      "  Using cached importlib_metadata-1.7.0-py2.py3-none-any.whl (31 kB)\n",
      "Processing /home/jupyter/.cache/pip/wheels/22/52/11/f0920f95c23ed7d2d0b05f2b7b2f4509e87a20cfe8ea43d987/pyrsistent-0.16.0-cp37-cp37m-linux_x86_64.whl\n",
      "Collecting parso<0.8.0,>=0.7.0\n",
      "  Using cached parso-0.7.1-py2.py3-none-any.whl (109 kB)\n",
      "Collecting pyparsing>=2.0.2\n",
      "  Using cached pyparsing-2.4.7-py2.py3-none-any.whl (67 kB)\n",
      "Collecting pycparser\n",
      "  Using cached pycparser-2.20-py2.py3-none-any.whl (112 kB)\n",
      "Collecting zipp>=0.5\n",
      "  Using cached zipp-3.1.0-py3-none-any.whl (4.9 kB)\n",
      "Installing collected packages: prometheus-client, tornado, ptyprocess, terminado, ipython-genutils, traitlets, jupyter-core, wcwidth, prompt-toolkit, parso, jedi, pickleshare, pygments, setuptools, backcall, pexpect, decorator, ipython, pyzmq, six, python-dateutil, jupyter-client, ipykernel, attrs, zipp, importlib-metadata, pyrsistent, jsonschema, nbformat, Send2Trash, MarkupSafe, jinja2, pycparser, cffi, argon2-cffi, testpath, pandocfilters, webencodings, pyparsing, packaging, bleach, defusedxml, entrypoints, mistune, nbconvert, notebook, numpy, widgetsnbextension, ipywidgets, joblib, scipy, scikit-learn, lightgbm, tqdm, jupyter-console, qtpy, qtconsole, jupyter, sklearn, sortedcontainers\n",
      "\u001B[31mERROR: After October 2020 you may experience errors when installing or updating packages. This is because pip will change the way that it resolves dependency conflicts.\n",
      "\n",
      "We recommend you use --use-feature=2020-resolver to test your packages with the new resolver before it becomes the default.\n",
      "\n",
      "torchvision 0.5.0 requires torch==1.4.0, but you'll have torch 1.6.0 which is incompatible.\n",
      "ml-kernel 0.0.1 requires ipython==7.13.0, but you'll have ipython 7.18.1 which is incompatible.\n",
      "dvc 1.4.0 requires networkx<2.5,>=2.1, but you'll have networkx 2.5 which is incompatible.\u001B[0m\n",
      "Successfully installed MarkupSafe-1.1.1 Send2Trash-1.5.0 argon2-cffi-20.1.0 attrs-20.1.0 backcall-0.2.0 bleach-3.1.5 cffi-1.14.2 decorator-4.4.2 defusedxml-0.6.0 entrypoints-0.3 importlib-metadata-1.7.0 ipykernel-5.3.4 ipython-7.18.1 ipython-genutils-0.2.0 ipywidgets-7.5.1 jedi-0.17.2 jinja2-2.11.2 joblib-0.16.0 jsonschema-3.2.0 jupyter-1.0.0 jupyter-client-6.1.7 jupyter-console-6.2.0 jupyter-core-4.6.3 lightgbm-2.3.1 mistune-0.8.4 nbconvert-5.6.1 nbformat-5.0.7 notebook-6.1.1 numpy-1.19.1 packaging-20.0 pandocfilters-1.4.2 parso-0.7.1 pexpect-4.8.0 pickleshare-0.7.5 prometheus-client-0.8.0 prompt-toolkit-3.0.7 ptyprocess-0.6.0 pycparser-2.20 pygments-2.6.1 pyparsing-2.4.7 pyrsistent-0.16.0 python-dateutil-2.8.1 pyzmq-19.0.2 qtconsole-4.7.7 qtpy-1.9.0 scikit-learn-0.22.1 scipy-1.4.1 setuptools-50.1.0 six-1.15.0 sklearn-0.0 sortedcontainers-2.2.2 terminado-0.8.3 testpath-0.4.4 tornado-6.0.4 tqdm-4.45.0 traitlets-5.0.2 wcwidth-0.2.5 webencodings-0.5.1 widgetsnbextension-3.5.1 zipp-3.1.0\n",
      "\u001B[33mWARNING: Target directory /home/jupyter/work/pyenv/jupyter.py already exists. Specify --upgrade to force replacement.\u001B[0m\n",
      "\u001B[33mWARNING: Target directory /home/jupyter/work/pyenv/pandocfilters-1.4.2.dist-info already exists. Specify --upgrade to force replacement.\u001B[0m\n",
      "\u001B[33mWARNING: Target directory /home/jupyter/work/pyenv/pickleshare.py already exists. Specify --upgrade to force replacement.\u001B[0m\n",
      "\u001B[33mWARNING: Target directory /home/jupyter/work/pyenv/pyparsing.py already exists. Specify --upgrade to force replacement.\u001B[0m\n",
      "\u001B[33mWARNING: Target directory /home/jupyter/work/pyenv/tornado-6.0.4.dist-info already exists. Specify --upgrade to force replacement.\u001B[0m\n",
      "\u001B[33mWARNING: Target directory /home/jupyter/work/pyenv/ipython-7.18.1.dist-info already exists. Specify --upgrade to force replacement.\u001B[0m\n",
      "\u001B[33mWARNING: Target directory /home/jupyter/work/pyenv/_cffi_backend.cpython-37m-x86_64-linux-gnu.so already exists. Specify --upgrade to force replacement.\u001B[0m\n",
      "\u001B[33mWARNING: Target directory /home/jupyter/work/pyenv/backcall-0.2.0.dist-info already exists. Specify --upgrade to force replacement.\u001B[0m\n",
      "\u001B[33mWARNING: Target directory /home/jupyter/work/pyenv/jupyter-1.0.0.dist-info already exists. Specify --upgrade to force replacement.\u001B[0m\n",
      "\u001B[33mWARNING: Target directory /home/jupyter/work/pyenv/jsonschema already exists. Specify --upgrade to force replacement.\u001B[0m\n",
      "\u001B[33mWARNING: Target directory /home/jupyter/work/pyenv/send2trash already exists. Specify --upgrade to force replacement.\u001B[0m\n",
      "\u001B[33mWARNING: Target directory /home/jupyter/work/pyenv/six.py already exists. Specify --upgrade to force replacement.\u001B[0m\n",
      "\u001B[33mWARNING: Target directory /home/jupyter/work/pyenv/bleach-3.1.5.dist-info already exists. Specify --upgrade to force replacement.\u001B[0m\n",
      "\u001B[33mWARNING: Target directory /home/jupyter/work/pyenv/scikit_learn-0.22.1.dist-info already exists. Specify --upgrade to force replacement.\u001B[0m\n",
      "\u001B[33mWARNING: Target directory /home/jupyter/work/pyenv/joblib-0.16.0.dist-info already exists. Specify --upgrade to force replacement.\u001B[0m\n",
      "\u001B[33mWARNING: Target directory /home/jupyter/work/pyenv/qtpy already exists. Specify --upgrade to force replacement.\u001B[0m\n",
      "\u001B[33mWARNING: Target directory /home/jupyter/work/pyenv/decorator.py already exists. Specify --upgrade to force replacement.\u001B[0m\n",
      "\u001B[33mWARNING: Target directory /home/jupyter/work/pyenv/setuptools-50.1.0.dist-info already exists. Specify --upgrade to force replacement.\u001B[0m\n",
      "\u001B[33mWARNING: Target directory /home/jupyter/work/pyenv/parso already exists. Specify --upgrade to force replacement.\u001B[0m\n",
      "\u001B[33mWARNING: Target directory /home/jupyter/work/pyenv/tqdm already exists. Specify --upgrade to force replacement.\u001B[0m\n",
      "\u001B[33mWARNING: Target directory /home/jupyter/work/pyenv/wcwidth-0.2.5.dist-info already exists. Specify --upgrade to force replacement.\u001B[0m\n",
      "\u001B[33mWARNING: Target directory /home/jupyter/work/pyenv/cffi-1.14.2.dist-info already exists. Specify --upgrade to force replacement.\u001B[0m\n",
      "\u001B[33mWARNING: Target directory /home/jupyter/work/pyenv/entrypoints.py already exists. Specify --upgrade to force replacement.\u001B[0m\n",
      "\u001B[33mWARNING: Target directory /home/jupyter/work/pyenv/sortedcontainers already exists. Specify --upgrade to force replacement.\u001B[0m\n",
      "\u001B[33mWARNING: Target directory /home/jupyter/work/pyenv/nbformat-5.0.7.dist-info already exists. Specify --upgrade to force replacement.\u001B[0m\n",
      "\u001B[33mWARNING: Target directory /home/jupyter/work/pyenv/QtPy-1.9.0.dist-info already exists. Specify --upgrade to force replacement.\u001B[0m\n",
      "\u001B[33mWARNING: Target directory /home/jupyter/work/pyenv/widgetsnbextension already exists. Specify --upgrade to force replacement.\u001B[0m\n",
      "\u001B[33mWARNING: Target directory /home/jupyter/work/pyenv/defusedxml-0.6.0.dist-info already exists. Specify --upgrade to force replacement.\u001B[0m\n",
      "\u001B[33mWARNING: Target directory /home/jupyter/work/pyenv/notebook-6.1.1.dist-info already exists. Specify --upgrade to force replacement.\u001B[0m\n",
      "\u001B[33mWARNING: Target directory /home/jupyter/work/pyenv/mistune.py already exists. Specify --upgrade to force replacement.\u001B[0m\n",
      "\u001B[33mWARNING: Target directory /home/jupyter/work/pyenv/pyrsistent-0.16.0.dist-info already exists. Specify --upgrade to force replacement.\u001B[0m\n",
      "\u001B[33mWARNING: Target directory /home/jupyter/work/pyenv/zipp-3.1.0.dist-info already exists. Specify --upgrade to force replacement.\u001B[0m\n",
      "\u001B[33mWARNING: Target directory /home/jupyter/work/pyenv/webencodings already exists. Specify --upgrade to force replacement.\u001B[0m\n",
      "\u001B[33mWARNING: Target directory /home/jupyter/work/pyenv/notebook already exists. Specify --upgrade to force replacement.\u001B[0m\n",
      "\u001B[33mWARNING: Target directory /home/jupyter/work/pyenv/jupyter_console already exists. Specify --upgrade to force replacement.\u001B[0m\n",
      "\u001B[33mWARNING: Target directory /home/jupyter/work/pyenv/scipy already exists. Specify --upgrade to force replacement.\u001B[0m\n",
      "\u001B[33mWARNING: Target directory /home/jupyter/work/pyenv/joblib already exists. Specify --upgrade to force replacement.\u001B[0m\n",
      "\u001B[33mWARNING: Target directory /home/jupyter/work/pyenv/numpy.libs already exists. Specify --upgrade to force replacement.\u001B[0m\n",
      "\u001B[33mWARNING: Target directory /home/jupyter/work/pyenv/six-1.15.0.dist-info already exists. Specify --upgrade to force replacement.\u001B[0m\n",
      "\u001B[33mWARNING: Target directory /home/jupyter/work/pyenv/python_dateutil-2.8.1.dist-info already exists. Specify --upgrade to force replacement.\u001B[0m\n",
      "\u001B[33mWARNING: Target directory /home/jupyter/work/pyenv/pandocfilters.py already exists. Specify --upgrade to force replacement.\u001B[0m\n",
      "\u001B[33mWARNING: Target directory /home/jupyter/work/pyenv/qtconsole-4.7.7.dist-info already exists. Specify --upgrade to force replacement.\u001B[0m\n",
      "\u001B[33mWARNING: Target directory /home/jupyter/work/pyenv/IPython already exists. Specify --upgrade to force replacement.\u001B[0m\n",
      "\u001B[33mWARNING: Target directory /home/jupyter/work/pyenv/terminado-0.8.3.dist-info already exists. Specify --upgrade to force replacement.\u001B[0m\n",
      "\u001B[33mWARNING: Target directory /home/jupyter/work/pyenv/pyparsing-2.4.7.dist-info already exists. Specify --upgrade to force replacement.\u001B[0m\n",
      "\u001B[33mWARNING: Target directory /home/jupyter/work/pyenv/jedi-0.17.2.dist-info already exists. Specify --upgrade to force replacement.\u001B[0m\n",
      "\u001B[33mWARNING: Target directory /home/jupyter/work/pyenv/mistune-0.8.4.dist-info already exists. Specify --upgrade to force replacement.\u001B[0m\n",
      "\u001B[33mWARNING: Target directory /home/jupyter/work/pyenv/jupyter_console-6.2.0.dist-info already exists. Specify --upgrade to force replacement.\u001B[0m\n",
      "\u001B[33mWARNING: Target directory /home/jupyter/work/pyenv/jupyter_client-6.1.7.dist-info already exists. Specify --upgrade to force replacement.\u001B[0m\n",
      "\u001B[33mWARNING: Target directory /home/jupyter/work/pyenv/pvectorc.cpython-37m-x86_64-linux-gnu.so already exists. Specify --upgrade to force replacement.\u001B[0m\n",
      "\u001B[33mWARNING: Target directory /home/jupyter/work/pyenv/jupyter_client already exists. Specify --upgrade to force replacement.\u001B[0m\n",
      "\u001B[33mWARNING: Target directory /home/jupyter/work/pyenv/pycparser already exists. Specify --upgrade to force replacement.\u001B[0m\n",
      "\u001B[33mWARNING: Target directory /home/jupyter/work/pyenv/prompt_toolkit already exists. Specify --upgrade to force replacement.\u001B[0m\n",
      "\u001B[33mWARNING: Target directory /home/jupyter/work/pyenv/jedi already exists. Specify --upgrade to force replacement.\u001B[0m\n",
      "\u001B[33mWARNING: Target directory /home/jupyter/work/pyenv/_distutils_hack already exists. Specify --upgrade to force replacement.\u001B[0m\n",
      "\u001B[33mWARNING: Target directory /home/jupyter/work/pyenv/distutils-precedence.pth already exists. Specify --upgrade to force replacement.\u001B[0m\n",
      "\u001B[33mWARNING: Target directory /home/jupyter/work/pyenv/prometheus_client-0.8.0.dist-info already exists. Specify --upgrade to force replacement.\u001B[0m\n",
      "\u001B[33mWARNING: Target directory /home/jupyter/work/pyenv/parso-0.7.1.dist-info already exists. Specify --upgrade to force replacement.\u001B[0m\n",
      "\u001B[33mWARNING: Target directory /home/jupyter/work/pyenv/nbconvert already exists. Specify --upgrade to force replacement.\u001B[0m\n",
      "\u001B[33mWARNING: Target directory /home/jupyter/work/pyenv/pickleshare-0.7.5.dist-info already exists. Specify --upgrade to force replacement.\u001B[0m\n",
      "\u001B[33mWARNING: Target directory /home/jupyter/work/pyenv/sklearn already exists. Specify --upgrade to force replacement.\u001B[0m\n",
      "\u001B[33mWARNING: Target directory /home/jupyter/work/pyenv/pyzmq-19.0.2.dist-info already exists. Specify --upgrade to force replacement.\u001B[0m\n",
      "\u001B[33mWARNING: Target directory /home/jupyter/work/pyenv/setuptools already exists. Specify --upgrade to force replacement.\u001B[0m\n",
      "\u001B[33mWARNING: Target directory /home/jupyter/work/pyenv/lightgbm already exists. Specify --upgrade to force replacement.\u001B[0m\n",
      "\u001B[33mWARNING: Target directory /home/jupyter/work/pyenv/cffi.libs already exists. Specify --upgrade to force replacement.\u001B[0m\n",
      "\u001B[33mWARNING: Target directory /home/jupyter/work/pyenv/__pycache__ already exists. Specify --upgrade to force replacement.\u001B[0m\n",
      "\u001B[33mWARNING: Target directory /home/jupyter/work/pyenv/jupyter_core already exists. Specify --upgrade to force replacement.\u001B[0m\n",
      "\u001B[33mWARNING: Target directory /home/jupyter/work/pyenv/numpy already exists. Specify --upgrade to force replacement.\u001B[0m\n",
      "\u001B[33mWARNING: Target directory /home/jupyter/work/pyenv/nbformat already exists. Specify --upgrade to force replacement.\u001B[0m\n",
      "\u001B[33mWARNING: Target directory /home/jupyter/work/pyenv/qtconsole already exists. Specify --upgrade to force replacement.\u001B[0m\n",
      "\u001B[33mWARNING: Target directory /home/jupyter/work/pyenv/ptyprocess-0.6.0.dist-info already exists. Specify --upgrade to force replacement.\u001B[0m\n",
      "\u001B[33mWARNING: Target directory /home/jupyter/work/pyenv/entrypoints-0.3.dist-info already exists. Specify --upgrade to force replacement.\u001B[0m\n",
      "\u001B[33mWARNING: Target directory /home/jupyter/work/pyenv/nbconvert-5.6.1.dist-info already exists. Specify --upgrade to force replacement.\u001B[0m\n",
      "\u001B[33mWARNING: Target directory /home/jupyter/work/pyenv/argon2 already exists. Specify --upgrade to force replacement.\u001B[0m\n",
      "\u001B[33mWARNING: Target directory /home/jupyter/work/pyenv/pkg_resources already exists. Specify --upgrade to force replacement.\u001B[0m\n",
      "\u001B[33mWARNING: Target directory /home/jupyter/work/pyenv/pyzmq.libs already exists. Specify --upgrade to force replacement.\u001B[0m\n",
      "\u001B[33mWARNING: Target directory /home/jupyter/work/pyenv/markupsafe already exists. Specify --upgrade to force replacement.\u001B[0m\n",
      "\u001B[33mWARNING: Target directory /home/jupyter/work/pyenv/jsonschema-3.2.0.dist-info already exists. Specify --upgrade to force replacement.\u001B[0m\n",
      "\u001B[33mWARNING: Target directory /home/jupyter/work/pyenv/jupyter_core-4.6.3.dist-info already exists. Specify --upgrade to force replacement.\u001B[0m\n",
      "\u001B[33mWARNING: Target directory /home/jupyter/work/pyenv/lightgbm-2.3.1.dist-info already exists. Specify --upgrade to force replacement.\u001B[0m\n",
      "\u001B[33mWARNING: Target directory /home/jupyter/work/pyenv/ipywidgets already exists. Specify --upgrade to force replacement.\u001B[0m\n",
      "\u001B[33mWARNING: Target directory /home/jupyter/work/pyenv/decorator-4.4.2.dist-info already exists. Specify --upgrade to force replacement.\u001B[0m\n",
      "\u001B[33mWARNING: Target directory /home/jupyter/work/pyenv/ipywidgets-7.5.1.dist-info already exists. Specify --upgrade to force replacement.\u001B[0m\n",
      "\u001B[33mWARNING: Target directory /home/jupyter/work/pyenv/webencodings-0.5.1.dist-info already exists. Specify --upgrade to force replacement.\u001B[0m\n",
      "\u001B[33mWARNING: Target directory /home/jupyter/work/pyenv/prometheus_client already exists. Specify --upgrade to force replacement.\u001B[0m\n",
      "\u001B[33mWARNING: Target directory /home/jupyter/work/pyenv/ipykernel_launcher.py already exists. Specify --upgrade to force replacement.\u001B[0m\n",
      "\u001B[33mWARNING: Target directory /home/jupyter/work/pyenv/scipy-1.4.1.dist-info already exists. Specify --upgrade to force replacement.\u001B[0m\n",
      "\u001B[33mWARNING: Target directory /home/jupyter/work/pyenv/cffi already exists. Specify --upgrade to force replacement.\u001B[0m\n",
      "\u001B[33mWARNING: Target directory /home/jupyter/work/pyenv/packaging-20.0.dist-info already exists. Specify --upgrade to force replacement.\u001B[0m\n",
      "\u001B[33mWARNING: Target directory /home/jupyter/work/pyenv/importlib_metadata already exists. Specify --upgrade to force replacement.\u001B[0m\n",
      "\u001B[33mWARNING: Target directory /home/jupyter/work/pyenv/argon2_cffi-20.1.0.dist-info already exists. Specify --upgrade to force replacement.\u001B[0m\n",
      "\u001B[33mWARNING: Target directory /home/jupyter/work/pyenv/Send2Trash-1.5.0.dist-info already exists. Specify --upgrade to force replacement.\u001B[0m\n",
      "\u001B[33mWARNING: Target directory /home/jupyter/work/pyenv/importlib_metadata-1.7.0.dist-info already exists. Specify --upgrade to force replacement.\u001B[0m\n",
      "\u001B[33mWARNING: Target directory /home/jupyter/work/pyenv/zmq already exists. Specify --upgrade to force replacement.\u001B[0m\n",
      "\u001B[33mWARNING: Target directory /home/jupyter/work/pyenv/traitlets-5.0.2.dist-info already exists. Specify --upgrade to force replacement.\u001B[0m\n",
      "\u001B[33mWARNING: Target directory /home/jupyter/work/pyenv/pycparser-2.20.dist-info already exists. Specify --upgrade to force replacement.\u001B[0m\n",
      "\u001B[33mWARNING: Target directory /home/jupyter/work/pyenv/backcall already exists. Specify --upgrade to force replacement.\u001B[0m\n",
      "\u001B[33mWARNING: Target directory /home/jupyter/work/pyenv/zipp.py already exists. Specify --upgrade to force replacement.\u001B[0m\n",
      "\u001B[33mWARNING: Target directory /home/jupyter/work/pyenv/ipython_genutils-0.2.0.dist-info already exists. Specify --upgrade to force replacement.\u001B[0m\n",
      "\u001B[33mWARNING: Target directory /home/jupyter/work/pyenv/prompt_toolkit-3.0.7.dist-info already exists. Specify --upgrade to force replacement.\u001B[0m\n",
      "\u001B[33mWARNING: Target directory /home/jupyter/work/pyenv/dateutil already exists. Specify --upgrade to force replacement.\u001B[0m\n",
      "\u001B[33mWARNING: Target directory /home/jupyter/work/pyenv/tornado already exists. Specify --upgrade to force replacement.\u001B[0m\n",
      "\u001B[33mWARNING: Target directory /home/jupyter/work/pyenv/attrs-20.1.0.dist-info already exists. Specify --upgrade to force replacement.\u001B[0m\n",
      "\u001B[33mWARNING: Target directory /home/jupyter/work/pyenv/testpath-0.4.4.dist-info already exists. Specify --upgrade to force replacement.\u001B[0m\n",
      "\u001B[33mWARNING: Target directory /home/jupyter/work/pyenv/ipykernel-5.3.4.dist-info already exists. Specify --upgrade to force replacement.\u001B[0m\n",
      "\u001B[33mWARNING: Target directory /home/jupyter/work/pyenv/defusedxml already exists. Specify --upgrade to force replacement.\u001B[0m\n",
      "\u001B[33mWARNING: Target directory /home/jupyter/work/pyenv/terminado already exists. Specify --upgrade to force replacement.\u001B[0m\n",
      "\u001B[33mWARNING: Target directory /home/jupyter/work/pyenv/traitlets already exists. Specify --upgrade to force replacement.\u001B[0m\n",
      "\u001B[33mWARNING: Target directory /home/jupyter/work/pyenv/widgetsnbextension-3.5.1.dist-info already exists. Specify --upgrade to force replacement.\u001B[0m\n",
      "\u001B[33mWARNING: Target directory /home/jupyter/work/pyenv/tqdm-4.45.0.dist-info already exists. Specify --upgrade to force replacement.\u001B[0m\n",
      "\u001B[33mWARNING: Target directory /home/jupyter/work/pyenv/MarkupSafe-1.1.1.dist-info already exists. Specify --upgrade to force replacement.\u001B[0m\n",
      "\u001B[33mWARNING: Target directory /home/jupyter/work/pyenv/easy_install.py already exists. Specify --upgrade to force replacement.\u001B[0m\n",
      "\u001B[33mWARNING: Target directory /home/jupyter/work/pyenv/sklearn-0.0.dist-info already exists. Specify --upgrade to force replacement.\u001B[0m\n",
      "\u001B[33mWARNING: Target directory /home/jupyter/work/pyenv/ipykernel already exists. Specify --upgrade to force replacement.\u001B[0m\n",
      "\u001B[33mWARNING: Target directory /home/jupyter/work/pyenv/wcwidth already exists. Specify --upgrade to force replacement.\u001B[0m\n",
      "\u001B[33mWARNING: Target directory /home/jupyter/work/pyenv/_pyrsistent_version.py already exists. Specify --upgrade to force replacement.\u001B[0m\n",
      "\u001B[33mWARNING: Target directory /home/jupyter/work/pyenv/numpy-1.19.1.dist-info already exists. Specify --upgrade to force replacement.\u001B[0m\n",
      "\u001B[33mWARNING: Target directory /home/jupyter/work/pyenv/pyrsistent already exists. Specify --upgrade to force replacement.\u001B[0m\n",
      "\u001B[33mWARNING: Target directory /home/jupyter/work/pyenv/testpath already exists. Specify --upgrade to force replacement.\u001B[0m\n",
      "\u001B[33mWARNING: Target directory /home/jupyter/work/pyenv/sortedcontainers-2.2.2.dist-info already exists. Specify --upgrade to force replacement.\u001B[0m\n",
      "\u001B[33mWARNING: Target directory /home/jupyter/work/pyenv/pexpect-4.8.0.dist-info already exists. Specify --upgrade to force replacement.\u001B[0m\n",
      "\u001B[33mWARNING: Target directory /home/jupyter/work/pyenv/pygments already exists. Specify --upgrade to force replacement.\u001B[0m\n",
      "\u001B[33mWARNING: Target directory /home/jupyter/work/pyenv/Pygments-2.6.1.dist-info already exists. Specify --upgrade to force replacement.\u001B[0m\n",
      "\u001B[33mWARNING: Target directory /home/jupyter/work/pyenv/Jinja2-2.11.2.dist-info already exists. Specify --upgrade to force replacement.\u001B[0m\n",
      "\u001B[33mWARNING: Target directory /home/jupyter/work/pyenv/ipython_genutils already exists. Specify --upgrade to force replacement.\u001B[0m\n",
      "\u001B[33mWARNING: Target directory /home/jupyter/work/pyenv/packaging already exists. Specify --upgrade to force replacement.\u001B[0m\n",
      "\u001B[33mWARNING: Target directory /home/jupyter/work/pyenv/jinja2 already exists. Specify --upgrade to force replacement.\u001B[0m\n",
      "\u001B[33mWARNING: Target directory /home/jupyter/work/pyenv/pexpect already exists. Specify --upgrade to force replacement.\u001B[0m\n",
      "\u001B[33mWARNING: Target directory /home/jupyter/work/pyenv/attr already exists. Specify --upgrade to force replacement.\u001B[0m\n",
      "\u001B[33mWARNING: Target directory /home/jupyter/work/pyenv/ptyprocess already exists. Specify --upgrade to force replacement.\u001B[0m\n",
      "\u001B[33mWARNING: Target directory /home/jupyter/work/pyenv/bleach already exists. Specify --upgrade to force replacement.\u001B[0m\n",
      "\u001B[33mWARNING: Target directory /home/jupyter/work/pyenv/etc already exists. Specify --upgrade to force replacement.\u001B[0m\n",
      "\u001B[33mWARNING: Target directory /home/jupyter/work/pyenv/share already exists. Specify --upgrade to force replacement.\u001B[0m\n"
     ]
    }
   ],
   "source": [
    "%pip install -r /home/jupyter/work/resources/wunder_summer/requirements.txt --upgrade"
   ]
  },
  {
   "cell_type": "code",
   "execution_count": null,
   "metadata": {
    "cellId": "om5vtb26ymwl1gyuedbho"
   },
   "outputs": [],
   "source": [
    "%pip install -r /home/jupyter/work/resources/wunder_summer/scorer_packages.txt --upgrade"
   ]
  },
  {
   "cell_type": "code",
   "execution_count": null,
   "metadata": {
    "cellId": "vs6quasgamf15frga4diq",
    "collapsed": false,
    "jupyter": {
     "outputs_hidden": false
    },
    "pycharm": {
     "name": "#%%\n"
    }
   },
   "outputs": [],
   "source": [
    "\n",
    "import sys\n",
    "\n",
    "\n",
    "sys.path.append(\"../../scorer/\")\n",
    "# sys.path.append(\"../../scorer/orderbook_fast\")\n",
    "# sys.path.append(\"/home/gpu/wunder_summer/scorer/orderbook_fast\")\n",
    "\n",
    "import pyximport\n",
    "import scorer\n",
    "import pystan\n",
    "import numpy as np\n",
    "import pandas as pd\n",
    "import lightgbm as lg\n",
    "import catboost\n",
    "import zipp\n",
    "from catboost.utils import get_gpu_device_count\n",
    "from tqdm import tqdm\n",
    "from pathlib import Path\n",
    "\n",
    "import orderbook_fast as ob\n",
    "from my_orderbook import MyOrderBook\n",
    "catboost_myob = MyOrderBook()\n",
    "\n",
    "print(\"curdir = \", Path.cwd())\n",
    "print(\"homedir = \", Path.home())\n",
    "\n",
    "\n",
    "\n",
    "\n",
    "SIDE_BID = 0\n",
    "SIDE_ASK = 1"
   ]
  },
  {
   "cell_type": "markdown",
   "metadata": {
    "cellId": "ehwy0azo43fzmt2fhr3h3",
    "pycharm": {
     "name": "#%% md\n"
    }
   },
   "source": [
    "## Собираем датасет для тренировки модели"
   ]
  },
  {
   "cell_type": "code",
   "execution_count": null,
   "metadata": {
    "cellId": "ycvggjph6u9zrc44o3d3g",
    "collapsed": false,
    "jupyter": {
     "outputs_hidden": false
    },
    "pycharm": {
     "name": "#%%\n"
    }
   },
   "outputs": [],
   "source": [
    "%time\n",
    "\n",
    "def collect_dataset(data_path):\n",
    "    '''\n",
    "        Собираем датасет\n",
    "    '''\n",
    "\n",
    "    global catboost_myob\n",
    "    event_player = ob.EventPlayer(data_path)\n",
    "    orderbook = ob.OrderBook()\n",
    "\n",
    "    X = []\n",
    "    Y = []\n",
    "\n",
    "    # last_deal = [None, None]\n",
    "    for ev in tqdm(event_player.iget_events(),\n",
    "                    total=len(event_player),\n",
    "                    desc=\"collecting dataset\"):\n",
    "\n",
    "        if ev.action == ob.Action.DEAL:\n",
    "            # last_deal[ev.side] = ev\n",
    "            catboost_myob.set_last_deal(ev)\n",
    "        elif ev.action == ob.Action.NEW_CHUNK:\n",
    "            catboost_myob.clear()\n",
    "            # last_deal = [None, None]\n",
    "\n",
    "        orderbook.apply_event(ev)\n",
    "        if ev.need_prediction:\n",
    "            features = catboost_myob.get_features(ev, orderbook)\n",
    "\n",
    "            X.append(features)\n",
    "            Y.append(ev.Y)\n",
    "\n",
    "    print(f\"Dataset collected: len(X) = {len(X)}\")\n",
    "    return np.array(X), np.array(Y)\n",
    "\n",
    "\n",
    "X_train, Y_train = collect_dataset(\"../../data/very_small_A.npz\")\n",
    "X_test, Y_test = collect_dataset(\"../../data/very_small_B.npz\")\n",
    "\n",
    "# X_train, Y_train = collect_dataset(\"../../data/train_small_A.npz\")\n",
    "# X_test, Y_test = collect_dataset(\"../../data/train_small_B.npz\")"
   ]
  },
  {
   "cell_type": "markdown",
   "metadata": {
    "cellId": "rnpm7yxekhpjlrbnndjs",
    "pycharm": {
     "name": "#%% md\n"
    }
   },
   "source": [
    "## Обучаем модель градиентного бустинга"
   ]
  },
  {
   "cell_type": "code",
   "execution_count": null,
   "metadata": {
    "cellId": "74ybfehbvh4luc8nksgvp",
    "collapsed": false,
    "jupyter": {
     "outputs_hidden": false
    },
    "pycharm": {
     "name": "#%%\n"
    }
   },
   "outputs": [],
   "source": [
    "#!L\n",
    "train_pool = catboost.Pool(X_train, Y_train, cat_features=catboost_myob.cat_features)\n",
    "test_pool = catboost.Pool(X_test, Y_test, cat_features=catboost_myob.cat_features)\n",
    "\n",
    "clf = catboost.CatBoostClassifier(\n",
    "    learning_rate=0.02,\n",
    "    depth=6,\n",
    "    l2_leaf_reg=2,\n",
    "\n",
    "    bootstrap_type=\"Bayesian\",\n",
    "    # scale_pos_weight=en.scale_pos_weight,\n",
    "    # scale_pos_weight=1,\n",
    "    loss_function = \"Logloss\",\n",
    "    eval_metric=\"AUC:hints=skip_train~false\",\n",
    "    custom_metric=[\"Recall\", \"Precision\", \"Accuracy\", \"F1\", \"Kappa\", \"MCC\"],\n",
    "    # use_best_model=True,\n",
    "    iterations=2000,\n",
    "    od_type=\"Iter\",\n",
    "    od_wait=30,\n",
    "    rsm=1,\n",
    "    # random_seed=100,\n",
    "    task_type=\"GPU\",\n",
    "    boosting_type='Ordered',\n",
    "    logging_level=\"Verbose\",\n",
    "    train_dir=\"grid\",\n",
    "\n",
    ")\n",
    "\n",
    "\n",
    "clf.fit(\n",
    "        X=train_pool,\n",
    "        plot=False,\n",
    "        eval_set=test_pool,\n",
    "        use_best_model=True\n",
    "    )\n"
   ]
  },
  {
   "cell_type": "markdown",
   "metadata": {
    "cellId": "5n46svlqlcvvmmsfr5j46k",
    "pycharm": {
     "name": "#%% md\n"
    }
   },
   "source": [
    "## Тестируем получившийся классификатор"
   ]
  },
  {
   "cell_type": "code",
   "execution_count": null,
   "metadata": {
    "cellId": "ponfabr0bqj8tvyy476njn",
    "collapsed": false,
    "jupyter": {
     "outputs_hidden": false
    },
    "pycharm": {
     "name": "#%%\n"
    }
   },
   "outputs": [],
   "source": [
    "import pystan"
   ]
  },
  {
   "cell_type": "code",
   "execution_count": null,
   "metadata": {
    "cellId": "keht92c15xa5x1rbo0vddx",
    "collapsed": false,
    "jupyter": {
     "outputs_hidden": false
    },
    "pycharm": {
     "name": "#%%\n"
    }
   },
   "outputs": [],
   "source": [
    "# %pip install cmake\n",
    "# %pip install scorer==2.0.2 --upgrade --use-feature=2020-resolver --force-reinstall\n",
    "# %pip install pystan\n"
   ]
  },
  {
   "cell_type": "code",
   "execution_count": null,
   "outputs": [],
   "source": [
    "def process_event_and_predict_proba(ev, orderbook):\n",
    "\n",
    "    if ev.action == ob.Action.DEAL:\n",
    "        catboost_myob.set_last_deal(ev)\n",
    "    elif ev.action == ob.Action.NEW_CHUNK:\n",
    "        catboost_myob.clear()\n",
    "\n",
    "\n",
    "\n",
    "    if not ev.need_prediction:\n",
    "        return None\n",
    "\n",
    "    features = catboost_myob.get_features(ev, orderbook)\n",
    "    proba = clf.predict_proba([features])[0, 1]\n",
    "    return proba\n",
    "\n",
    "from scorer import Scorer\n",
    "\n",
    "# scoring = Scorer(\"../../data/train_small_C.npz\")\n",
    "scoring = Scorer(\"../../data/very_small_B.npz\")\n",
    "roc_auc, (true_ys, pred_probas) = scoring.score(process_event_and_predict_proba)"
   ],
   "metadata": {
    "collapsed": false,
    "pycharm": {
     "name": "#%%\n"
    }
   }
  },
  {
   "cell_type": "code",
   "execution_count": null,
   "metadata": {
    "cellId": "dum0053pd3ecirjb510kue",
    "collapsed": false,
    "jupyter": {
     "outputs_hidden": false
    },
    "pycharm": {
     "name": "#%%\n"
    }
   },
   "outputs": [],
   "source": [
    "## Сохраним модель, и решение для отправки готово"
   ]
  },
  {
   "cell_type": "markdown",
   "metadata": {
    "cellId": "jfztjh677ciip8aqyaicu"
   },
   "source": [
    "## Сохраним модель, и решение для отправки готово"
   ]
  },
  {
   "cell_type": "code",
   "execution_count": null,
   "metadata": {
    "cellId": "174qngk1shuj5cusmvge0mw",
    "collapsed": false,
    "jupyter": {
     "outputs_hidden": false
    },
    "pycharm": {
     "name": "#%%\n"
    }
   },
   "outputs": [],
   "source": [
    "# Сохраним нашу модель\n",
    "# clf.booster_.save_model(\"wunder.model\")\n",
    "print(Path.cwd())\n",
    "clf.save_model(\"wunder.model\", format=\"cbm\")\n",
    "\n",
    "'''Посмотрите код файла solution.py.\n",
    "Он использует те же функции что и этот ноутбук, но уже готов к отправке на серверю.\n",
    "Попробуйте создать архив с файлами solution.py и wunder.model и отправить их на проверку.'''"
   ]
  },
  {
   "cell_type": "code",
   "execution_count": null,
   "metadata": {
    "cellId": "v6yyo2zcwpqxn9qyqlvfd",
    "collapsed": false,
    "jupyter": {
     "outputs_hidden": false
    },
    "pycharm": {
     "name": "#%%\n"
    }
   },
   "outputs": [],
   "source": []
  }
 ],
 "metadata": {
  "kernelspec": {
   "display_name": "Yandex DataSphere Kernel",
   "language": "python",
   "name": "python3"
  },
  "language_info": {
   "codemirror_mode": {
    "name": "ipython",
    "version": 3
   },
   "file_extension": ".py",
   "mimetype": "text/x-python",
   "name": "python",
   "nbconvert_exporter": "python",
   "pygments_lexer": "ipython3",
   "version": "3.7.7"
  },
  "notebookId": "43b07a2b-b08f-428e-9d6f-c4fc63f84454"
 },
 "nbformat": 4,
 "nbformat_minor": 4
}