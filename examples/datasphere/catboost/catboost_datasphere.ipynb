{
 "cells": [
  {
   "cell_type": "code",
   "execution_count": null,
   "outputs": [],
   "source": [
    "# %pip install cython\n",
    "# %pip install sortedcontainers\n",
    "# %pip install zipp==3.1.0 --upgrade\n",
    "# %pip install scorer"
   ],
   "metadata": {
    "collapsed": false,
    "pycharm": {
     "name": "#%%\n"
    }
   }
  },
  {
   "cell_type": "code",
   "execution_count": null,
   "outputs": [],
   "source": [
    "\n",
    "import sys\n",
    "\n",
    "import pyximport\n",
    "# import scorer\n",
    "import pystan\n",
    "import os\n",
    "import numpy as np\n",
    "import pandas as pd\n",
    "import lightgbm as lg\n",
    "import catboost\n",
    "import zipp\n",
    "from catboost.utils import get_gpu_device_count\n",
    "from tqdm import tqdm\n",
    "from pathlib import Path\n",
    "\n",
    "# Если запускаемся на DataSphere\n",
    "if str(Path.home()) == \"/home/jupyter\":\n",
    "    os.chdir(\"/home/jupyter/work/resources/wunder_challenge/examples/ml_example\")\n",
    "    sys.path.append(\"/home/jupyter/work/resources/wunder_challenge/scorer\")\n",
    "\n",
    "import orderbook_fast as ob\n",
    "from my_orderbook import MyOrderBook\n",
    "catboost_myob = MyOrderBook()\n",
    "\n",
    "print(\"curdir = \", Path.cwd())\n",
    "print(\"homedir = \", Path.home())\n",
    "\n",
    "\n",
    "sys.path.append(\"../../scorer/\")\n",
    "# sys.path.append(\"../../scorer/orderbook_fast\")\n",
    "# sys.path.append(\"/home/gpu/wunder_summer/scorer/orderbook_fast\")\n",
    "\n",
    "\n",
    "SIDE_BID = 0\n",
    "SIDE_ASK = 1"
   ],
   "metadata": {
    "collapsed": false,
    "pycharm": {
     "name": "#%%\n"
    }
   }
  },
  {
   "cell_type": "markdown",
   "source": [
    "## Собираем датасет для тренировки модели"
   ],
   "metadata": {
    "collapsed": false
   }
  },
  {
   "cell_type": "code",
   "execution_count": null,
   "outputs": [],
   "source": [
    "%time\n",
    "\n",
    "def collect_dataset(data_path):\n",
    "    '''\n",
    "        Собираем датасет\n",
    "    '''\n",
    "\n",
    "    global catboost_myob\n",
    "    event_player = ob.EventPlayer(data_path)\n",
    "    orderbook = ob.OrderBook()\n",
    "\n",
    "    X = []\n",
    "    Y = []\n",
    "\n",
    "    # last_deal = [None, None]\n",
    "    for ev in tqdm(event_player.iget_events(),\n",
    "                    total=len(event_player),\n",
    "                    desc=\"collecting dataset\"):\n",
    "\n",
    "        if ev.action == ob.Action.DEAL:\n",
    "            # last_deal[ev.side] = ev\n",
    "            catboost_myob.set_last_deal(ev)\n",
    "        elif ev.action == ob.Action.NEW_CHUNK:\n",
    "            catboost_myob.clear()\n",
    "            # last_deal = [None, None]\n",
    "\n",
    "        orderbook.apply_event(ev)\n",
    "        if ev.need_prediction:\n",
    "            features = catboost_myob.get_features(ev, orderbook)\n",
    "\n",
    "            X.append(features)\n",
    "            Y.append(ev.Y)\n",
    "\n",
    "    print(f\"Dataset collected: len(X) = {len(X)}\")\n",
    "    return np.array(X), np.array(Y)\n",
    "\n",
    "\n",
    "X_train, Y_train = collect_dataset(\"../../data/train_small_A.npz\")\n",
    "X_test, Y_test = collect_dataset(\"../../data/train_small_B.npz\")"
   ],
   "metadata": {
    "collapsed": false,
    "pycharm": {
     "name": "#%%\n"
    }
   }
  },
  {
   "cell_type": "markdown",
   "source": [
    "## Обучаем модель градиентного бустинга"
   ],
   "metadata": {
    "collapsed": false
   }
  },
  {
   "cell_type": "code",
   "execution_count": null,
   "outputs": [],
   "source": [
    "#!L\n",
    "train_pool = catboost.Pool(X_train, Y_train, cat_features=catboost_myob.cat_features)\n",
    "test_pool = catboost.Pool(X_test, Y_test, cat_features=catboost_myob.cat_features)\n",
    "\n",
    "clf = catboost.CatBoostClassifier(\n",
    "    learning_rate=0.02,\n",
    "    depth=6,\n",
    "    l2_leaf_reg=2,\n",
    "\n",
    "    bootstrap_type=\"Bayesian\",\n",
    "    # scale_pos_weight=en.scale_pos_weight,\n",
    "    # scale_pos_weight=1,\n",
    "    loss_function = \"Logloss\",\n",
    "    eval_metric=\"AUC:hints=skip_train~false\",\n",
    "    custom_metric=[\"Recall\", \"Precision\", \"Accuracy\", \"F1\", \"Kappa\", \"MCC\"],\n",
    "    # use_best_model=True,\n",
    "    iterations=2000,\n",
    "    od_type=\"Iter\",\n",
    "    od_wait=30,\n",
    "    rsm=1,\n",
    "    # random_seed=100,\n",
    "    task_type=\"GPU\",\n",
    "    boosting_type='Ordered',\n",
    "    logging_level=\"Verbose\",\n",
    "    train_dir=\"grid\",\n",
    "\n",
    ")\n",
    "\n",
    "\n",
    "clf.fit(\n",
    "        X=train_pool,\n",
    "        plot=False,\n",
    "        eval_set=test_pool,\n",
    "        use_best_model=True\n",
    "    )\n"
   ],
   "metadata": {
    "collapsed": false,
    "pycharm": {
     "name": "#%%\n"
    }
   }
  },
  {
   "cell_type": "markdown",
   "source": [
    "## Тестируем получившийся классификатор"
   ],
   "metadata": {
    "collapsed": false
   }
  },
  {
   "cell_type": "code",
   "execution_count": null,
   "outputs": [],
   "source": [
    "import pystan"
   ],
   "metadata": {
    "collapsed": false,
    "pycharm": {
     "name": "#%%\n"
    }
   }
  },
  {
   "cell_type": "code",
   "execution_count": null,
   "outputs": [],
   "source": [
    "# %pip install cmake\n",
    "# %pip install scorer==2.0.2 --upgrade --use-feature=2020-resolver --force-reinstall\n",
    "# %pip install pystan\n"
   ],
   "metadata": {
    "collapsed": false,
    "pycharm": {
     "name": "#%%\n"
    }
   }
  },
  {
   "cell_type": "code",
   "execution_count": null,
   "outputs": [],
   "source": [
    "def process_event_and_predict_proba(ev, orderbook):\n",
    "\n",
    "    if ev.action == ob.Action.DEAL:\n",
    "        catboost_myob.set_last_deal(ev)\n",
    "    elif ev.action == ob.Action.NEW_CHUNK:\n",
    "        catboost_myob.clear()\n",
    "\n",
    "\n",
    "\n",
    "    if not ev.need_prediction:\n",
    "        return None\n",
    "\n",
    "    features = catboost_myob.get_features(ev, orderbook)\n",
    "    proba = clf.predict_proba([features])[0, 1]\n",
    "    return proba\n",
    "\n",
    "from scorer import Scorer\n",
    "\n",
    "scoring = Scorer(\"../../data/train_small_C.npz\")\n",
    "roc_auc, (true_ys, pred_probas) = scoring.score(process_event_and_predict_proba)"
   ],
   "metadata": {
    "collapsed": false,
    "pycharm": {
     "name": "#%%\n"
    }
   }
  },
  {
   "cell_type": "markdown",
   "source": [
    "## Сохраним модель, и решение для отправки готово"
   ],
   "metadata": {
    "collapsed": false
   }
  },
  {
   "cell_type": "code",
   "execution_count": null,
   "outputs": [],
   "source": [
    "# Сохраним нашу модель\n",
    "# clf.booster_.save_model(\"wunder.model\")\n",
    "print(Path.cwd())\n",
    "clf.save_model(\"wunder.model\", format=\"cbm\")\n",
    "\n",
    "'''Посмотрите код файла solution.py.\n",
    "Он использует те же функции что и этот ноутбук, но уже готов к отправке на серверю.\n",
    "Попробуйте создать архив с файлами solution.py и wunder.model и отправить их на проверку.'''"
   ],
   "metadata": {
    "collapsed": false,
    "pycharm": {
     "name": "#%%\n"
    }
   }
  },
  {
   "cell_type": "code",
   "execution_count": null,
   "outputs": [],
   "source": [],
   "metadata": {
    "collapsed": false,
    "pycharm": {
     "name": "#%%\n"
    }
   }
  }
 ],
 "metadata": {
  "kernelspec": {
   "display_name": "Python 3",
   "language": "python",
   "name": "python3"
  },
  "language_info": {
   "codemirror_mode": {
    "name": "ipython",
    "version": 2
   },
   "file_extension": ".py",
   "mimetype": "text/x-python",
   "name": "python",
   "nbconvert_exporter": "python",
   "pygments_lexer": "ipython2",
   "version": "2.7.6"
  }
 },
 "nbformat": 4,
 "nbformat_minor": 0
}