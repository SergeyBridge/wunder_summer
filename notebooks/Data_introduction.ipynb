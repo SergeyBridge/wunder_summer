{
 "cells": [
  {
   "cell_type": "markdown",
   "metadata": {},
   "source": [
    "# Скачиванием репозиторий и данные\n",
    "\n",
    "Чтобы скачать репозиторий нужно выполнить команду\n",
    "\n",
    "```\n",
    "git clone https://github.com/Wunder-Fund/wunder_challenge ~/wunder_challenge\n",
    "```\n",
    "\n",
    "После скачивания репозитория нужно скачать данные для обучения по [ссылке](https://drive.google.com/file/d/1VoZfPUzDYD8afzowLrQfL9G2iMwhcajM/view).  \n",
    "\n",
    "Распакованные npz файлы нужно поместить в папку `~/wunder_challenge/data/`."
   ]
  },
  {
   "cell_type": "markdown",
   "metadata": {},
   "source": [
    "\n",
    "### В конкурсе используется три однородных набора данных\n",
    "\n",
    "- **train** — доступен участникам для обучения, в нём известны классы моментов `Y`\n",
    "    - Для удобства участников тренировочный набор доступен в двух вариантах\n",
    "        - **train.npz**, содержащий тренировочную выборку целиком\n",
    "        - **train_small_A.npz**, **train_small_B.npz**, **train_small_C.npz** — та же самая выборка, разбитая на три части. Этот вариант удобно использовать для кросс-валидации\n",
    "- **test** —  используется для составления публичного лидерборда до окончания конкурса\n",
    "- **validation** — используется для составления финального лидерборда"
   ]
  },
  {
   "cell_type": "markdown",
   "metadata": {},
   "source": [
    "# Анализ данных "
   ]
  },
  {
   "cell_type": "markdown",
   "metadata": {},
   "source": [
    "### Все сообщения в файлах имеют структуру Event"
   ]
  },
  {
   "cell_type": "code",
   "execution_count": 8,
   "metadata": {},
   "outputs": [],
   "source": [
    "from collections import namedtuple\n",
    "\n",
    "EventBody = namedtuple('EventBody', \n",
    "                   ['time', 'id', 'action', 'type', 'side', 'price', 'amount', 'is_snapshot', 'Y'])\n",
    "\n",
    "class Event(EventBody):\n",
    "    @property\n",
    "    def need_prediction(self):\n",
    "        return self.Y >= 0"
   ]
  },
  {
   "cell_type": "markdown",
   "metadata": {},
   "source": [
    "### Описание полей Event"
   ]
  },
  {
   "cell_type": "markdown",
   "metadata": {},
   "source": [
    "* **time** - время события с точностью 1 микросекунда\n",
    "* **action** - событие которое произошло \n",
    "  * action = 0: удаление ордера\n",
    "  * action = 1: добавление ордера\n",
    "  * action = 2: изменение объёма ордера\n",
    "  * action = 3: сделка\n",
    "  * action = 10: означает что предыдущий кусок данных закончен и начинается новый.\n",
    "* **id** - Номер ордера с которым происходит событие (добавление, удаление, изменение объема)\n",
    "  * для сделок это номер сделки\n",
    "* **type** - Тип ордера \n",
    "  * type = 1: LIMIT ордер - это ордер который останется в стакане до тех пор пока на него не прийдёт удалние\n",
    "  * type = 2: IOC ордер - это ордер который сразу же удалится после добавляния в стакан и сведение сделок\n",
    "* **side** - Сторона ордера для событий action = 0,1,2 и сторона аггресивного ордера для сделки (action = 3)\n",
    "  * side = 0: ордер на покупку\n",
    "  * side = 1: ордер на продажу\n",
    "* **price** - Цена ордера или сделки (action = 3)\n",
    "* **amount** - Новый объем ордера при добавлении/изменении объема (action = 1,2) или сделки (action = 3)\n",
    "* **is_snapshot** - флаг означающий из снимка стакана ордер или нет \n",
    "  * is_snapshot = True: событие из снимка стакана\n",
    "  * is_snapshot = False: событие не из снимка стакана\n",
    "  * Данные записаны следущим образом: \n",
    "      * сначала идёт порция событий чтобы построить начальное состояние стакана - снимок стакана\n",
    "      * затем идут обычный лог событий изменяющих стакан \n",
    "* **Y** - целевой класс моментов который надо предсказать для момента для которого он проставлен\n",
    "  * Y = 0, 1 -- значит для текущего события нужно предсказать класс 0 или 1\n",
    "  * Y < 0 - на этом моменте не нужно ничего предсказывать\n",
    "  * На большинстве моментов ничего предсказывать не нужно\n"
   ]
  },
  {
   "cell_type": "markdown",
   "metadata": {},
   "source": [
    "### Загрузим данные и посмотрим на них"
   ]
  },
  {
   "cell_type": "code",
   "execution_count": 13,
   "metadata": {},
   "outputs": [],
   "source": [
    "import numpy as np\n",
    "# Данные хранятся в сжатом numpy массиве\n",
    "data = np.load(\"../data/train_small_A.npz\")\n",
    "\n",
    "# загружаем события\n",
    "events_raw = data[\"events\"]\n",
    "events = [Event(*ev) for ev in events_raw[:10000]]\n",
    "    \n",
    "def find_first_event(action, is_snapshot, need_prediction):\n",
    "    '''Находим первое событие с нужными параметрами'''\n",
    "    found_events = [ev for ev in events \n",
    "                    if ev.action == action\n",
    "                      and ev.is_snapshot == is_snapshot \n",
    "                      and ev.need_prediction == need_prediction]\n",
    "    return found_events[0]"
   ]
  },
  {
   "cell_type": "markdown",
   "metadata": {},
   "source": [
    "## Примеры различных событий"
   ]
  },
  {
   "cell_type": "markdown",
   "metadata": {},
   "source": [
    "### Новый кусок данных"
   ]
  },
  {
   "cell_type": "code",
   "execution_count": 14,
   "metadata": {},
   "outputs": [
    {
     "name": "stdout",
     "output_type": "stream",
     "text": [
      "Event(time=0, id=0, action=10, type=0, side=0, price=0, amount=0, is_snapshot=0, Y=-1)\n"
     ]
    }
   ],
   "source": [
    "# action = 10 - значит начался новый кусок данных\n",
    "print(events[0])"
   ]
  },
  {
   "cell_type": "markdown",
   "metadata": {},
   "source": [
    "### Добавление ордера"
   ]
  },
  {
   "cell_type": "code",
   "execution_count": 17,
   "metadata": {},
   "outputs": [
    {
     "name": "stdout",
     "output_type": "stream",
     "text": [
      "Event(time=42687740354, id=0, action=1, type=1, side=1, price=5035, amount=2, is_snapshot=1, Y=-1)\n"
     ]
    }
   ],
   "source": [
    "# action = 1 - добавление ордера LIMIT (type=1) на продажу (side=1) \n",
    "# по цене price=5035 и объёмом amount=2.\n",
    "# Это событие из снимка стакана (is_snapshot = 1)\n",
    "# Для него ничего предсказывать не нужно (Y < 0)\n",
    "\n",
    "print(find_first_event(action=1, is_snapshot=1, need_prediction=False))"
   ]
  },
  {
   "cell_type": "markdown",
   "metadata": {},
   "source": [
    "### Удаление ордера"
   ]
  },
  {
   "cell_type": "code",
   "execution_count": 20,
   "metadata": {},
   "outputs": [
    {
     "name": "stdout",
     "output_type": "stream",
     "text": [
      "Event(time=14170040196, id=3118, action=0, type=1, side=0, price=1078, amount=0, is_snapshot=0, Y=0)\n"
     ]
    }
   ],
   "source": [
    "# action = 0 - удаление ордера id=3118 на покупку (side=0) по цене price=1078.\n",
    "# Это событие не из снимка стакана (is_snapshot = 0)\n",
    "# Для него нужно предсказать что Y=0\n",
    "\n",
    "print(find_first_event(action=0, is_snapshot=0, need_prediction=True))"
   ]
  },
  {
   "cell_type": "markdown",
   "metadata": {},
   "source": [
    "### Изменение объёма ордера"
   ]
  },
  {
   "cell_type": "code",
   "execution_count": 23,
   "metadata": {},
   "outputs": [
    {
     "name": "stdout",
     "output_type": "stream",
     "text": [
      "Event(time=14156125404, id=3201, action=2, type=1, side=1, price=1208, amount=1, is_snapshot=0, Y=-1)\n"
     ]
    }
   ],
   "source": [
    "# action = 2 - изменение объема ордера id=3201 на продажу (side=1) \n",
    "# по цене price=1208. Новый объём = amount = 1\n",
    "# Это событие не из снимка стакана (is_snapshot = 0)\n",
    "# Для него ничего предсказывать не нужно (Y < 0)\n",
    "\n",
    "print(find_first_event(action=2, is_snapshot=0, need_prediction=False))"
   ]
  },
  {
   "cell_type": "markdown",
   "metadata": {},
   "source": [
    "### Сделка"
   ]
  },
  {
   "cell_type": "code",
   "execution_count": 25,
   "metadata": {},
   "outputs": [
    {
     "name": "stdout",
     "output_type": "stream",
     "text": [
      "Event(time=14154129630, id=3180, action=3, type=0, side=1, price=1208, amount=1, is_snapshot=0, Y=-1)\n"
     ]
    }
   ],
   "source": [
    "# action = 3 - это сделка по цене price=1208 на объём amount=1. \n",
    "# Сторона агрессивного ордера side=1. \n",
    "# Это значит что кто-то продал своим агрессивным ордером тому кто уже стоял в стакане\n",
    "# Это событие не из снимка стакана (is_snapshot = 0)\n",
    "# Для него ничего предсказывать не нужно (Y < 0)\n",
    "\n",
    "print(find_first_event(action=3, is_snapshot=0, need_prediction=False))"
   ]
  }
 ],
 "metadata": {
  "kernelspec": {
   "display_name": "Python 3",
   "language": "python",
   "name": "python3"
  },
  "language_info": {
   "codemirror_mode": {
    "name": "ipython",
    "version": 3
   },
   "file_extension": ".py",
   "mimetype": "text/x-python",
   "name": "python",
   "nbconvert_exporter": "python",
   "pygments_lexer": "ipython3",
   "version": "3.8.2"
  }
 },
 "nbformat": 4,
 "nbformat_minor": 4
}
